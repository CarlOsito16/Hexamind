{
 "cells": [
  {
   "cell_type": "code",
   "execution_count": 149,
   "metadata": {},
   "outputs": [],
   "source": [
    "import re\n",
    "from pdfminer.high_level import extract_pages, extract_text"
   ]
  },
  {
   "cell_type": "code",
   "execution_count": 151,
   "metadata": {},
   "outputs": [
    {
     "ename": "TypeError",
     "evalue": "Unsupported input type: <class 'pdfminer.layout.LTTextBoxHorizontal'>",
     "output_type": "error",
     "traceback": [
      "\u001b[0;31m---------------------------------------------------------------------------\u001b[0m",
      "\u001b[0;31mTypeError\u001b[0m                                 Traceback (most recent call last)",
      "Cell \u001b[0;32mIn[151], line 3\u001b[0m\n\u001b[1;32m      1\u001b[0m \u001b[39mfor\u001b[39;00m page_layout \u001b[39min\u001b[39;00m extract_pages(\u001b[39m\"\u001b[39m\u001b[39mattestation.pdf\u001b[39m\u001b[39m\"\u001b[39m):\n\u001b[1;32m      2\u001b[0m     \u001b[39mfor\u001b[39;00m element \u001b[39min\u001b[39;00m page_layout:\n\u001b[0;32m----> 3\u001b[0m         \u001b[39mprint\u001b[39m(extract_text(element))\n",
      "File \u001b[0;32m~/Documents/Virtual_Environment/hxm-pdf/lib/python3.10/site-packages/pdfminer/high_level.py:162\u001b[0m, in \u001b[0;36mextract_text\u001b[0;34m(pdf_file, password, page_numbers, maxpages, caching, codec, laparams)\u001b[0m\n\u001b[1;32m    159\u001b[0m \u001b[39mif\u001b[39;00m laparams \u001b[39mis\u001b[39;00m \u001b[39mNone\u001b[39;00m:\n\u001b[1;32m    160\u001b[0m     laparams \u001b[39m=\u001b[39m LAParams()\n\u001b[0;32m--> 162\u001b[0m \u001b[39mwith\u001b[39;00m open_filename(pdf_file, \u001b[39m\"\u001b[39;49m\u001b[39mrb\u001b[39;49m\u001b[39m\"\u001b[39;49m) \u001b[39mas\u001b[39;00m fp, StringIO() \u001b[39mas\u001b[39;00m output_string:\n\u001b[1;32m    163\u001b[0m     fp \u001b[39m=\u001b[39m cast(BinaryIO, fp)  \u001b[39m# we opened in binary mode\u001b[39;00m\n\u001b[1;32m    164\u001b[0m     rsrcmgr \u001b[39m=\u001b[39m PDFResourceManager(caching\u001b[39m=\u001b[39mcaching)\n",
      "File \u001b[0;32m~/Documents/Virtual_Environment/hxm-pdf/lib/python3.10/site-packages/pdfminer/utils.py:59\u001b[0m, in \u001b[0;36mopen_filename.__init__\u001b[0;34m(self, filename, *args, **kwargs)\u001b[0m\n\u001b[1;32m     57\u001b[0m     \u001b[39mself\u001b[39m\u001b[39m.\u001b[39mclosing \u001b[39m=\u001b[39m \u001b[39mFalse\u001b[39;00m\n\u001b[1;32m     58\u001b[0m \u001b[39melse\u001b[39;00m:\n\u001b[0;32m---> 59\u001b[0m     \u001b[39mraise\u001b[39;00m \u001b[39mTypeError\u001b[39;00m(\u001b[39m\"\u001b[39m\u001b[39mUnsupported input type: \u001b[39m\u001b[39m%s\u001b[39;00m\u001b[39m\"\u001b[39m \u001b[39m%\u001b[39m \u001b[39mtype\u001b[39m(filename))\n",
      "\u001b[0;31mTypeError\u001b[0m: Unsupported input type: <class 'pdfminer.layout.LTTextBoxHorizontal'>"
     ]
    }
   ],
   "source": [
    "for page_layout in extract_pages(\"attestation.pdf\"):\n",
    "    for element in page_layout:\n",
    "        print(extract_text(element))"
   ]
  },
  {
   "cell_type": "code",
   "execution_count": 152,
   "metadata": {},
   "outputs": [
    {
     "name": "stdout",
     "output_type": "stream",
     "text": [
      "ATTESTATION D'HÉBERGEMENT À LA MAISEL SUDPARIS\n",
      "\n",
      "Je soussigné, Philippe BEAULIEU, Directeur de la MAISEL SudParis, atteste que :\n",
      "I, the undersigned Philippe BEAULIEU, MAISEL SudParis Manager, do here by certify that :\n",
      "\n",
      "Nom : KAEWNOPARAT\n",
      "Last name\n",
      "\n",
      "Prénom : Kanawut\n",
      "First name\n",
      "\n",
      "Etudiant(e) à : Télécom SudParis\n",
      "Student at\n",
      "\n",
      "N°identifiant : 36344\n",
      "Id number\n",
      "\n",
      "pourra  bénéficier  d’un  logement  à  la  MAISEL  SudParis,  5,  rue  Charles  Fourier  91000  EVRY,  France\n",
      "pendant  l’année  scolaire  2022-2023,  sous  réserve  qu’il  (elle)  réponde  à  nos  critères  d’attribution  et  qu’il\n",
      "(elle) se conforme à notre procédure de demande d’hébergement.\n",
      "will rent an accomodation at the  MAISEL SudParis, 5, rue Charles Fourier 91000 EVRY, France during\n",
      "the  academic  year  2022-2023,  under  the  condition  that  he/she  complies  with  the  MAISEL  SudParis\n",
      "admission rules.\n",
      "\n",
      "Attestation établie à la demande de l’intéressé(e), pour servir et valoir ce que de droit.\n",
      "Certificate established on behalf of the student.\n",
      "\n",
      "A Evry, le 04/07/2022\n",
      "Certified in Evry\n",
      "\n",
      "Christine Gonzalez,\n",
      "Directrice de la Maisel SudParis\n",
      "\n",
      "Maison des Elèves SudParis (MAISEL SudPARIS)\n",
      "5, rue Charles Fourier 91011 EVRY Cedex, France téléphone : +33 (0)1 60 76 40 70 fax : +33 (0)1 60 76 40 51\n",
      "N° SIRET 397 734583 00016 CCP 13595 91 X PARIS Code APE 552 F Association Loi 1901\n",
      "\n",
      "Powered by TCPDF (www.tcpdf.org)\n",
      "\n",
      "\f\n"
     ]
    }
   ],
   "source": [
    "text =  extract_text(\"attestation.pdf\")\n",
    "print(text)"
   ]
  },
  {
   "cell_type": "code",
   "execution_count": 42,
   "metadata": {},
   "outputs": [],
   "source": [
    "nom_pattern = re.compile(\"(?<=Nom :)(.*)\")\n",
    "prenom_pattern = re.compile(\"(?<=Prénom :)(.*)\")\n",
    "school_pattern = re.compile(\"(?<=Etudiant(e) à :)(.*)\")\n",
    "id_pattern =  re.compile(\"(?<=N°identifiant :)(.*)\")"
   ]
  },
  {
   "cell_type": "code",
   "execution_count": 44,
   "metadata": {},
   "outputs": [
    {
     "name": "stdout",
     "output_type": "stream",
     "text": [
      " KAEWNOPARAT\n",
      " Kanawut\n",
      " 36344\n"
     ]
    }
   ],
   "source": [
    "print(nom_pattern.search(text).group(1))\n",
    "print(prenom_pattern.search(text).group(1))\n",
    "print(id_pattern.search(text).group(1))"
   ]
  },
  {
   "cell_type": "code",
   "execution_count": 46,
   "metadata": {},
   "outputs": [
    {
     "name": "stdout",
     "output_type": "stream",
     "text": [
      "ATTESTATION D'HÉBERGEMENT À LA MAISEL SUDPARIS\n",
      "\n",
      "Je soussigné, Philippe BEAULIEU, Directeur de la MAISEL SudParis, atteste que :\n",
      "I, the undersigned Philippe BEAULIEU, MAISEL SudParis Manager, do here by certify that :\n",
      "\n",
      "Nom : KAEWNOPARAT\n",
      "Last name\n",
      "\n",
      "Prénom : Kanawut\n",
      "First name\n",
      "\n",
      "Etudiant(e) à : Télécom SudParis\n",
      "Student at\n",
      "\n",
      "N°identifiant : 36344\n",
      "Id number\n",
      "\n",
      "pourra  bénéficier  d’un  logement  à  la  MAISEL  SudParis,  5,  rue  Charles  Fourier  91000  EVRY,  France\n",
      "pendant  l’année  scolaire  2022-2023,  sous  réserve  qu’il  (elle)  réponde  à  nos  critères  d’attribution  et  qu’il\n",
      "(elle) se conforme à notre procédure de demande d’hébergement.\n",
      "will rent an accomodation at the  MAISEL SudParis, 5, rue Charles Fourier 91000 EVRY, France during\n",
      "the  academic  year  2022-2023,  under  the  condition  that  he/she  complies  with  the  MAISEL  SudParis\n",
      "admission rules.\n",
      "\n",
      "Attestation établie à la demande de l’intéressé(e), pour servir et valoir ce que de droit.\n",
      "Certificate established on behalf of the student.\n",
      "\n",
      "A Evry, le 04/07/2022\n",
      "Certified in Evry\n",
      "\n",
      "Christine Gonzalez,\n",
      "Directrice de la Maisel SudParis\n",
      "\n",
      "Maison des Elèves SudParis (MAISEL SudPARIS)\n",
      "5, rue Charles Fourier 91011 EVRY Cedex, France téléphone : +33 (0)1 60 76 40 70 fax : +33 (0)1 60 76 40 51\n",
      "N° SIRET 397 734583 00016 CCP 13595 91 X PARIS Code APE 552 F Association Loi 1901\n",
      "\n",
      "Powered by TCPDF (www.tcpdf.org)\n",
      "\n",
      "\f\n"
     ]
    }
   ],
   "source": [
    "print(text)"
   ]
  },
  {
   "cell_type": "code",
   "execution_count": 48,
   "metadata": {},
   "outputs": [],
   "source": [
    "def get_info(pdf_file):\n",
    "    text =  extract_text(pdf_file)\n",
    "    lastname = nom_pattern.search(text).group(1)\n",
    "    name = prenom_pattern.search(text).group(1)\n",
    "    id = id_pattern.search(text).group(1)\n",
    "    \n",
    "    \n",
    "    return {\"lastname\" : lastname,\n",
    "            \"name\": name,\n",
    "            \"id\":  id}"
   ]
  },
  {
   "cell_type": "code",
   "execution_count": 50,
   "metadata": {},
   "outputs": [
    {
     "name": "stdout",
     "output_type": "stream",
     "text": [
      "{'lastname': ' KAEWNOPARAT', 'name': ' Kanawut', 'id': ' 36344'}\n"
     ]
    }
   ],
   "source": [
    "print(get_info(\"attestation.pdf\"))"
   ]
  },
  {
   "cell_type": "code",
   "execution_count": null,
   "metadata": {},
   "outputs": [],
   "source": []
  },
  {
   "attachments": {},
   "cell_type": "markdown",
   "metadata": {},
   "source": [
    "## pdfquery"
   ]
  },
  {
   "cell_type": "code",
   "execution_count": 155,
   "metadata": {},
   "outputs": [],
   "source": [
    "import pdfquery"
   ]
  },
  {
   "cell_type": "code",
   "execution_count": 156,
   "metadata": {},
   "outputs": [],
   "source": [
    "pdf = pdfquery.PDFQuery('attestation.pdf')\n",
    "pdf.load()"
   ]
  },
  {
   "cell_type": "code",
   "execution_count": 157,
   "metadata": {},
   "outputs": [],
   "source": [
    "pdf.tree.write('pdfXML.txt', pretty_print = True)"
   ]
  },
  {
   "cell_type": "code",
   "execution_count": 117,
   "metadata": {},
   "outputs": [
    {
     "data": {
      "text/plain": [
       "(33.431, 606.795, 126.964, 617.949)"
      ]
     },
     "execution_count": 117,
     "metadata": {},
     "output_type": "execute_result"
    }
   ],
   "source": [
    "33.431, 606.795, 126.964, 617.949"
   ]
  },
  {
   "cell_type": "code",
   "execution_count": 159,
   "metadata": {},
   "outputs": [],
   "source": [
    "def clean_text_data(text):\n",
    "    return text.split(': ')[1]"
   ]
  },
  {
   "cell_type": "code",
   "execution_count": 160,
   "metadata": {},
   "outputs": [],
   "source": [
    "s = pdf.pq('LTTextLineHorizontal:in_bbox(\"33.431, 606.795, 126.964, 617.949\")').text()"
   ]
  },
  {
   "cell_type": "code",
   "execution_count": 218,
   "metadata": {},
   "outputs": [],
   "source": [
    "lastname = pdf.pq('LTTextLineHorizontal:contains(\"Nom\")').text()\n",
    "name = pdf.pq('LTTextLineHorizontal:contains(\"Prénom\")').text()\n",
    "id  = pdf.pq('LTTextLineHorizontal:contains(\"id\")').text()\n",
    "school  = pdf.pq('LTTextLineHorizontal:contains(\"tudiant\")').text()\n",
    "address = \"\".join(pdf.pq('LTTextLineHorizontal:contains(\"pourra\")').text().split(\" ,\")[1:])\n",
    "year = pdf.pq('LTTextLineHorizontal:contains(\"l’année scolaire\")').text()\n",
    "verify_date = pdf.pq('LTTextLineHorizontal:in_bbox(\"33.431, 390.629, 138.602, 401.629\")').text()[-10:]\n"
   ]
  },
  {
   "cell_type": "code",
   "execution_count": 197,
   "metadata": {},
   "outputs": [],
   "source": [
    "year = pdf.pq('LTTextLineHorizontal:contains(\"l’année scolaire\")').text()"
   ]
  },
  {
   "cell_type": "code",
   "execution_count": 219,
   "metadata": {},
   "outputs": [
    {
     "data": {
      "text/plain": [
       "'04/07/2022'"
      ]
     },
     "execution_count": 219,
     "metadata": {},
     "output_type": "execute_result"
    }
   ],
   "source": [
    "pdf.pq('LTTextLineHorizontal:in_bbox(\"33.431, 390.629, 138.602, 401.629\")').text()[-10:]"
   ]
  },
  {
   "cell_type": "code",
   "execution_count": 209,
   "metadata": {},
   "outputs": [],
   "source": [
    "def clean_year(text):\n",
    "    output = re.compile(\"scolaire (.*),\").search(text).group(1)\n",
    "    return output"
   ]
  },
  {
   "cell_type": "code",
   "execution_count": 210,
   "metadata": {},
   "outputs": [
    {
     "data": {
      "text/plain": [
       "'2022-2023'"
      ]
     },
     "execution_count": 210,
     "metadata": {},
     "output_type": "execute_result"
    }
   ],
   "source": [
    "clean_year(year)"
   ]
  },
  {
   "cell_type": "code",
   "execution_count": 208,
   "metadata": {},
   "outputs": [
    {
     "data": {
      "text/plain": [
       "'2022-2023'"
      ]
     },
     "execution_count": 208,
     "metadata": {},
     "output_type": "execute_result"
    }
   ],
   "source": [
    "re.compile(\"scolaire (.*),\").search(year).group(1)"
   ]
  },
  {
   "cell_type": "code",
   "execution_count": 201,
   "metadata": {},
   "outputs": [
    {
     "data": {
      "text/plain": [
       "'5 rue Charles Fourier 91000 EVRY France'"
      ]
     },
     "execution_count": 201,
     "metadata": {},
     "output_type": "execute_result"
    }
   ],
   "source": [
    "\" \".join(pdf.pq('LTTextLineHorizontal:contains(\"pourra\")').text().split(\", \")[1:])"
   ]
  },
  {
   "cell_type": "code",
   "execution_count": 220,
   "metadata": {},
   "outputs": [],
   "source": [
    "def use_pdfquery(pdf):\n",
    "    pdf = pdfquery.PDFQuery('attestation.pdf')\n",
    "    pdf.load()\n",
    "    lastname = pdf.pq('LTTextLineHorizontal:contains(\"Nom\")').text()\n",
    "    name = pdf.pq('LTTextLineHorizontal:contains(\"Prénom\")').text()\n",
    "    id  = pdf.pq('LTTextLineHorizontal:contains(\"id\")').text()\n",
    "    school  = pdf.pq('LTTextLineHorizontal:contains(\"tudiant\")').text()\n",
    "    address  = \" \".join(pdf.pq('LTTextLineHorizontal:contains(\"pourra\")').text().split(\", \")[1:])\n",
    "    year = pdf.pq('LTTextLineHorizontal:contains(\"l’année scolaire\")').text()\n",
    "    certify_date = pdf.pq('LTTextLineHorizontal:in_bbox(\"33.431, 390.629, 138.602, 401.629\")').text()[-10:]\n",
    "    \n",
    "    return {'lastname': clean_text_data(lastname),\n",
    "            'name': clean_text_data(name),\n",
    "            \"id\": clean_text_data(id),\n",
    "            'school': clean_text_data(school),\n",
    "            'address' : address,\n",
    "            'academic_year': clean_year(year),\n",
    "            'certify_date': certify_date}"
   ]
  },
  {
   "cell_type": "code",
   "execution_count": 221,
   "metadata": {},
   "outputs": [
    {
     "data": {
      "text/plain": [
       "{'lastname': 'KAEWNOPARAT',\n",
       " 'name': 'Kanawut',\n",
       " 'id': '36344',\n",
       " 'school': 'Télécom SudParis',\n",
       " 'address': '5 rue Charles Fourier 91000 EVRY France',\n",
       " 'academic_year': '2022-2023',\n",
       " 'certify_date': '04/07/2022'}"
      ]
     },
     "execution_count": 221,
     "metadata": {},
     "output_type": "execute_result"
    }
   ],
   "source": [
    "use_pdfquery(\"attestation.pdf\")"
   ]
  },
  {
   "attachments": {},
   "cell_type": "markdown",
   "metadata": {},
   "source": [
    "## TSP Student Card"
   ]
  },
  {
   "cell_type": "code",
   "execution_count": 143,
   "metadata": {},
   "outputs": [],
   "source": [
    "student_pdf = pdfquery.PDFQuery('attestation.pdf')\n",
    "student_pdf.load()"
   ]
  },
  {
   "cell_type": "code",
   "execution_count": 144,
   "metadata": {},
   "outputs": [
    {
     "data": {
      "text/plain": [
       "<pdfquery.pdfquery.PDFQuery at 0x107b14760>"
      ]
     },
     "execution_count": 144,
     "metadata": {},
     "output_type": "execute_result"
    }
   ],
   "source": [
    "student_pdf"
   ]
  },
  {
   "cell_type": "code",
   "execution_count": 145,
   "metadata": {},
   "outputs": [],
   "source": [
    "student_pdf.tree.write('something.txt', pretty_print = True)"
   ]
  },
  {
   "cell_type": "code",
   "execution_count": 148,
   "metadata": {},
   "outputs": [
    {
     "ename": "TypeError",
     "evalue": "Unsupported input type: <class 'pdfminer.layout.LTFigure'>",
     "output_type": "error",
     "traceback": [
      "\u001b[0;31m---------------------------------------------------------------------------\u001b[0m",
      "\u001b[0;31mTypeError\u001b[0m                                 Traceback (most recent call last)",
      "Cell \u001b[0;32mIn[148], line 3\u001b[0m\n\u001b[1;32m      1\u001b[0m \u001b[39mfor\u001b[39;00m page_layout \u001b[39min\u001b[39;00m extract_pages(\u001b[39m\"\u001b[39m\u001b[39mBDN_Kanawut_KAEWNOPARATsigned.pdf\u001b[39m\u001b[39m\"\u001b[39m):\n\u001b[1;32m      2\u001b[0m     \u001b[39mfor\u001b[39;00m element \u001b[39min\u001b[39;00m page_layout:\n\u001b[0;32m----> 3\u001b[0m         \u001b[39mprint\u001b[39m(extract_text(element))\n",
      "File \u001b[0;32m~/Documents/Virtual_Environment/hxm-pdf/lib/python3.10/site-packages/pdfminer/high_level.py:162\u001b[0m, in \u001b[0;36mextract_text\u001b[0;34m(pdf_file, password, page_numbers, maxpages, caching, codec, laparams)\u001b[0m\n\u001b[1;32m    159\u001b[0m \u001b[39mif\u001b[39;00m laparams \u001b[39mis\u001b[39;00m \u001b[39mNone\u001b[39;00m:\n\u001b[1;32m    160\u001b[0m     laparams \u001b[39m=\u001b[39m LAParams()\n\u001b[0;32m--> 162\u001b[0m \u001b[39mwith\u001b[39;00m open_filename(pdf_file, \u001b[39m\"\u001b[39;49m\u001b[39mrb\u001b[39;49m\u001b[39m\"\u001b[39;49m) \u001b[39mas\u001b[39;00m fp, StringIO() \u001b[39mas\u001b[39;00m output_string:\n\u001b[1;32m    163\u001b[0m     fp \u001b[39m=\u001b[39m cast(BinaryIO, fp)  \u001b[39m# we opened in binary mode\u001b[39;00m\n\u001b[1;32m    164\u001b[0m     rsrcmgr \u001b[39m=\u001b[39m PDFResourceManager(caching\u001b[39m=\u001b[39mcaching)\n",
      "File \u001b[0;32m~/Documents/Virtual_Environment/hxm-pdf/lib/python3.10/site-packages/pdfminer/utils.py:59\u001b[0m, in \u001b[0;36mopen_filename.__init__\u001b[0;34m(self, filename, *args, **kwargs)\u001b[0m\n\u001b[1;32m     57\u001b[0m     \u001b[39mself\u001b[39m\u001b[39m.\u001b[39mclosing \u001b[39m=\u001b[39m \u001b[39mFalse\u001b[39;00m\n\u001b[1;32m     58\u001b[0m \u001b[39melse\u001b[39;00m:\n\u001b[0;32m---> 59\u001b[0m     \u001b[39mraise\u001b[39;00m \u001b[39mTypeError\u001b[39;00m(\u001b[39m\"\u001b[39m\u001b[39mUnsupported input type: \u001b[39m\u001b[39m%s\u001b[39;00m\u001b[39m\"\u001b[39m \u001b[39m%\u001b[39m \u001b[39mtype\u001b[39m(filename))\n",
      "\u001b[0;31mTypeError\u001b[0m: Unsupported input type: <class 'pdfminer.layout.LTFigure'>"
     ]
    }
   ],
   "source": [
    "for page_layout in extract_pages(\"BDN_Kanawut_KAEWNOPARATsigned.pdf\"):\n",
    "    for element in page_layout:\n",
    "        print(extract_text(element))"
   ]
  },
  {
   "cell_type": "code",
   "execution_count": 154,
   "metadata": {},
   "outputs": [
    {
     "data": {
      "text/plain": [
       "'\\x0c'"
      ]
     },
     "execution_count": 154,
     "metadata": {},
     "output_type": "execute_result"
    }
   ],
   "source": [
    "extract_text(\"TSP student card.pdf\")"
   ]
  },
  {
   "cell_type": "code",
   "execution_count": 222,
   "metadata": {},
   "outputs": [],
   "source": [
    "mydict= {'lastname': 'KAEWNOPARAT', 'name': 'Kanawut', 'id': '36344', 'school': 'Télécom SudParis', 'address': '5 rue Charles Fourier 91000 EVRY France', 'academic_year': '2022-2023', 'certify_date': '04/07/2022'}"
   ]
  },
  {
   "cell_type": "code",
   "execution_count": 223,
   "metadata": {},
   "outputs": [],
   "source": [
    "import pandas as pd"
   ]
  },
  {
   "cell_type": "code",
   "execution_count": 227,
   "metadata": {},
   "outputs": [],
   "source": [
    "a = resutl = pd.DataFrame(mydict, index=[0])"
   ]
  },
  {
   "cell_type": "code",
   "execution_count": 228,
   "metadata": {},
   "outputs": [],
   "source": [
    "a.to_clipboard(index=False)"
   ]
  },
  {
   "cell_type": "code",
   "execution_count": 231,
   "metadata": {},
   "outputs": [],
   "source": [
    "a.to_clipboard()"
   ]
  },
  {
   "cell_type": "code",
   "execution_count": null,
   "metadata": {},
   "outputs": [],
   "source": []
  }
 ],
 "metadata": {
  "kernelspec": {
   "display_name": "hxm-pdf",
   "language": "python",
   "name": "python3"
  },
  "language_info": {
   "codemirror_mode": {
    "name": "ipython",
    "version": 3
   },
   "file_extension": ".py",
   "mimetype": "text/x-python",
   "name": "python",
   "nbconvert_exporter": "python",
   "pygments_lexer": "ipython3",
   "version": "3.10.5"
  },
  "orig_nbformat": 4,
  "vscode": {
   "interpreter": {
    "hash": "49b76298121f146da7c00bdbdf8dd3bc703b32bb65f5819354136acec256e869"
   }
  }
 },
 "nbformat": 4,
 "nbformat_minor": 2
}
