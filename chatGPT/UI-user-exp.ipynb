{
 "cells": [
  {
   "cell_type": "code",
   "execution_count": 17,
   "metadata": {},
   "outputs": [],
   "source": [
    "import numpy as np\n",
    "from datetime import datetime"
   ]
  },
  {
   "cell_type": "code",
   "execution_count": 76,
   "metadata": {},
   "outputs": [],
   "source": [
    "class client:\n",
    "    def __init__(self) -> None:\n",
    "        self.id = np.random.randint(10)\n",
    "        self.created_at = datetime.now().strftime(\"%d/%m/%Y %H:%M:%S\")\n",
    "        self.total_conversation = []\n",
    "        \n",
    "    def start_conversation(self):\n",
    "        self.new_conversation = Conversation()\n",
    "        self.total_conversation.append(self.new_conversation)\n",
    "        \n",
    "    def add_message(self, message):\n",
    "        self.new_conversation.add_message(message)\n",
    "        \n",
    "        \n",
    "        \n",
    "\n",
    "class Conversation:\n",
    "    def __init__(self) -> None:\n",
    "        self.created_at = datetime.now().strftime(\"%d/%m/%Y %H:%M:%S\")\n",
    "        self.messages = {}\n",
    "        \n",
    "    def add_message(self, message):\n",
    "        self.messages['created_at']  = datetime.now().strftime(\"%d/%m/%Y %H:%M:%S\")\n",
    "        self.messages['message'] = message\n",
    "        \n",
    "        \n",
    "class Message:\n",
    "    def __init__(self) -> None:\n",
    "        self.created_at = datetime.now().strftime(\"%d/%m/%Y %H:%M:%S\")\n",
    "        \n",
    "    "
   ]
  },
  {
   "cell_type": "code",
   "execution_count": 160,
   "metadata": {},
   "outputs": [],
   "source": [
    "class Client:\n",
    "    def __init__(self):\n",
    "        self.id = np.random.randint(10)\n",
    "        self.created_at = datetime.now().strftime(\"%d/%m/%Y %H:%M:%S\")\n",
    "        self.total_conversation = []\n",
    "\n",
    "    def start_conversation(self):\n",
    "        self.new_conversation = Conversation()\n",
    "        self.total_conversation.append(self.new_conversation)\n",
    "\n",
    "    def add_message(self, message):\n",
    "        self.new_conversation.add_message(message)  \n",
    "        \n",
    "    def end_conversation(self):\n",
    "        self.new_conversation.terminate()\n",
    "\n",
    "\n",
    "class Conversation:\n",
    "    def __init__(self):\n",
    "        self.created_at = datetime.now().strftime(\"%d/%m/%Y %H:%M:%S\")\n",
    "        self.messages = []\n",
    "\n",
    "    def add_message(self, message):\n",
    "        message = {\n",
    "            'created_at': datetime.now().strftime(\"%d/%m/%Y %H:%M:%S\"),\n",
    "            'message': message\n",
    "        }\n",
    "        self.messages.append(message)\n",
    "        \n",
    "        \n",
    "    def terminate(self):\n",
    "        self.ended_at = datetime.now().strftime(\"%d/%m/%Y %H:%M:%S\")\n",
    "\n"
   ]
  },
  {
   "cell_type": "code",
   "execution_count": 183,
   "metadata": {},
   "outputs": [
    {
     "name": "stdout",
     "output_type": "stream",
     "text": [
      "7\n",
      "16/03/2023 10:39:28\n"
     ]
    }
   ],
   "source": [
    "a = Client()\n",
    "print(a.id)\n",
    "print(a.created_at)"
   ]
  },
  {
   "cell_type": "code",
   "execution_count": 184,
   "metadata": {},
   "outputs": [],
   "source": [
    "a.start_conversation()"
   ]
  },
  {
   "cell_type": "code",
   "execution_count": 188,
   "metadata": {},
   "outputs": [
    {
     "data": {
      "text/plain": [
       "[{'created_at': '16/03/2023 10:39:41', 'message': 'new -convo'},\n",
       " {'created_at': '16/03/2023 10:39:45', 'message': 'hey'},\n",
       " {'created_at': '16/03/2023 10:39:48', 'message': 'how are you'}]"
      ]
     },
     "execution_count": 188,
     "metadata": {},
     "output_type": "execute_result"
    }
   ],
   "source": [
    "a.add_message('how are you')\n",
    "a.total_conversation[0].messages"
   ]
  },
  {
   "cell_type": "code",
   "execution_count": 189,
   "metadata": {},
   "outputs": [],
   "source": [
    "a.end_conversation()"
   ]
  },
  {
   "cell_type": "code",
   "execution_count": 173,
   "metadata": {},
   "outputs": [
    {
     "data": {
      "text/plain": [
       "[{'created_at': '16/03/2023 10:28:54', 'message': 'hello'},\n",
       " {'created_at': '16/03/2023 10:28:58', 'message': 'good'},\n",
       " {'created_at': '16/03/2023 10:29:01', 'message': 'bye'}]"
      ]
     },
     "execution_count": 173,
     "metadata": {},
     "output_type": "execute_result"
    }
   ],
   "source": [
    "a.total_conversation[0].messages"
   ]
  },
  {
   "cell_type": "code",
   "execution_count": 190,
   "metadata": {},
   "outputs": [
    {
     "name": "stdout",
     "output_type": "stream",
     "text": [
      "16/03/2023 10:39:29\n",
      "[{'created_at': '16/03/2023 10:39:41', 'message': 'new -convo'}, {'created_at': '16/03/2023 10:39:45', 'message': 'hey'}, {'created_at': '16/03/2023 10:39:48', 'message': 'how are you'}]\n",
      "16/03/2023 10:39:50\n"
     ]
    }
   ],
   "source": [
    "print(a.total_conversation[0].created_at)\n",
    "print(a.total_conversation[0].messages)\n",
    "print(a.total_conversation[0].ended_at)"
   ]
  },
  {
   "cell_type": "code",
   "execution_count": 182,
   "metadata": {},
   "outputs": [
    {
     "name": "stdout",
     "output_type": "stream",
     "text": [
      "3\n",
      "2\n"
     ]
    }
   ],
   "source": [
    "for convo in a.total_conversation:\n",
    "    print(len(convo.messages))\n",
    "    "
   ]
  },
  {
   "cell_type": "code",
   "execution_count": 177,
   "metadata": {},
   "outputs": [
    {
     "name": "stdout",
     "output_type": "stream",
     "text": [
      "16/03/2023 10:28:53\n",
      "[{'created_at': '16/03/2023 10:28:54', 'message': 'hello'}, {'created_at': '16/03/2023 10:28:58', 'message': 'good'}, {'created_at': '16/03/2023 10:29:01', 'message': 'bye'}]\n",
      "16/03/2023 10:29:03\n"
     ]
    }
   ],
   "source": [
    "print(a.total_conversation[0].created_at)\n",
    "print(a.total_conversation[0].messages)\n",
    "print(a.total_conversation[0].ended_at)"
   ]
  },
  {
   "cell_type": "code",
   "execution_count": 136,
   "metadata": {},
   "outputs": [
    {
     "ename": "AttributeError",
     "evalue": "'client' object has no attribute 'end_conversation'",
     "output_type": "error",
     "traceback": [
      "\u001b[0;31m---------------------------------------------------------------------------\u001b[0m",
      "\u001b[0;31mAttributeError\u001b[0m                            Traceback (most recent call last)",
      "Cell \u001b[0;32mIn[136], line 1\u001b[0m\n\u001b[0;32m----> 1\u001b[0m a\u001b[39m.\u001b[39;49mend_conversation()\n",
      "\u001b[0;31mAttributeError\u001b[0m: 'client' object has no attribute 'end_conversation'"
     ]
    }
   ],
   "source": [
    "a.end_conversation()"
   ]
  },
  {
   "cell_type": "code",
   "execution_count": 178,
   "metadata": {},
   "outputs": [],
   "source": [
    "a.start_conversation()"
   ]
  },
  {
   "cell_type": "code",
   "execution_count": 81,
   "metadata": {},
   "outputs": [
    {
     "name": "stdout",
     "output_type": "stream",
     "text": [
      "15/03/2023 16:42:04\n"
     ]
    }
   ],
   "source": [
    "print(a.total_conversation[0].created_at)\n",
    "# print(a.total_conversation[1].created_at)\n",
    "# print(a.total_conversation[2].created_at)"
   ]
  },
  {
   "cell_type": "code",
   "execution_count": 57,
   "metadata": {},
   "outputs": [
    {
     "ename": "IndexError",
     "evalue": "list index out of range",
     "output_type": "error",
     "traceback": [
      "\u001b[0;31m---------------------------------------------------------------------------\u001b[0m",
      "\u001b[0;31mIndexError\u001b[0m                                Traceback (most recent call last)",
      "Cell \u001b[0;32mIn[57], line 1\u001b[0m\n\u001b[0;32m----> 1\u001b[0m a\u001b[39m.\u001b[39;49mconversation[\u001b[39m1\u001b[39;49m]\u001b[39m.\u001b[39mcreated_at\n",
      "\u001b[0;31mIndexError\u001b[0m: list index out of range"
     ]
    }
   ],
   "source": [
    "a.conversation[1].created_at"
   ]
  },
  {
   "cell_type": "code",
   "execution_count": 39,
   "metadata": {},
   "outputs": [
    {
     "name": "stdout",
     "output_type": "stream",
     "text": [
      "15/03/2023 16:30:59\n"
     ]
    }
   ],
   "source": [
    "a_convo = conversation()\n",
    "print(a_convo.created_at)"
   ]
  },
  {
   "cell_type": "code",
   "execution_count": 97,
   "metadata": {},
   "outputs": [
    {
     "ename": "AttributeError",
     "evalue": "'NoneType' object has no attribute 'messages'",
     "output_type": "error",
     "traceback": [
      "\u001b[0;31m---------------------------------------------------------------------------\u001b[0m",
      "\u001b[0;31mAttributeError\u001b[0m                            Traceback (most recent call last)",
      "Cell \u001b[0;32mIn[97], line 2\u001b[0m\n\u001b[1;32m      1\u001b[0m a_convo \u001b[39m=\u001b[39m a\u001b[39m.\u001b[39mstart_conversation()\n\u001b[0;32m----> 2\u001b[0m \u001b[39mprint\u001b[39m(a_convo\u001b[39m.\u001b[39;49mmessages)\n",
      "\u001b[0;31mAttributeError\u001b[0m: 'NoneType' object has no attribute 'messages'"
     ]
    }
   ],
   "source": [
    "a_convo = a.start_conversation()\n",
    "print(a_convo.messages)"
   ]
  },
  {
   "cell_type": "code",
   "execution_count": 7,
   "metadata": {},
   "outputs": [],
   "source": [
    "from datetime import date\n",
    "\n",
    "today = date.today()"
   ]
  },
  {
   "cell_type": "code",
   "execution_count": 9,
   "metadata": {},
   "outputs": [],
   "source": [
    "from datetime import datetime"
   ]
  },
  {
   "cell_type": "code",
   "execution_count": 11,
   "metadata": {},
   "outputs": [
    {
     "data": {
      "text/plain": [
       "datetime.datetime(2023, 3, 15, 16, 23, 35, 911569)"
      ]
     },
     "execution_count": 11,
     "metadata": {},
     "output_type": "execute_result"
    }
   ],
   "source": [
    "datetime.now()"
   ]
  },
  {
   "cell_type": "code",
   "execution_count": 12,
   "metadata": {},
   "outputs": [],
   "source": [
    "dt_string = datetime.now().strftime(\"%d/%m/%Y %H:%M:%S\")"
   ]
  },
  {
   "cell_type": "code",
   "execution_count": 13,
   "metadata": {},
   "outputs": [
    {
     "data": {
      "text/plain": [
       "'15/03/2023 16:23:50'"
      ]
     },
     "execution_count": 13,
     "metadata": {},
     "output_type": "execute_result"
    }
   ],
   "source": [
    "dt_string"
   ]
  },
  {
   "cell_type": "code",
   "execution_count": null,
   "metadata": {},
   "outputs": [],
   "source": []
  }
 ],
 "metadata": {
  "kernelspec": {
   "display_name": "hexamind",
   "language": "python",
   "name": "python3"
  },
  "language_info": {
   "codemirror_mode": {
    "name": "ipython",
    "version": 3
   },
   "file_extension": ".py",
   "mimetype": "text/x-python",
   "name": "python",
   "nbconvert_exporter": "python",
   "pygments_lexer": "ipython3",
   "version": "3.10.5"
  },
  "orig_nbformat": 4
 },
 "nbformat": 4,
 "nbformat_minor": 2
}
