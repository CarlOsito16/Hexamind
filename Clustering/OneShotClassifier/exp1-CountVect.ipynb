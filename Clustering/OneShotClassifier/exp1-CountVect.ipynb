{
 "cells": [
  {
   "cell_type": "code",
   "execution_count": 3,
   "metadata": {},
   "outputs": [],
   "source": [
    "import numpy as np\n",
    "import pandas as pd \n",
    "import matplotlib.pyplot as plt\n",
    "import seaborn as sns\n",
    "\n",
    "from cleaning import *"
   ]
  },
  {
   "cell_type": "code",
   "execution_count": 4,
   "metadata": {},
   "outputs": [
    {
     "data": {
      "text/html": [
       "<div>\n",
       "<style scoped>\n",
       "    .dataframe tbody tr th:only-of-type {\n",
       "        vertical-align: middle;\n",
       "    }\n",
       "\n",
       "    .dataframe tbody tr th {\n",
       "        vertical-align: top;\n",
       "    }\n",
       "\n",
       "    .dataframe thead th {\n",
       "        text-align: right;\n",
       "    }\n",
       "</style>\n",
       "<table border=\"1\" class=\"dataframe\">\n",
       "  <thead>\n",
       "    <tr style=\"text-align: right;\">\n",
       "      <th></th>\n",
       "      <th>index</th>\n",
       "      <th>titles</th>\n",
       "      <th>ratings</th>\n",
       "      <th>reviewer</th>\n",
       "      <th>reviews</th>\n",
       "      <th>english</th>\n",
       "      <th>dates</th>\n",
       "      <th>replies</th>\n",
       "      <th>reply_dates</th>\n",
       "      <th>clean_review</th>\n",
       "      <th>...</th>\n",
       "      <th>Carrefour</th>\n",
       "      <th>Other brand</th>\n",
       "      <th>reimbursement</th>\n",
       "      <th>clean_BE</th>\n",
       "      <th>clean_PD</th>\n",
       "      <th>clean_DM</th>\n",
       "      <th>clean_AS</th>\n",
       "      <th>summary</th>\n",
       "      <th>top_3</th>\n",
       "      <th>proper_n</th>\n",
       "    </tr>\n",
       "  </thead>\n",
       "  <tbody>\n",
       "    <tr>\n",
       "      <th>0</th>\n",
       "      <td>1</td>\n",
       "      <td>Mais ou est ma commande???</td>\n",
       "      <td>1</td>\n",
       "      <td>todo</td>\n",
       "      <td>Commande N° 609249735,toujours non livrée,pass...</td>\n",
       "      <td>NaN</td>\n",
       "      <td>2023-02-07T17:39:04.000Z</td>\n",
       "      <td>Bonjour, nous vous informons que nous avons pr...</td>\n",
       "      <td>2023-02-08T09:48:06.000Z</td>\n",
       "      <td>NaN</td>\n",
       "      <td>...</td>\n",
       "      <td>NaN</td>\n",
       "      <td>NaN</td>\n",
       "      <td>NaN</td>\n",
       "      <td>NaN</td>\n",
       "      <td>NaN</td>\n",
       "      <td>NaN</td>\n",
       "      <td>NaN</td>\n",
       "      <td>NaN</td>\n",
       "      <td>NaN</td>\n",
       "      <td>NaN</td>\n",
       "    </tr>\n",
       "    <tr>\n",
       "      <th>1</th>\n",
       "      <td>2</td>\n",
       "      <td>Cela fait plusieurs semaines même plus…</td>\n",
       "      <td>1</td>\n",
       "      <td>todo</td>\n",
       "      <td>Magasin de Carrefour Trans en Provence 83\\nCel...</td>\n",
       "      <td>NaN</td>\n",
       "      <td>2023-02-06T14:48:53.000Z</td>\n",
       "      <td>NaN</td>\n",
       "      <td>NaN</td>\n",
       "      <td>NaN</td>\n",
       "      <td>...</td>\n",
       "      <td>NaN</td>\n",
       "      <td>NaN</td>\n",
       "      <td>NaN</td>\n",
       "      <td>NaN</td>\n",
       "      <td>NaN</td>\n",
       "      <td>NaN</td>\n",
       "      <td>NaN</td>\n",
       "      <td>NaN</td>\n",
       "      <td>NaN</td>\n",
       "      <td>NaN</td>\n",
       "    </tr>\n",
       "    <tr>\n",
       "      <th>2</th>\n",
       "      <td>3</td>\n",
       "      <td>Commande Deliveroo annulé !</td>\n",
       "      <td>1</td>\n",
       "      <td>todo</td>\n",
       "      <td>Commande Deliveroo passé ce jour sans suite ca...</td>\n",
       "      <td>NaN</td>\n",
       "      <td>2023-02-08T10:54:56.000Z</td>\n",
       "      <td>Bonjour, Pouvez-vous nous communiquer vos prén...</td>\n",
       "      <td>2023-02-08T10:17:23.000Z</td>\n",
       "      <td>NaN</td>\n",
       "      <td>...</td>\n",
       "      <td>NaN</td>\n",
       "      <td>NaN</td>\n",
       "      <td>NaN</td>\n",
       "      <td>NaN</td>\n",
       "      <td>NaN</td>\n",
       "      <td>NaN</td>\n",
       "      <td>NaN</td>\n",
       "      <td>NaN</td>\n",
       "      <td>NaN</td>\n",
       "      <td>NaN</td>\n",
       "    </tr>\n",
       "    <tr>\n",
       "      <th>3</th>\n",
       "      <td>4</td>\n",
       "      <td>une honte cette société qu'utilise…</td>\n",
       "      <td>1</td>\n",
       "      <td>todo</td>\n",
       "      <td>une honte cette société qu'utilise Carrefour p...</td>\n",
       "      <td>NaN</td>\n",
       "      <td>2023-02-04T18:29:49.000Z</td>\n",
       "      <td>Bonjour, pourriez-vous nous communiquer votre ...</td>\n",
       "      <td>2023-02-05T08:17:54.000Z</td>\n",
       "      <td>NaN</td>\n",
       "      <td>...</td>\n",
       "      <td>NaN</td>\n",
       "      <td>NaN</td>\n",
       "      <td>NaN</td>\n",
       "      <td>NaN</td>\n",
       "      <td>NaN</td>\n",
       "      <td>NaN</td>\n",
       "      <td>NaN</td>\n",
       "      <td>NaN</td>\n",
       "      <td>NaN</td>\n",
       "      <td>NaN</td>\n",
       "    </tr>\n",
       "    <tr>\n",
       "      <th>4</th>\n",
       "      <td>5</td>\n",
       "      <td>Nous sommes passer en caisse N</td>\n",
       "      <td>1</td>\n",
       "      <td>todo</td>\n",
       "      <td>Nous sommes passer en caisse N : 12\\n28/01/202...</td>\n",
       "      <td>NaN</td>\n",
       "      <td>2023-02-05T14:36:40.000Z</td>\n",
       "      <td>Bonjour, Pouvez-vous nous préciser le magasin ...</td>\n",
       "      <td>2023-02-06T08:30:25.000Z</td>\n",
       "      <td>NaN</td>\n",
       "      <td>...</td>\n",
       "      <td>NaN</td>\n",
       "      <td>NaN</td>\n",
       "      <td>NaN</td>\n",
       "      <td>NaN</td>\n",
       "      <td>NaN</td>\n",
       "      <td>NaN</td>\n",
       "      <td>NaN</td>\n",
       "      <td>NaN</td>\n",
       "      <td>NaN</td>\n",
       "      <td>NaN</td>\n",
       "    </tr>\n",
       "  </tbody>\n",
       "</table>\n",
       "<p>5 rows × 36 columns</p>\n",
       "</div>"
      ],
      "text/plain": [
       "   index                                   titles  ratings reviewer  \\\n",
       "0      1               Mais ou est ma commande???        1     todo   \n",
       "1      2  Cela fait plusieurs semaines même plus…        1     todo   \n",
       "2      3              Commande Deliveroo annulé !        1     todo   \n",
       "3      4      une honte cette société qu'utilise…        1     todo   \n",
       "4      5           Nous sommes passer en caisse N        1     todo   \n",
       "\n",
       "                                             reviews english  \\\n",
       "0  Commande N° 609249735,toujours non livrée,pass...     NaN   \n",
       "1  Magasin de Carrefour Trans en Provence 83\\nCel...     NaN   \n",
       "2  Commande Deliveroo passé ce jour sans suite ca...     NaN   \n",
       "3  une honte cette société qu'utilise Carrefour p...     NaN   \n",
       "4  Nous sommes passer en caisse N : 12\\n28/01/202...     NaN   \n",
       "\n",
       "                      dates  \\\n",
       "0  2023-02-07T17:39:04.000Z   \n",
       "1  2023-02-06T14:48:53.000Z   \n",
       "2  2023-02-08T10:54:56.000Z   \n",
       "3  2023-02-04T18:29:49.000Z   \n",
       "4  2023-02-05T14:36:40.000Z   \n",
       "\n",
       "                                             replies  \\\n",
       "0  Bonjour, nous vous informons que nous avons pr...   \n",
       "1                                                NaN   \n",
       "2  Bonjour, Pouvez-vous nous communiquer vos prén...   \n",
       "3  Bonjour, pourriez-vous nous communiquer votre ...   \n",
       "4  Bonjour, Pouvez-vous nous préciser le magasin ...   \n",
       "\n",
       "                reply_dates clean_review  ... Carrefour  Other brand  \\\n",
       "0  2023-02-08T09:48:06.000Z          NaN  ...       NaN          NaN   \n",
       "1                       NaN          NaN  ...       NaN          NaN   \n",
       "2  2023-02-08T10:17:23.000Z          NaN  ...       NaN          NaN   \n",
       "3  2023-02-05T08:17:54.000Z          NaN  ...       NaN          NaN   \n",
       "4  2023-02-06T08:30:25.000Z          NaN  ...       NaN          NaN   \n",
       "\n",
       "  reimbursement clean_BE clean_PD clean_DM clean_AS summary top_3 proper_n  \n",
       "0           NaN      NaN      NaN      NaN      NaN     NaN   NaN      NaN  \n",
       "1           NaN      NaN      NaN      NaN      NaN     NaN   NaN      NaN  \n",
       "2           NaN      NaN      NaN      NaN      NaN     NaN   NaN      NaN  \n",
       "3           NaN      NaN      NaN      NaN      NaN     NaN   NaN      NaN  \n",
       "4           NaN      NaN      NaN      NaN      NaN     NaN   NaN      NaN  \n",
       "\n",
       "[5 rows x 36 columns]"
      ]
     },
     "execution_count": 4,
     "metadata": {},
     "output_type": "execute_result"
    }
   ],
   "source": [
    "FILEPATH = \"selected_df - All.csv\"\n",
    "df = pd.read_csv(FILEPATH,\n",
    "                 index_col=0,\n",
    "                 header=[1]).reset_index()\n",
    "df.head()"
   ]
  },
  {
   "cell_type": "code",
   "execution_count": 5,
   "metadata": {},
   "outputs": [
    {
     "name": "stdout",
     "output_type": "stream",
     "text": [
      "Original shape: (2000, 36)\n",
      "Selected shape: (276, 36)\n",
      "Unselected shape: (1724, 36)\n"
     ]
    },
    {
     "name": "stderr",
     "output_type": "stream",
     "text": [
      "/Users/carlosito/Library/CloudStorage/OneDrive-Personal/Personal Document/Hexamind/hexamind_code/Carrefour/Clustering/OneShotClassifier/cleaning.py:45: SettingWithCopyWarning: \n",
      "A value is trying to be set on a copy of a slice from a DataFrame.\n",
      "Try using .loc[row_indexer,col_indexer] = value instead\n",
      "\n",
      "See the caveats in the documentation: https://pandas.pydata.org/pandas-docs/stable/user_guide/indexing.html#returning-a-view-versus-a-copy\n",
      "  selected_df['clean_BE'] = np.any(selected_df.loc[: ,BE_subclass], axis=1)\n",
      "/Users/carlosito/Library/CloudStorage/OneDrive-Personal/Personal Document/Hexamind/hexamind_code/Carrefour/Clustering/OneShotClassifier/cleaning.py:46: SettingWithCopyWarning: \n",
      "A value is trying to be set on a copy of a slice from a DataFrame.\n",
      "Try using .loc[row_indexer,col_indexer] = value instead\n",
      "\n",
      "See the caveats in the documentation: https://pandas.pydata.org/pandas-docs/stable/user_guide/indexing.html#returning-a-view-versus-a-copy\n",
      "  selected_df['clean_PD'] = np.any(selected_df.loc[: ,PD_subclass], axis=1)\n",
      "/Users/carlosito/Library/CloudStorage/OneDrive-Personal/Personal Document/Hexamind/hexamind_code/Carrefour/Clustering/OneShotClassifier/cleaning.py:47: SettingWithCopyWarning: \n",
      "A value is trying to be set on a copy of a slice from a DataFrame.\n",
      "Try using .loc[row_indexer,col_indexer] = value instead\n",
      "\n",
      "See the caveats in the documentation: https://pandas.pydata.org/pandas-docs/stable/user_guide/indexing.html#returning-a-view-versus-a-copy\n",
      "  selected_df['clean_DM'] = np.any(selected_df.loc[: ,DM_subclass], axis=1)\n",
      "/Users/carlosito/Library/CloudStorage/OneDrive-Personal/Personal Document/Hexamind/hexamind_code/Carrefour/Clustering/OneShotClassifier/cleaning.py:48: SettingWithCopyWarning: \n",
      "A value is trying to be set on a copy of a slice from a DataFrame.\n",
      "Try using .loc[row_indexer,col_indexer] = value instead\n",
      "\n",
      "See the caveats in the documentation: https://pandas.pydata.org/pandas-docs/stable/user_guide/indexing.html#returning-a-view-versus-a-copy\n",
      "  selected_df['clean_AS'] = np.any(selected_df.loc[: ,AS_subclass], axis=1)\n",
      "/Users/carlosito/Library/CloudStorage/OneDrive-Personal/Personal Document/Hexamind/hexamind_code/Carrefour/Clustering/OneShotClassifier/cleaning.py:52: SettingWithCopyWarning: \n",
      "A value is trying to be set on a copy of a slice from a DataFrame.\n",
      "Try using .loc[row_indexer,col_indexer] = value instead\n",
      "\n",
      "See the caveats in the documentation: https://pandas.pydata.org/pandas-docs/stable/user_guide/indexing.html#returning-a-view-versus-a-copy\n",
      "  selected_df['clean_BE'] = selected_df['clean_BE'].apply(lambda x : boolean_to_int(x))\n",
      "/Users/carlosito/Library/CloudStorage/OneDrive-Personal/Personal Document/Hexamind/hexamind_code/Carrefour/Clustering/OneShotClassifier/cleaning.py:53: SettingWithCopyWarning: \n",
      "A value is trying to be set on a copy of a slice from a DataFrame.\n",
      "Try using .loc[row_indexer,col_indexer] = value instead\n",
      "\n",
      "See the caveats in the documentation: https://pandas.pydata.org/pandas-docs/stable/user_guide/indexing.html#returning-a-view-versus-a-copy\n",
      "  selected_df['clean_PD'] = selected_df['clean_PD'].apply(lambda x : boolean_to_int(x))\n",
      "/Users/carlosito/Library/CloudStorage/OneDrive-Personal/Personal Document/Hexamind/hexamind_code/Carrefour/Clustering/OneShotClassifier/cleaning.py:54: SettingWithCopyWarning: \n",
      "A value is trying to be set on a copy of a slice from a DataFrame.\n",
      "Try using .loc[row_indexer,col_indexer] = value instead\n",
      "\n",
      "See the caveats in the documentation: https://pandas.pydata.org/pandas-docs/stable/user_guide/indexing.html#returning-a-view-versus-a-copy\n",
      "  selected_df['clean_DM'] = selected_df['clean_DM'].apply(lambda x : boolean_to_int(x))\n",
      "/Users/carlosito/Library/CloudStorage/OneDrive-Personal/Personal Document/Hexamind/hexamind_code/Carrefour/Clustering/OneShotClassifier/cleaning.py:55: SettingWithCopyWarning: \n",
      "A value is trying to be set on a copy of a slice from a DataFrame.\n",
      "Try using .loc[row_indexer,col_indexer] = value instead\n",
      "\n",
      "See the caveats in the documentation: https://pandas.pydata.org/pandas-docs/stable/user_guide/indexing.html#returning-a-view-versus-a-copy\n",
      "  selected_df['clean_AS'] = selected_df['clean_AS'].apply(lambda x : boolean_to_int(x))\n"
     ]
    },
    {
     "data": {
      "image/png": "[encoded data removed]",
      "text/plain": [
       "<Figure size 640x480 with 1 Axes>"
      ]
     },
     "metadata": {},
     "output_type": "display_data"
    }
   ],
   "source": [
    "label_df, unlabel_df = binary_transform(df)"
   ]
  },
  {
   "cell_type": "code",
   "execution_count": 6,
   "metadata": {},
   "outputs": [
    {
     "name": "stdout",
     "output_type": "stream",
     "text": [
      "(276, 36)\n",
      "(1724, 36)\n"
     ]
    }
   ],
   "source": [
    "print(label_df.shape)\n",
    "print(unlabel_df.shape)"
   ]
  },
  {
   "attachments": {},
   "cell_type": "markdown",
   "metadata": {},
   "source": [
    "# 2/3 Train Test split"
   ]
  },
  {
   "cell_type": "code",
   "execution_count": 7,
   "metadata": {},
   "outputs": [],
   "source": [
    "from sklearn.model_selection import train_test_split\n",
    "from sklearn.feature_extraction.text import CountVectorizer\n",
    "from sklearn.metrics import confusion_matrix, classification_report, multilabel_confusion_matrix, f1_score, accuracy_score, hamming_loss\n",
    "\n",
    "\n",
    "from sklearn.ensemble import RandomForestClassifier\n",
    "from sklearn.multioutput import MultiOutputClassifier, ClassifierChain\n",
    "from sklearn.linear_model import LogisticRegression"
   ]
  },
  {
   "cell_type": "code",
   "execution_count": 249,
   "metadata": {},
   "outputs": [],
   "source": [
    "X = label_df.combined_reviews\n",
    "y = label_df.loc[: , ['clean_BE' , 'clean_PD', 'clean_DM', 'clean_AS']]"
   ]
  },
  {
   "cell_type": "code",
   "execution_count": 250,
   "metadata": {},
   "outputs": [],
   "source": [
    "X_train_text, X_test_text, y_train, y_test = train_test_split(X, y,\n",
    "                                                              train_size=0.7,\n",
    "                                                              random_state=42)"
   ]
  },
  {
   "cell_type": "code",
   "execution_count": 251,
   "metadata": {},
   "outputs": [
    {
     "name": "stdout",
     "output_type": "stream",
     "text": [
      "(193, 3620) (83, 3620)\n"
     ]
    }
   ],
   "source": [
    "count_vectorizer = CountVectorizer(analyzer='word',\n",
    "                                   lowercase=False,\n",
    "                                   max_df= 20)\n",
    "X_train = count_vectorizer.fit_transform(X_train_text)\n",
    "X_test = count_vectorizer.transform(X_test_text)\n",
    "\n",
    "print(X_train.shape, X_test.shape)"
   ]
  },
  {
   "cell_type": "code",
   "execution_count": 238,
   "metadata": {},
   "outputs": [
    {
     "data": {
      "text/plain": [
       "array([[0, 0, 0, ..., 0, 0, 0],\n",
       "       [0, 0, 0, ..., 0, 0, 0],\n",
       "       [0, 0, 0, ..., 0, 0, 0],\n",
       "       ...,\n",
       "       [0, 0, 0, ..., 0, 0, 0],\n",
       "       [0, 0, 0, ..., 0, 0, 0],\n",
       "       [0, 0, 0, ..., 0, 0, 0]])"
      ]
     },
     "execution_count": 238,
     "metadata": {},
     "output_type": "execute_result"
    }
   ],
   "source": [
    "X_train.toarray()"
   ]
  },
  {
   "cell_type": "code",
   "execution_count": 239,
   "metadata": {},
   "outputs": [
    {
     "ename": "TypeError",
     "evalue": "MultiOutputClassifier.__init__() got an unexpected keyword argument 'param_grid'",
     "output_type": "error",
     "traceback": [
      "\u001b[0;31m---------------------------------------------------------------------------\u001b[0m",
      "\u001b[0;31mTypeError\u001b[0m                                 Traceback (most recent call last)",
      "Cell \u001b[0;32mIn[239], line 6\u001b[0m\n\u001b[1;32m      1\u001b[0m \u001b[39mfrom\u001b[39;00m \u001b[39msklearn\u001b[39;00m\u001b[39m.\u001b[39;00m\u001b[39mmodel_selection\u001b[39;00m \u001b[39mimport\u001b[39;00m GridSearchCV\n\u001b[1;32m      2\u001b[0m parameters \u001b[39m=\u001b[39m {\u001b[39m'\u001b[39m\u001b[39mpenalty\u001b[39m\u001b[39m'\u001b[39m: [\u001b[39mNone\u001b[39;00m, \u001b[39m'\u001b[39m\u001b[39ml2\u001b[39m\u001b[39m'\u001b[39m], \n\u001b[1;32m      3\u001b[0m               \u001b[39m'\u001b[39m\u001b[39mclass_weight\u001b[39m\u001b[39m'\u001b[39m: [\u001b[39mNone\u001b[39;00m, \u001b[39m'\u001b[39m\u001b[39mbalanced\u001b[39m\u001b[39m'\u001b[39m]}\n\u001b[0;32m----> 6\u001b[0m clf \u001b[39m=\u001b[39m GridSearchCV(MultiOutputClassifier(LogisticRegression(), \n\u001b[1;32m      7\u001b[0m                                          param_grid \u001b[39m=\u001b[39;49m parameters,\n\u001b[1;32m      8\u001b[0m                                          scoring\u001b[39m=\u001b[39;49m\u001b[39m'\u001b[39;49m\u001b[39mf1_macro\u001b[39;49m\u001b[39m'\u001b[39;49m))\n",
      "\u001b[0;31mTypeError\u001b[0m: MultiOutputClassifier.__init__() got an unexpected keyword argument 'param_grid'"
     ]
    }
   ],
   "source": [
    "from sklearn.model_selection import GridSearchCV\n",
    "parameters = {'penalty': [None, 'l2'], \n",
    "              'class_weight': [None, 'balanced']}\n",
    "\n",
    "\n",
    "clf = GridSearchCV(MultiOutputClassifier(LogisticRegression(), \n",
    "                                         param_grid = parameters,\n",
    "                                         scoring='f1_macro'))\n"
   ]
  },
  {
   "cell_type": "code",
   "execution_count": 240,
   "metadata": {},
   "outputs": [],
   "source": [
    "clf = MultiOutputClassifier(LogisticRegression()).fit(X_train, y_train)"
   ]
  },
  {
   "cell_type": "code",
   "execution_count": 241,
   "metadata": {},
   "outputs": [
    {
     "name": "stdout",
     "output_type": "stream",
     "text": [
      "              precision    recall  f1-score   support\n",
      "\n",
      "           0       0.85      0.88      0.86        58\n",
      "           1       0.87      0.71      0.78        38\n",
      "           2       0.95      0.61      0.74        33\n",
      "           3       1.00      0.54      0.70        35\n",
      "\n",
      "   micro avg       0.89      0.71      0.79       164\n",
      "   macro avg       0.92      0.68      0.77       164\n",
      "weighted avg       0.91      0.71      0.79       164\n",
      " samples avg       0.86      0.77      0.79       164\n",
      "\n",
      "0.5943396226415094\n"
     ]
    },
    {
     "name": "stderr",
     "output_type": "stream",
     "text": [
      "/Users/carlosito/Documents/Virtual_Environment/hexamind/lib/python3.10/site-packages/sklearn/metrics/_classification.py:1344: UndefinedMetricWarning: Precision and F-score are ill-defined and being set to 0.0 in samples with no predicted labels. Use `zero_division` parameter to control this behavior.\n",
      "  _warn_prf(average, modifier, msg_start, len(result))\n",
      "/Users/carlosito/Documents/Virtual_Environment/hexamind/lib/python3.10/site-packages/sklearn/metrics/_classification.py:1344: UndefinedMetricWarning: Recall and F-score are ill-defined and being set to 0.0 in samples with no true labels. Use `zero_division` parameter to control this behavior.\n",
      "  _warn_prf(average, modifier, msg_start, len(result))\n"
     ]
    }
   ],
   "source": [
    "prediction = clf.predict(X_test)\n",
    "print(classification_report(y_true = y_test,\n",
    "                            y_pred = prediction))\n",
    "print(accuracy_score(y_true = y_test,\n",
    "                      y_pred = prediction))"
   ]
  },
  {
   "cell_type": "code",
   "execution_count": 242,
   "metadata": {},
   "outputs": [
    {
     "name": "stdout",
     "output_type": "stream",
     "text": [
      "[[[39  9]\n",
      "  [ 7 51]]\n",
      "\n",
      " [[64  4]\n",
      "  [11 27]]\n",
      "\n",
      " [[72  1]\n",
      "  [13 20]]\n",
      "\n",
      " [[71  0]\n",
      "  [16 19]]]\n"
     ]
    }
   ],
   "source": [
    "print(multilabel_confusion_matrix(y_true = y_test,\n",
    "                      y_pred = prediction))"
   ]
  },
  {
   "cell_type": "code",
   "execution_count": 243,
   "metadata": {},
   "outputs": [
    {
     "name": "stdout",
     "output_type": "stream",
     "text": [
      "              precision    recall  f1-score   support\n",
      "\n",
      "           0       0.85      0.88      0.86        58\n",
      "           1       0.89      0.66      0.76        38\n",
      "           2       0.95      0.64      0.76        33\n",
      "           3       0.95      0.54      0.69        35\n",
      "\n",
      "   micro avg       0.89      0.71      0.79       164\n",
      "   macro avg       0.91      0.68      0.77       164\n",
      "weighted avg       0.90      0.71      0.78       164\n",
      " samples avg       0.87      0.77      0.79       164\n",
      "\n",
      "0.6132075471698113\n"
     ]
    },
    {
     "name": "stderr",
     "output_type": "stream",
     "text": [
      "/Users/carlosito/Documents/Virtual_Environment/hexamind/lib/python3.10/site-packages/sklearn/metrics/_classification.py:1344: UndefinedMetricWarning: Precision and F-score are ill-defined and being set to 0.0 in samples with no predicted labels. Use `zero_division` parameter to control this behavior.\n",
      "  _warn_prf(average, modifier, msg_start, len(result))\n",
      "/Users/carlosito/Documents/Virtual_Environment/hexamind/lib/python3.10/site-packages/sklearn/metrics/_classification.py:1344: UndefinedMetricWarning: Recall and F-score are ill-defined and being set to 0.0 in samples with no true labels. Use `zero_division` parameter to control this behavior.\n",
      "  _warn_prf(average, modifier, msg_start, len(result))\n"
     ]
    }
   ],
   "source": [
    "clf = ClassifierChain(LogisticRegression()).fit(X_train, y_train)\n",
    "prediction = clf.predict(X_test)\n",
    "print(classification_report(y_true = y_test,\n",
    "                            y_pred = prediction))\n",
    "print(accuracy_score(y_true = y_test,\n",
    "                      y_pred = prediction))"
   ]
  },
  {
   "cell_type": "code",
   "execution_count": 244,
   "metadata": {},
   "outputs": [
    {
     "name": "stdout",
     "output_type": "stream",
     "text": [
      "              precision    recall  f1-score   support\n",
      "\n",
      "           0       0.56      1.00      0.72        58\n",
      "           1       1.00      0.05      0.10        38\n",
      "           2       0.00      0.00      0.00        33\n",
      "           3       1.00      0.06      0.11        35\n",
      "\n",
      "   micro avg       0.58      0.38      0.46       164\n",
      "   macro avg       0.64      0.28      0.23       164\n",
      "weighted avg       0.64      0.38      0.30       164\n",
      " samples avg       0.57      0.43      0.47       164\n",
      "\n",
      "0.3113207547169811\n"
     ]
    },
    {
     "name": "stderr",
     "output_type": "stream",
     "text": [
      "/Users/carlosito/Documents/Virtual_Environment/hexamind/lib/python3.10/site-packages/sklearn/metrics/_classification.py:1344: UndefinedMetricWarning: Precision and F-score are ill-defined and being set to 0.0 in labels with no predicted samples. Use `zero_division` parameter to control this behavior.\n",
      "  _warn_prf(average, modifier, msg_start, len(result))\n",
      "/Users/carlosito/Documents/Virtual_Environment/hexamind/lib/python3.10/site-packages/sklearn/metrics/_classification.py:1344: UndefinedMetricWarning: Precision and F-score are ill-defined and being set to 0.0 in samples with no predicted labels. Use `zero_division` parameter to control this behavior.\n",
      "  _warn_prf(average, modifier, msg_start, len(result))\n",
      "/Users/carlosito/Documents/Virtual_Environment/hexamind/lib/python3.10/site-packages/sklearn/metrics/_classification.py:1344: UndefinedMetricWarning: Recall and F-score are ill-defined and being set to 0.0 in samples with no true labels. Use `zero_division` parameter to control this behavior.\n",
      "  _warn_prf(average, modifier, msg_start, len(result))\n"
     ]
    }
   ],
   "source": [
    "clf = ClassifierChain(RandomForestClassifier(max_depth = 10,\n",
    "                                             max_features = 'log2')).fit(X_train, y_train)\n",
    "prediction = clf.predict(X_test)\n",
    "print(classification_report(y_true = y_test,\n",
    "                            y_pred = prediction))\n",
    "print(accuracy_score(y_true = y_test,\n",
    "                      y_pred = prediction))"
   ]
  },
  {
   "attachments": {},
   "cell_type": "markdown",
   "metadata": {},
   "source": [
    "# Now will try to plot that curve"
   ]
  },
  {
   "cell_type": "code",
   "execution_count": 252,
   "metadata": {},
   "outputs": [],
   "source": [
    "n_samples = [8, 16, 32, 64 , 128, 193]\n",
    "\n",
    "f1_score_record = []\n",
    "accuracy_record = []\n",
    "hamming_loss_record = []\n",
    "for n in n_samples:\n",
    "    selected_X_train_text = X_train_text[: n] #slice the training text based on the batch size\n",
    "    count_vectorizer = CountVectorizer(analyzer='word', #call new countVectorizer\n",
    "                                   lowercase=False,\n",
    "                                   max_df= 20)\n",
    "    selected_X_train = count_vectorizer.fit_transform(selected_X_train_text) \n",
    "    selected_X_test = count_vectorizer.transform(X_test_text) #this will be always 83\n",
    "    assert selected_X_test.shape[0] == 83\n",
    "    \n",
    "    selected_y_train = y_train[:n]\n",
    "    \n",
    "    clf = MultiOutputClassifier(LogisticRegression()).fit(selected_X_train, selected_y_train)\n",
    "    \n",
    "    prediction = clf.predict(selected_X_test)\n",
    "    \n",
    "    f1_score_record.append(f1_score(y_true = y_test,\n",
    "                                    y_pred = prediction,\n",
    "                                    average = 'macro'))\n",
    "    \n",
    "    accuracy_record.append(accuracy_score(y_true = y_test,\n",
    "                                    y_pred = prediction))\n",
    "    \n",
    "    hamming_loss_record.append(hamming_loss(y_true = y_test,\n",
    "                                    y_pred = prediction))\n",
    "    \n",
    "    \n",
    "    "
   ]
  },
  {
   "cell_type": "code",
   "execution_count": 253,
   "metadata": {},
   "outputs": [
    {
     "data": {
      "image/png": "[encoded data removed]",
      "text/plain": [
       "<Figure size 1500x500 with 3 Axes>"
      ]
     },
     "metadata": {},
     "output_type": "display_data"
    }
   ],
   "source": [
    "fig, axes = plt.subplots(1,3, figsize = (15,5))\n",
    "\n",
    "sns.lineplot(data = f1_score_record,\n",
    "             ax = axes[0])\n",
    "\n",
    "sns.lineplot(data = accuracy_record,\n",
    "             ax = axes[1])\n",
    "\n",
    "sns.lineplot(data = hamming_loss_record,\n",
    "             ax = axes[2])\n",
    "\n",
    "fig.suptitle('Evaluation Metric on using different training size on Multi-Label Classification\\n',\n",
    "             fontsize = 20)\n",
    "fig.tight_layout()\n",
    "\n",
    "axes[0].set_title('F1 score - macro')\n",
    "axes[1].set_title('Accuracy')\n",
    "axes[2].set_title('Hemming Loss')\n",
    "\n",
    "axes[0].set_xlabel('Number of training samples')\n",
    "axes[1].set_xlabel('Number of training samples')\n",
    "axes[2].set_xlabel('Number of training samples')\n",
    "\n",
    "axes[0].set_xticks(range(6), n_samples )\n",
    "axes[1].set_xticks(range(6), n_samples )\n",
    "axes[2].set_xticks(range(6), n_samples )\n",
    "plt.show()"
   ]
  },
  {
   "cell_type": "code",
   "execution_count": 15,
   "metadata": {},
   "outputs": [
    {
     "name": "stdout",
     "output_type": "stream",
     "text": [
      "              precision    recall  f1-score   support\n",
      "\n",
      "           0       0.76      0.94      0.84        63\n",
      "           1       0.67      0.18      0.29        22\n",
      "           2       0.71      0.25      0.37        20\n",
      "           3       0.86      0.26      0.40        23\n",
      "\n",
      "   micro avg       0.76      0.58      0.65       128\n",
      "   macro avg       0.75      0.41      0.47       128\n",
      "weighted avg       0.75      0.58      0.59       128\n",
      " samples avg       0.75      0.64      0.66       128\n",
      "\n"
     ]
    },
    {
     "name": "stderr",
     "output_type": "stream",
     "text": [
      "/Users/carlosito/Documents/Virtual_Environment/hexamind/lib/python3.10/site-packages/sklearn/metrics/_classification.py:1344: UndefinedMetricWarning: Precision and F-score are ill-defined and being set to 0.0 in samples with no predicted labels. Use `zero_division` parameter to control this behavior.\n",
      "  _warn_prf(average, modifier, msg_start, len(result))\n",
      "/Users/carlosito/Documents/Virtual_Environment/hexamind/lib/python3.10/site-packages/sklearn/metrics/_classification.py:1344: UndefinedMetricWarning: Recall and F-score are ill-defined and being set to 0.0 in samples with no true labels. Use `zero_division` parameter to control this behavior.\n",
      "  _warn_prf(average, modifier, msg_start, len(result))\n"
     ]
    }
   ],
   "source": [
    "print(classification_report(y_true = y_test,\n",
    "                            y_pred = prediction))"
   ]
  },
  {
   "attachments": {},
   "cell_type": "markdown",
   "metadata": {},
   "source": [
    "---"
   ]
  },
  {
   "attachments": {},
   "cell_type": "markdown",
   "metadata": {},
   "source": [
    "## Use CountVectorizer without stopwords"
   ]
  },
  {
   "cell_type": "code",
   "execution_count": 21,
   "metadata": {},
   "outputs": [
    {
     "name": "stdout",
     "output_type": "stream",
     "text": [
      "['a', 'abord', 'absolument', 'afin', 'ah']\n"
     ]
    }
   ],
   "source": [
    "# opening the file in read mode\n",
    "my_file = open(\"/Users/carlosito/Library/CloudStorage/OneDrive-Personal/Personal Document/Hexamind/hexamind_code/Carrefour/french_stopword.txt\" , 'r')\n",
    "  \n",
    "# reading the file\n",
    "data = my_file.read()\n",
    "  \n",
    "# replacing end of line('/n') with ' ' and\n",
    "# splitting the text it further when '.' is seen.\n",
    "french_stopwords_list = data.replace('\\n', ' ').split(\" \")\n",
    "  \n",
    "# # printing the data\n",
    "print(french_stopwords_list[:5])\n",
    "my_file.close()"
   ]
  },
  {
   "cell_type": "code",
   "execution_count": 254,
   "metadata": {},
   "outputs": [
    {
     "data": {
      "text/plain": [
       "<83x3620 sparse matrix of type '<class 'numpy.int64'>'\n",
       "\twith 2094 stored elements in Compressed Sparse Row format>"
      ]
     },
     "execution_count": 254,
     "metadata": {},
     "output_type": "execute_result"
    }
   ],
   "source": [
    "selected_X_test"
   ]
  },
  {
   "cell_type": "code",
   "execution_count": 255,
   "metadata": {},
   "outputs": [
    {
     "name": "stderr",
     "output_type": "stream",
     "text": [
      "/Users/carlosito/Documents/Virtual_Environment/hexamind/lib/python3.10/site-packages/sklearn/feature_extraction/text.py:409: UserWarning: Your stop_words may be inconsistent with your preprocessing. Tokenizing the stop words generated tokens ['quelqu'] not in stop_words.\n",
      "  warnings.warn(\n",
      "/Users/carlosito/Documents/Virtual_Environment/hexamind/lib/python3.10/site-packages/sklearn/feature_extraction/text.py:409: UserWarning: Your stop_words may be inconsistent with your preprocessing. Tokenizing the stop words generated tokens ['quelqu'] not in stop_words.\n",
      "  warnings.warn(\n",
      "/Users/carlosito/Documents/Virtual_Environment/hexamind/lib/python3.10/site-packages/sklearn/feature_extraction/text.py:409: UserWarning: Your stop_words may be inconsistent with your preprocessing. Tokenizing the stop words generated tokens ['quelqu'] not in stop_words.\n",
      "  warnings.warn(\n",
      "/Users/carlosito/Documents/Virtual_Environment/hexamind/lib/python3.10/site-packages/sklearn/feature_extraction/text.py:409: UserWarning: Your stop_words may be inconsistent with your preprocessing. Tokenizing the stop words generated tokens ['quelqu'] not in stop_words.\n",
      "  warnings.warn(\n",
      "/Users/carlosito/Documents/Virtual_Environment/hexamind/lib/python3.10/site-packages/sklearn/feature_extraction/text.py:409: UserWarning: Your stop_words may be inconsistent with your preprocessing. Tokenizing the stop words generated tokens ['quelqu'] not in stop_words.\n",
      "  warnings.warn(\n",
      "/Users/carlosito/Documents/Virtual_Environment/hexamind/lib/python3.10/site-packages/sklearn/feature_extraction/text.py:409: UserWarning: Your stop_words may be inconsistent with your preprocessing. Tokenizing the stop words generated tokens ['quelqu'] not in stop_words.\n",
      "  warnings.warn(\n"
     ]
    }
   ],
   "source": [
    "n_samples = [8, 16, 32, 64 , 128, 193]\n",
    "\n",
    "f1_score_record_without_stopword = []\n",
    "accuracy_record_without_stopword = []\n",
    "hamming_loss_record_without_stopword = []\n",
    "for n in n_samples:\n",
    "    selected_X_train_text = X_train_text[: n] #slice the training text based on the batch size\n",
    "    count_vectorizer = CountVectorizer(analyzer='word', #call new countVectorizer\n",
    "                                   lowercase=True,\n",
    "                                   stop_words= french_stopwords_list )\n",
    "    selected_X_train = count_vectorizer.fit_transform(selected_X_train_text) \n",
    "    selected_X_test = count_vectorizer.transform(X_test_text) #this will be always 83\n",
    "    assert selected_X_test.shape[0] == 83\n",
    "    \n",
    "    selected_y_train = y_train[:n]\n",
    "    \n",
    "    clf = MultiOutputClassifier(LogisticRegression()).fit(selected_X_train, selected_y_train)\n",
    "    \n",
    "    prediction = clf.predict(selected_X_test)\n",
    "    \n",
    "    f1_score_record_without_stopword.append(f1_score(y_true = y_test,\n",
    "                                    y_pred = prediction,\n",
    "                                    average = 'macro'))\n",
    "    \n",
    "    accuracy_record_without_stopword.append(accuracy_score(y_true = y_test,\n",
    "                                    y_pred = prediction))\n",
    "    \n",
    "    hamming_loss_record_without_stopword.append(hamming_loss(y_true = y_test,\n",
    "                                    y_pred = prediction))\n",
    "    "
   ]
  },
  {
   "cell_type": "code",
   "execution_count": 256,
   "metadata": {},
   "outputs": [
    {
     "data": {
      "image/png": "[encoded data removed]",
      "text/plain": [
       "<Figure size 1500x500 with 3 Axes>"
      ]
     },
     "metadata": {},
     "output_type": "display_data"
    }
   ],
   "source": [
    "fig, axes = plt.subplots(1,3, figsize = (15,5))\n",
    "\n",
    "sns.lineplot(data = f1_score_record,\n",
    "             ax = axes[0], label = 'with stopwords')\n",
    "\n",
    "sns.lineplot(data = accuracy_record,\n",
    "             ax = axes[1], label = 'with stopwords')\n",
    "\n",
    "sns.lineplot(data = hamming_loss_record,\n",
    "             ax = axes[2], label = 'with stopwords')\n",
    "\n",
    "\n",
    "sns.lineplot(data = f1_score_record_without_stopword,\n",
    "             ax = axes[0], label = 'without stopwords')\n",
    "\n",
    "sns.lineplot(data = accuracy_record_without_stopword,\n",
    "             ax = axes[1], label = 'without stopwords')\n",
    "\n",
    "sns.lineplot(data = hamming_loss_record_without_stopword,\n",
    "             ax = axes[2], label = 'without stopwords')\n",
    "\n",
    "\n",
    "fig.suptitle('Evaluation Metric on using different training size on Multi-Label Classification\\n',\n",
    "             fontsize = 20)\n",
    "fig.tight_layout()\n",
    "\n",
    "axes[0].set_title('F1 score - macro')\n",
    "axes[1].set_title('Accuracy')\n",
    "axes[2].set_title('Hemming Loss')\n",
    "\n",
    "axes[0].set_xlabel('Number of training samples')\n",
    "axes[1].set_xlabel('Number of training samples')\n",
    "axes[2].set_xlabel('Number of training samples')\n",
    "\n",
    "axes[0].set_xticks(range(6), n_samples )\n",
    "axes[1].set_xticks(range(6), n_samples )\n",
    "axes[2].set_xticks(range(6), n_samples )\n",
    "plt.show()"
   ]
  },
  {
   "cell_type": "code",
   "execution_count": 257,
   "metadata": {},
   "outputs": [
    {
     "name": "stdout",
     "output_type": "stream",
     "text": [
      "              precision    recall  f1-score   support\n",
      "\n",
      "           0       0.80      0.87      0.83        63\n",
      "           1       0.67      0.36      0.47        22\n",
      "           2       0.77      0.50      0.61        20\n",
      "           3       0.75      0.26      0.39        23\n",
      "\n",
      "   micro avg       0.77      0.62      0.69       128\n",
      "   macro avg       0.75      0.50      0.57       128\n",
      "weighted avg       0.76      0.62      0.66       128\n",
      " samples avg       0.75      0.66      0.67       128\n",
      "\n"
     ]
    },
    {
     "name": "stderr",
     "output_type": "stream",
     "text": [
      "/Users/carlosito/Documents/Virtual_Environment/hexamind/lib/python3.10/site-packages/sklearn/metrics/_classification.py:1344: UndefinedMetricWarning: Precision and F-score are ill-defined and being set to 0.0 in samples with no predicted labels. Use `zero_division` parameter to control this behavior.\n",
      "  _warn_prf(average, modifier, msg_start, len(result))\n",
      "/Users/carlosito/Documents/Virtual_Environment/hexamind/lib/python3.10/site-packages/sklearn/metrics/_classification.py:1344: UndefinedMetricWarning: Recall and F-score are ill-defined and being set to 0.0 in samples with no true labels. Use `zero_division` parameter to control this behavior.\n",
      "  _warn_prf(average, modifier, msg_start, len(result))\n"
     ]
    }
   ],
   "source": [
    "print(classification_report(y_true = y_test,\n",
    "                            y_pred = prediction))"
   ]
  },
  {
   "cell_type": "code",
   "execution_count": 76,
   "metadata": {},
   "outputs": [],
   "source": [
    "summary_df = pd.DataFrame( [ [\"a\" ,\"b\",\"c\", \"d\"] , prediction.sum(axis = 0) , ['prediction without stopwords' for i in range(4)]]).T\n",
    "summary_df.columns = ['class_name', 'count', 'type']\n",
    "\n",
    "y_test_summary_df = pd.DataFrame( [ [\"a\" ,\"b\",\"c\", \"d\"] , y_test.sum(axis = 0) , ['y_test' for i in range(4)]]).T\n",
    "y_test_summary_df.columns = ['class_name', 'count', 'type']\n"
   ]
  },
  {
   "cell_type": "code",
   "execution_count": 77,
   "metadata": {},
   "outputs": [
    {
     "data": {
      "text/html": [
       "<div>\n",
       "<style scoped>\n",
       "    .dataframe tbody tr th:only-of-type {\n",
       "        vertical-align: middle;\n",
       "    }\n",
       "\n",
       "    .dataframe tbody tr th {\n",
       "        vertical-align: top;\n",
       "    }\n",
       "\n",
       "    .dataframe thead th {\n",
       "        text-align: right;\n",
       "    }\n",
       "</style>\n",
       "<table border=\"1\" class=\"dataframe\">\n",
       "  <thead>\n",
       "    <tr style=\"text-align: right;\">\n",
       "      <th></th>\n",
       "      <th>class_name</th>\n",
       "      <th>count</th>\n",
       "      <th>type</th>\n",
       "    </tr>\n",
       "  </thead>\n",
       "  <tbody>\n",
       "    <tr>\n",
       "      <th>0</th>\n",
       "      <td>a</td>\n",
       "      <td>63</td>\n",
       "      <td>y_test</td>\n",
       "    </tr>\n",
       "    <tr>\n",
       "      <th>1</th>\n",
       "      <td>b</td>\n",
       "      <td>22</td>\n",
       "      <td>y_test</td>\n",
       "    </tr>\n",
       "    <tr>\n",
       "      <th>2</th>\n",
       "      <td>c</td>\n",
       "      <td>20</td>\n",
       "      <td>y_test</td>\n",
       "    </tr>\n",
       "    <tr>\n",
       "      <th>3</th>\n",
       "      <td>d</td>\n",
       "      <td>23</td>\n",
       "      <td>y_test</td>\n",
       "    </tr>\n",
       "  </tbody>\n",
       "</table>\n",
       "</div>"
      ],
      "text/plain": [
       "  class_name count    type\n",
       "0          a    63  y_test\n",
       "1          b    22  y_test\n",
       "2          c    20  y_test\n",
       "3          d    23  y_test"
      ]
     },
     "execution_count": 77,
     "metadata": {},
     "output_type": "execute_result"
    }
   ],
   "source": [
    "y_test_summary_df"
   ]
  },
  {
   "cell_type": "code",
   "execution_count": 78,
   "metadata": {},
   "outputs": [
    {
     "data": {
      "text/html": [
       "<div>\n",
       "<style scoped>\n",
       "    .dataframe tbody tr th:only-of-type {\n",
       "        vertical-align: middle;\n",
       "    }\n",
       "\n",
       "    .dataframe tbody tr th {\n",
       "        vertical-align: top;\n",
       "    }\n",
       "\n",
       "    .dataframe thead th {\n",
       "        text-align: right;\n",
       "    }\n",
       "</style>\n",
       "<table border=\"1\" class=\"dataframe\">\n",
       "  <thead>\n",
       "    <tr style=\"text-align: right;\">\n",
       "      <th></th>\n",
       "      <th>class_name</th>\n",
       "      <th>count</th>\n",
       "      <th>type</th>\n",
       "    </tr>\n",
       "  </thead>\n",
       "  <tbody>\n",
       "    <tr>\n",
       "      <th>0</th>\n",
       "      <td>a</td>\n",
       "      <td>69</td>\n",
       "      <td>prediction without stopwords</td>\n",
       "    </tr>\n",
       "    <tr>\n",
       "      <th>1</th>\n",
       "      <td>b</td>\n",
       "      <td>12</td>\n",
       "      <td>prediction without stopwords</td>\n",
       "    </tr>\n",
       "    <tr>\n",
       "      <th>2</th>\n",
       "      <td>c</td>\n",
       "      <td>13</td>\n",
       "      <td>prediction without stopwords</td>\n",
       "    </tr>\n",
       "    <tr>\n",
       "      <th>3</th>\n",
       "      <td>d</td>\n",
       "      <td>8</td>\n",
       "      <td>prediction without stopwords</td>\n",
       "    </tr>\n",
       "    <tr>\n",
       "      <th>0</th>\n",
       "      <td>a</td>\n",
       "      <td>63</td>\n",
       "      <td>y_test</td>\n",
       "    </tr>\n",
       "    <tr>\n",
       "      <th>1</th>\n",
       "      <td>b</td>\n",
       "      <td>22</td>\n",
       "      <td>y_test</td>\n",
       "    </tr>\n",
       "    <tr>\n",
       "      <th>2</th>\n",
       "      <td>c</td>\n",
       "      <td>20</td>\n",
       "      <td>y_test</td>\n",
       "    </tr>\n",
       "    <tr>\n",
       "      <th>3</th>\n",
       "      <td>d</td>\n",
       "      <td>23</td>\n",
       "      <td>y_test</td>\n",
       "    </tr>\n",
       "  </tbody>\n",
       "</table>\n",
       "</div>"
      ],
      "text/plain": [
       "  class_name count                          type\n",
       "0          a    69  prediction without stopwords\n",
       "1          b    12  prediction without stopwords\n",
       "2          c    13  prediction without stopwords\n",
       "3          d     8  prediction without stopwords\n",
       "0          a    63                        y_test\n",
       "1          b    22                        y_test\n",
       "2          c    20                        y_test\n",
       "3          d    23                        y_test"
      ]
     },
     "execution_count": 78,
     "metadata": {},
     "output_type": "execute_result"
    }
   ],
   "source": [
    "test_plot = pd.concat([summary_df, y_test_summary_df])\n",
    "test_plot"
   ]
  },
  {
   "cell_type": "code",
   "execution_count": 79,
   "metadata": {},
   "outputs": [
    {
     "data": {
      "text/plain": [
       "<AxesSubplot: xlabel='class_name', ylabel='count'>"
      ]
     },
     "execution_count": 79,
     "metadata": {},
     "output_type": "execute_result"
    },
    {
     "data": {
      "image/png": "[encoded data removed]",
      "text/plain": [
       "<Figure size 640x480 with 1 Axes>"
      ]
     },
     "metadata": {},
     "output_type": "display_data"
    }
   ],
   "source": [
    "sns.barplot(data=test_plot, x= 'class_name', y ='count', hue = 'type')"
   ]
  },
  {
   "cell_type": "code",
   "execution_count": 17,
   "metadata": {},
   "outputs": [
    {
     "data": {
      "text/html": [
       "<div>\n",
       "<style scoped>\n",
       "    .dataframe tbody tr th:only-of-type {\n",
       "        vertical-align: middle;\n",
       "    }\n",
       "\n",
       "    .dataframe tbody tr th {\n",
       "        vertical-align: top;\n",
       "    }\n",
       "\n",
       "    .dataframe thead th {\n",
       "        text-align: right;\n",
       "    }\n",
       "</style>\n",
       "<table border=\"1\" class=\"dataframe\">\n",
       "  <thead>\n",
       "    <tr style=\"text-align: right;\">\n",
       "      <th></th>\n",
       "      <th>index</th>\n",
       "      <th>titles</th>\n",
       "      <th>ratings</th>\n",
       "      <th>reviewer</th>\n",
       "      <th>reviews</th>\n",
       "      <th>english</th>\n",
       "      <th>dates</th>\n",
       "      <th>replies</th>\n",
       "      <th>reply_dates</th>\n",
       "      <th>clean_review</th>\n",
       "      <th>...</th>\n",
       "      <th>Carrefour</th>\n",
       "      <th>Other brand</th>\n",
       "      <th>reimbursement</th>\n",
       "      <th>clean_BE</th>\n",
       "      <th>clean_PD</th>\n",
       "      <th>clean_DM</th>\n",
       "      <th>clean_AS</th>\n",
       "      <th>summary</th>\n",
       "      <th>top_3</th>\n",
       "      <th>proper_n</th>\n",
       "    </tr>\n",
       "  </thead>\n",
       "  <tbody>\n",
       "    <tr>\n",
       "      <th>10</th>\n",
       "      <td>11</td>\n",
       "      <td>Autant l'hyper de ma ville est plus…</td>\n",
       "      <td>3</td>\n",
       "      <td>Poon</td>\n",
       "      <td>Autant l'hyper de ma ville est plus complet, a...</td>\n",
       "      <td>As much the hyper of my city is more complete,...</td>\n",
       "      <td>2023-01-28T22:00:47.000Z</td>\n",
       "      <td>Bonjour, effectivement, vos magasins de proxim...</td>\n",
       "      <td>2023-01-31T12:22:09.000Z</td>\n",
       "      <td>Autant l'hyper de ma ville est plus complet, a...</td>\n",
       "      <td>...</td>\n",
       "      <td>False</td>\n",
       "      <td>False</td>\n",
       "      <td>False</td>\n",
       "      <td>1</td>\n",
       "      <td>0</td>\n",
       "      <td>0</td>\n",
       "      <td>0</td>\n",
       "      <td>NaN</td>\n",
       "      <td>NaN</td>\n",
       "      <td>NaN</td>\n",
       "    </tr>\n",
       "    <tr>\n",
       "      <th>14</th>\n",
       "      <td>15</td>\n",
       "      <td>Carrefour  France</td>\n",
       "      <td>3</td>\n",
       "      <td>Poon</td>\n",
       "      <td>Carrefour  France, vous choisissez de mettre e...</td>\n",
       "      <td>Carrefour France, you choose to set up boxes w...</td>\n",
       "      <td>2023-01-25T11:25:11.000Z</td>\n",
       "      <td>Bonjour, pourriez-vous nous communiquer plus d...</td>\n",
       "      <td>2023-01-25T12:44:28.000Z</td>\n",
       "      <td>Carrefour  France, vous choisissez de mettre e...</td>\n",
       "      <td>...</td>\n",
       "      <td>False</td>\n",
       "      <td>False</td>\n",
       "      <td>False</td>\n",
       "      <td>1</td>\n",
       "      <td>0</td>\n",
       "      <td>0</td>\n",
       "      <td>0</td>\n",
       "      <td>NaN</td>\n",
       "      <td>NaN</td>\n",
       "      <td>NaN</td>\n",
       "    </tr>\n",
       "    <tr>\n",
       "      <th>16</th>\n",
       "      <td>17</td>\n",
       "      <td>Carrefour Grand Var</td>\n",
       "      <td>2</td>\n",
       "      <td>Yves</td>\n",
       "      <td>Carrefour Grand Var : cela fait quelques moi q...</td>\n",
       "      <td>NaN</td>\n",
       "      <td>2023-01-17T05:00:41.000Z</td>\n",
       "      <td>Bonjour, nous vous remercions pour votre signa...</td>\n",
       "      <td>2023-01-17T15:05:55.000Z</td>\n",
       "      <td>Carrefour Grand Var : cela fait quelques moi q...</td>\n",
       "      <td>...</td>\n",
       "      <td>False</td>\n",
       "      <td>False</td>\n",
       "      <td>False</td>\n",
       "      <td>1</td>\n",
       "      <td>0</td>\n",
       "      <td>0</td>\n",
       "      <td>0</td>\n",
       "      <td>NaN</td>\n",
       "      <td>NaN</td>\n",
       "      <td>NaN</td>\n",
       "    </tr>\n",
       "    <tr>\n",
       "      <th>19</th>\n",
       "      <td>20</td>\n",
       "      <td>Carrefour market très bien mais il…</td>\n",
       "      <td>3</td>\n",
       "      <td>Poon</td>\n",
       "      <td>Carrefour market Miramas très bien mais il n'e...</td>\n",
       "      <td>Carrefour Market Miramas very well but it is n...</td>\n",
       "      <td>2023-01-21T06:31:51.000Z</td>\n",
       "      <td>Bonsoir, pourriez-vous nous apporter plus de p...</td>\n",
       "      <td>2023-01-21T07:55:55.000Z</td>\n",
       "      <td>Carrefour market Miramas très bien mais il n'e...</td>\n",
       "      <td>...</td>\n",
       "      <td>False</td>\n",
       "      <td>False</td>\n",
       "      <td>False</td>\n",
       "      <td>1</td>\n",
       "      <td>0</td>\n",
       "      <td>0</td>\n",
       "      <td>0</td>\n",
       "      <td>NaN</td>\n",
       "      <td>NaN</td>\n",
       "      <td>NaN</td>\n",
       "    </tr>\n",
       "    <tr>\n",
       "      <th>21</th>\n",
       "      <td>22</td>\n",
       "      <td>PUBLICITE MENSONGERE</td>\n",
       "      <td>1</td>\n",
       "      <td>Yves</td>\n",
       "      <td>je reçois ce matin un sms de carrefour me disa...</td>\n",
       "      <td>NaN</td>\n",
       "      <td>2023-01-12T08:29:08.000Z</td>\n",
       "      <td>Bonjour, afin d'expertiser cette situation, no...</td>\n",
       "      <td>2023-01-13T14:48:32.000Z</td>\n",
       "      <td>je reçois ce matin un sms de carrefour me disa...</td>\n",
       "      <td>...</td>\n",
       "      <td>False</td>\n",
       "      <td>False</td>\n",
       "      <td>False</td>\n",
       "      <td>1</td>\n",
       "      <td>0</td>\n",
       "      <td>0</td>\n",
       "      <td>0</td>\n",
       "      <td>NaN</td>\n",
       "      <td>NaN</td>\n",
       "      <td>NaN</td>\n",
       "    </tr>\n",
       "    <tr>\n",
       "      <th>...</th>\n",
       "      <td>...</td>\n",
       "      <td>...</td>\n",
       "      <td>...</td>\n",
       "      <td>...</td>\n",
       "      <td>...</td>\n",
       "      <td>...</td>\n",
       "      <td>...</td>\n",
       "      <td>...</td>\n",
       "      <td>...</td>\n",
       "      <td>...</td>\n",
       "      <td>...</td>\n",
       "      <td>...</td>\n",
       "      <td>...</td>\n",
       "      <td>...</td>\n",
       "      <td>...</td>\n",
       "      <td>...</td>\n",
       "      <td>...</td>\n",
       "      <td>...</td>\n",
       "      <td>...</td>\n",
       "      <td>...</td>\n",
       "      <td>...</td>\n",
       "    </tr>\n",
       "    <tr>\n",
       "      <th>1961</th>\n",
       "      <td>1962</td>\n",
       "      <td>Aucun contact possible avec le SAV</td>\n",
       "      <td>1</td>\n",
       "      <td>Insaf</td>\n",
       "      <td>À l'heure ou j'écris j'en suis au 5eme appel c...</td>\n",
       "      <td>NaN</td>\n",
       "      <td>2014-09-12T14:27:00.000Z</td>\n",
       "      <td>NaN</td>\n",
       "      <td>NaN</td>\n",
       "      <td>À l'heure ou j'écris j'en suis au 5eme appel c...</td>\n",
       "      <td>...</td>\n",
       "      <td>True</td>\n",
       "      <td>False</td>\n",
       "      <td>False</td>\n",
       "      <td>1</td>\n",
       "      <td>0</td>\n",
       "      <td>1</td>\n",
       "      <td>1</td>\n",
       "      <td>NaN</td>\n",
       "      <td>NaN</td>\n",
       "      <td>NaN</td>\n",
       "    </tr>\n",
       "    <tr>\n",
       "      <th>1964</th>\n",
       "      <td>1965</td>\n",
       "      <td>Publicité mensongère, site online inacceptable...</td>\n",
       "      <td>1</td>\n",
       "      <td>Insaf</td>\n",
       "      <td>des expériences similaires à la mienne ont déj...</td>\n",
       "      <td>NaN</td>\n",
       "      <td>2014-09-05T19:59:34.000Z</td>\n",
       "      <td>NaN</td>\n",
       "      <td>NaN</td>\n",
       "      <td>des expériences similaires à la mienne ont déj...</td>\n",
       "      <td>...</td>\n",
       "      <td>True</td>\n",
       "      <td>False</td>\n",
       "      <td>False</td>\n",
       "      <td>1</td>\n",
       "      <td>1</td>\n",
       "      <td>1</td>\n",
       "      <td>1</td>\n",
       "      <td>NaN</td>\n",
       "      <td>NaN</td>\n",
       "      <td>NaN</td>\n",
       "    </tr>\n",
       "    <tr>\n",
       "      <th>1968</th>\n",
       "      <td>1969</td>\n",
       "      <td>Produit défectueux et SAV lamentable</td>\n",
       "      <td>1</td>\n",
       "      <td>Insaf</td>\n",
       "      <td>J'ai reçu un produit défectueux et le SAV refu...</td>\n",
       "      <td>NaN</td>\n",
       "      <td>2014-08-07T10:04:22.000Z</td>\n",
       "      <td>NaN</td>\n",
       "      <td>NaN</td>\n",
       "      <td>J'ai reçu un produit défectueux et le SAV refu...</td>\n",
       "      <td>...</td>\n",
       "      <td>False</td>\n",
       "      <td>False</td>\n",
       "      <td>True</td>\n",
       "      <td>1</td>\n",
       "      <td>1</td>\n",
       "      <td>0</td>\n",
       "      <td>1</td>\n",
       "      <td>NaN</td>\n",
       "      <td>NaN</td>\n",
       "      <td>NaN</td>\n",
       "    </tr>\n",
       "    <tr>\n",
       "      <th>1972</th>\n",
       "      <td>1973</td>\n",
       "      <td>inacceptable, mauvais service après-vente</td>\n",
       "      <td>1</td>\n",
       "      <td>All</td>\n",
       "      <td>Je fais toutes mes courses chaque semaine à ca...</td>\n",
       "      <td>NaN</td>\n",
       "      <td>2014-06-12T09:45:37.000Z</td>\n",
       "      <td>NaN</td>\n",
       "      <td>NaN</td>\n",
       "      <td>Je fais toutes mes courses chaque semaine à ca...</td>\n",
       "      <td>...</td>\n",
       "      <td>True</td>\n",
       "      <td>False</td>\n",
       "      <td>False</td>\n",
       "      <td>1</td>\n",
       "      <td>0</td>\n",
       "      <td>0</td>\n",
       "      <td>1</td>\n",
       "      <td>NaN</td>\n",
       "      <td>NaN</td>\n",
       "      <td>NaN</td>\n",
       "    </tr>\n",
       "    <tr>\n",
       "      <th>1992</th>\n",
       "      <td>1993</td>\n",
       "      <td>Bonne marque si on ouvre l´oeil sur les prix !</td>\n",
       "      <td>4</td>\n",
       "      <td>Poon</td>\n",
       "      <td>Le personnel se donne vraiment, surtout les ca...</td>\n",
       "      <td>The staff really give themselves, especially t...</td>\n",
       "      <td>2012-09-04T17:22:15.000Z</td>\n",
       "      <td>NaN</td>\n",
       "      <td>NaN</td>\n",
       "      <td>Le personnel se donne vraiment, surtout les ca...</td>\n",
       "      <td>...</td>\n",
       "      <td>False</td>\n",
       "      <td>False</td>\n",
       "      <td>False</td>\n",
       "      <td>1</td>\n",
       "      <td>1</td>\n",
       "      <td>0</td>\n",
       "      <td>0</td>\n",
       "      <td>NaN</td>\n",
       "      <td>NaN</td>\n",
       "      <td>NaN</td>\n",
       "    </tr>\n",
       "  </tbody>\n",
       "</table>\n",
       "<p>198 rows × 36 columns</p>\n",
       "</div>"
      ],
      "text/plain": [
       "      index                                             titles  ratings  \\\n",
       "10       11               Autant l'hyper de ma ville est plus…        3   \n",
       "14       15                                  Carrefour  France        3   \n",
       "16       17                                Carrefour Grand Var        2   \n",
       "19       20                Carrefour market très bien mais il…        3   \n",
       "21       22                               PUBLICITE MENSONGERE        1   \n",
       "...     ...                                                ...      ...   \n",
       "1961   1962                 Aucun contact possible avec le SAV        1   \n",
       "1964   1965  Publicité mensongère, site online inacceptable...        1   \n",
       "1968   1969               Produit défectueux et SAV lamentable        1   \n",
       "1972   1973          inacceptable, mauvais service après-vente        1   \n",
       "1992   1993     Bonne marque si on ouvre l´oeil sur les prix !        4   \n",
       "\n",
       "     reviewer                                            reviews  \\\n",
       "10       Poon  Autant l'hyper de ma ville est plus complet, a...   \n",
       "14       Poon  Carrefour  France, vous choisissez de mettre e...   \n",
       "16       Yves  Carrefour Grand Var : cela fait quelques moi q...   \n",
       "19       Poon  Carrefour market Miramas très bien mais il n'e...   \n",
       "21       Yves  je reçois ce matin un sms de carrefour me disa...   \n",
       "...       ...                                                ...   \n",
       "1961    Insaf  À l'heure ou j'écris j'en suis au 5eme appel c...   \n",
       "1964    Insaf  des expériences similaires à la mienne ont déj...   \n",
       "1968    Insaf  J'ai reçu un produit défectueux et le SAV refu...   \n",
       "1972      All  Je fais toutes mes courses chaque semaine à ca...   \n",
       "1992     Poon  Le personnel se donne vraiment, surtout les ca...   \n",
       "\n",
       "                                                english  \\\n",
       "10    As much the hyper of my city is more complete,...   \n",
       "14    Carrefour France, you choose to set up boxes w...   \n",
       "16                                                  NaN   \n",
       "19    Carrefour Market Miramas very well but it is n...   \n",
       "21                                                  NaN   \n",
       "...                                                 ...   \n",
       "1961                                                NaN   \n",
       "1964                                                NaN   \n",
       "1968                                                NaN   \n",
       "1972                                                NaN   \n",
       "1992  The staff really give themselves, especially t...   \n",
       "\n",
       "                         dates  \\\n",
       "10    2023-01-28T22:00:47.000Z   \n",
       "14    2023-01-25T11:25:11.000Z   \n",
       "16    2023-01-17T05:00:41.000Z   \n",
       "19    2023-01-21T06:31:51.000Z   \n",
       "21    2023-01-12T08:29:08.000Z   \n",
       "...                        ...   \n",
       "1961  2014-09-12T14:27:00.000Z   \n",
       "1964  2014-09-05T19:59:34.000Z   \n",
       "1968  2014-08-07T10:04:22.000Z   \n",
       "1972  2014-06-12T09:45:37.000Z   \n",
       "1992  2012-09-04T17:22:15.000Z   \n",
       "\n",
       "                                                replies  \\\n",
       "10    Bonjour, effectivement, vos magasins de proxim...   \n",
       "14    Bonjour, pourriez-vous nous communiquer plus d...   \n",
       "16    Bonjour, nous vous remercions pour votre signa...   \n",
       "19    Bonsoir, pourriez-vous nous apporter plus de p...   \n",
       "21    Bonjour, afin d'expertiser cette situation, no...   \n",
       "...                                                 ...   \n",
       "1961                                                NaN   \n",
       "1964                                                NaN   \n",
       "1968                                                NaN   \n",
       "1972                                                NaN   \n",
       "1992                                                NaN   \n",
       "\n",
       "                   reply_dates  \\\n",
       "10    2023-01-31T12:22:09.000Z   \n",
       "14    2023-01-25T12:44:28.000Z   \n",
       "16    2023-01-17T15:05:55.000Z   \n",
       "19    2023-01-21T07:55:55.000Z   \n",
       "21    2023-01-13T14:48:32.000Z   \n",
       "...                        ...   \n",
       "1961                       NaN   \n",
       "1964                       NaN   \n",
       "1968                       NaN   \n",
       "1972                       NaN   \n",
       "1992                       NaN   \n",
       "\n",
       "                                           clean_review  ... Carrefour  \\\n",
       "10    Autant l'hyper de ma ville est plus complet, a...  ...     False   \n",
       "14    Carrefour  France, vous choisissez de mettre e...  ...     False   \n",
       "16    Carrefour Grand Var : cela fait quelques moi q...  ...     False   \n",
       "19    Carrefour market Miramas très bien mais il n'e...  ...     False   \n",
       "21    je reçois ce matin un sms de carrefour me disa...  ...     False   \n",
       "...                                                 ...  ...       ...   \n",
       "1961  À l'heure ou j'écris j'en suis au 5eme appel c...  ...      True   \n",
       "1964  des expériences similaires à la mienne ont déj...  ...      True   \n",
       "1968  J'ai reçu un produit défectueux et le SAV refu...  ...     False   \n",
       "1972  Je fais toutes mes courses chaque semaine à ca...  ...      True   \n",
       "1992  Le personnel se donne vraiment, surtout les ca...  ...     False   \n",
       "\n",
       "      Other brand reimbursement clean_BE clean_PD clean_DM clean_AS summary  \\\n",
       "10          False         False        1        0        0        0     NaN   \n",
       "14          False         False        1        0        0        0     NaN   \n",
       "16          False         False        1        0        0        0     NaN   \n",
       "19          False         False        1        0        0        0     NaN   \n",
       "21          False         False        1        0        0        0     NaN   \n",
       "...           ...           ...      ...      ...      ...      ...     ...   \n",
       "1961        False         False        1        0        1        1     NaN   \n",
       "1964        False         False        1        1        1        1     NaN   \n",
       "1968        False          True        1        1        0        1     NaN   \n",
       "1972        False         False        1        0        0        1     NaN   \n",
       "1992        False         False        1        1        0        0     NaN   \n",
       "\n",
       "     top_3 proper_n  \n",
       "10     NaN      NaN  \n",
       "14     NaN      NaN  \n",
       "16     NaN      NaN  \n",
       "19     NaN      NaN  \n",
       "21     NaN      NaN  \n",
       "...    ...      ...  \n",
       "1961   NaN      NaN  \n",
       "1964   NaN      NaN  \n",
       "1968   NaN      NaN  \n",
       "1972   NaN      NaN  \n",
       "1992   NaN      NaN  \n",
       "\n",
       "[198 rows x 36 columns]"
      ]
     },
     "execution_count": 17,
     "metadata": {},
     "output_type": "execute_result"
    }
   ],
   "source": [
    "BE_count = CountVectorizer()\n",
    "label_df[label_df['clean_BE'] == 1]"
   ]
  },
  {
   "attachments": {},
   "cell_type": "markdown",
   "metadata": {},
   "source": [
    "# Now let's augment the data by using `nlpAug`"
   ]
  },
  {
   "cell_type": "code",
   "execution_count": 80,
   "metadata": {},
   "outputs": [
    {
     "name": "stderr",
     "output_type": "stream",
     "text": [
      "/Users/carlosito/Documents/Virtual_Environment/hexamind/lib/python3.10/site-packages/tqdm/auto.py:22: TqdmWarning: IProgress not found. Please update jupyter and ipywidgets. See https://ipywidgets.readthedocs.io/en/stable/user_install.html\n",
      "  from .autonotebook import tqdm as notebook_tqdm\n"
     ]
    }
   ],
   "source": [
    "import nlpaug.augmenter.word as naw"
   ]
  },
  {
   "cell_type": "code",
   "execution_count": 108,
   "metadata": {},
   "outputs": [
    {
     "name": "stdout",
     "output_type": "stream",
     "text": [
      "Original:\n",
      "No se que hacer\n",
      "Augmented Text:\n",
      "['No se que hacer']\n"
     ]
    }
   ],
   "source": [
    "text = 'No se que hacer'\n",
    "aug = naw.SynonymAug(aug_src='wordnet', lang='spa')\n",
    "augmented_text = aug.augment(text)\n",
    "print(\"Original:\")\n",
    "print(text)\n",
    "print(\"Augmented Text:\")\n",
    "print(augmented_text)"
   ]
  },
  {
   "cell_type": "code",
   "execution_count": 137,
   "metadata": {},
   "outputs": [
    {
     "name": "stdout",
     "output_type": "stream",
     "text": [
      "Original:\n",
      "Concernant les couteaux Sabatier Concernant les couteaux Sabatier. Les magasins carrefour sont en rupture de stock depuis des semaines. Le service clientèle n'a de cesse de donner ce lien pour les reserver en ligne, mais la page web est une impasse.Aucune option n'est offerte afin de reserver un produit quelconque à cette page. Avis au service clientèle Carrefour: Merci de nous indiquer la marche à suivre si possible\n",
      "Augmented Text:\n",
      "[\"Concernant les couteaux Sabatier Concernant les couteaux Sabatier. Les magasins carrefour sont en rupture de réserve depuis des semaines. Le service clientèle n ' a de cesse de donner ce lien pour les reserver en ligne, mais la côté web est une cul. Aucune option n ' est offerte afin de reserver un produit quelconque à cette page. Avis au appareil clientèle Carrefour: Merci de nous indiquer la marche une suivre système international d'unités possible\"]\n"
     ]
    }
   ],
   "source": [
    "text = label_df.combined_reviews.iloc[87]\n",
    "aug = naw.SynonymAug(aug_src='wordnet', lang='fra' , aug_p= 0.5)\n",
    "augmented_text = aug.augment(text)\n",
    "print(\"Original:\")\n",
    "print(text)\n",
    "print(\"Augmented Text:\")\n",
    "print(augmented_text)"
   ]
  },
  {
   "attachments": {},
   "cell_type": "markdown",
   "metadata": {},
   "source": [
    "## Augment on those small unbalanced clasess [1, 2, 3]"
   ]
  },
  {
   "cell_type": "code",
   "execution_count": 145,
   "metadata": {},
   "outputs": [
    {
     "name": "stdout",
     "output_type": "stream",
     "text": [
      "37\n",
      "34\n",
      "31\n"
     ]
    }
   ],
   "source": [
    "# belong to PD but not in BE\n",
    "print(len(label_df[(label_df['clean_PD']== 1)  & (label_df['clean_BE'] != 1)  ]))\n",
    "# belong to PD but not in BE)\n",
    "print(len(label_df[(label_df['clean_DM']== 1)  & (label_df['clean_BE'] != 1)  ]))\n",
    "# belong to AS but not in BE)\n",
    "print(len(label_df[(label_df['clean_AS']== 1)  & (label_df['clean_BE'] != 1)  ]))"
   ]
  },
  {
   "cell_type": "code",
   "execution_count": 186,
   "metadata": {},
   "outputs": [],
   "source": [
    "aug = naw.SynonymAug(aug_src='wordnet', lang='fra' , aug_p= 0.5)\n",
    "def augment_text(original_text, augmentor = aug):\n",
    "    augmented_text = aug.augment(original_text)\n",
    "    return augmented_text[0]"
   ]
  },
  {
   "cell_type": "code",
   "execution_count": 187,
   "metadata": {},
   "outputs": [
    {
     "data": {
      "text/plain": [
       "'Moi suis etudiant'"
      ]
     },
     "execution_count": 187,
     "metadata": {},
     "output_type": "execute_result"
    }
   ],
   "source": [
    "augment_text(\"Je suis etudiant\")"
   ]
  },
  {
   "cell_type": "code",
   "execution_count": 158,
   "metadata": {},
   "outputs": [],
   "source": [
    "conditions = ( \n",
    "              ((label_df['clean_PD']== 1)  & (label_df['clean_BE'] != 1) ) |\n",
    "              ((label_df['clean_DM']== 1)  & (label_df['clean_BE'] != 1) ) |\n",
    "              ((label_df['clean_AS']== 1)  & (label_df['clean_BE'] != 1) )\n",
    "              ) \n",
    "\n",
    "\n",
    "# label_df[(label_df['clean_AS']== 1)  & (label_df['clean_BE'] != 1)  ]"
   ]
  },
  {
   "cell_type": "code",
   "execution_count": 174,
   "metadata": {},
   "outputs": [
    {
     "data": {
      "text/plain": [
       "(74, 36)"
      ]
     },
     "execution_count": 174,
     "metadata": {},
     "output_type": "execute_result"
    }
   ],
   "source": [
    "augmented_df =  label_df[conditions].copy(deep =True)\n",
    "augmented_df.shape"
   ]
  },
  {
   "cell_type": "code",
   "execution_count": 172,
   "metadata": {},
   "outputs": [
    {
     "data": {
      "text/plain": [
       "<BarContainer object of 4 artists>"
      ]
     },
     "execution_count": 172,
     "metadata": {},
     "output_type": "execute_result"
    },
    {
     "data": {
      "image/png": "[encoded data removed]",
      "text/plain": [
       "<Figure size 640x480 with 1 Axes>"
      ]
     },
     "metadata": {},
     "output_type": "display_data"
    }
   ],
   "source": [
    "# Count the original distribution of each topics\n",
    "plt.bar([0,1,2,3] , label_df.iloc[: ,-7: -3].sum(axis= 0))"
   ]
  },
  {
   "attachments": {},
   "cell_type": "markdown",
   "metadata": {},
   "source": [
    "### Let's replace the combined reviews columns with the augmented so it is easier to stack this augmented df with the original label_df"
   ]
  },
  {
   "cell_type": "code",
   "execution_count": 189,
   "metadata": {},
   "outputs": [],
   "source": [
    "augmented_df['combined_reviews'] = augmented_df['combined_reviews'].apply(lambda x : augment_text(x))"
   ]
  },
  {
   "cell_type": "code",
   "execution_count": 191,
   "metadata": {},
   "outputs": [],
   "source": [
    "assert augmented_df.shape[1] == label_df.shape[1]"
   ]
  },
  {
   "cell_type": "code",
   "execution_count": 203,
   "metadata": {},
   "outputs": [
    {
     "data": {
      "text/html": [
       "<div>\n",
       "<style scoped>\n",
       "    .dataframe tbody tr th:only-of-type {\n",
       "        vertical-align: middle;\n",
       "    }\n",
       "\n",
       "    .dataframe tbody tr th {\n",
       "        vertical-align: top;\n",
       "    }\n",
       "\n",
       "    .dataframe thead th {\n",
       "        text-align: right;\n",
       "    }\n",
       "</style>\n",
       "<table border=\"1\" class=\"dataframe\">\n",
       "  <thead>\n",
       "    <tr style=\"text-align: right;\">\n",
       "      <th></th>\n",
       "      <th>index</th>\n",
       "      <th>titles</th>\n",
       "      <th>ratings</th>\n",
       "      <th>reviewer</th>\n",
       "      <th>reviews</th>\n",
       "      <th>english</th>\n",
       "      <th>dates</th>\n",
       "      <th>replies</th>\n",
       "      <th>reply_dates</th>\n",
       "      <th>clean_review</th>\n",
       "      <th>...</th>\n",
       "      <th>Carrefour</th>\n",
       "      <th>Other brand</th>\n",
       "      <th>reimbursement</th>\n",
       "      <th>clean_BE</th>\n",
       "      <th>clean_PD</th>\n",
       "      <th>clean_DM</th>\n",
       "      <th>clean_AS</th>\n",
       "      <th>summary</th>\n",
       "      <th>top_3</th>\n",
       "      <th>proper_n</th>\n",
       "    </tr>\n",
       "  </thead>\n",
       "  <tbody>\n",
       "    <tr>\n",
       "      <th>0</th>\n",
       "      <td>11</td>\n",
       "      <td>Autant l'hyper de ma ville est plus…</td>\n",
       "      <td>3</td>\n",
       "      <td>Poon</td>\n",
       "      <td>Autant l'hyper de ma ville est plus complet, a...</td>\n",
       "      <td>As much the hyper of my city is more complete,...</td>\n",
       "      <td>2023-01-28T22:00:47.000Z</td>\n",
       "      <td>Bonjour, effectivement, vos magasins de proxim...</td>\n",
       "      <td>2023-01-31T12:22:09.000Z</td>\n",
       "      <td>Autant l'hyper de ma ville est plus complet, a...</td>\n",
       "      <td>...</td>\n",
       "      <td>False</td>\n",
       "      <td>False</td>\n",
       "      <td>False</td>\n",
       "      <td>1</td>\n",
       "      <td>0</td>\n",
       "      <td>0</td>\n",
       "      <td>0</td>\n",
       "      <td>NaN</td>\n",
       "      <td>NaN</td>\n",
       "      <td>NaN</td>\n",
       "    </tr>\n",
       "    <tr>\n",
       "      <th>1</th>\n",
       "      <td>13</td>\n",
       "      <td>Livraison à domicile Orléans</td>\n",
       "      <td>4</td>\n",
       "      <td>Poon</td>\n",
       "      <td>Pour d'obscures raisons, la livraison à domici...</td>\n",
       "      <td>For obscure reasons, the home delivery of Inte...</td>\n",
       "      <td>2023-01-29T14:50:15.000Z</td>\n",
       "      <td>Bonjour, nous tenons à vous remercier pour vot...</td>\n",
       "      <td>2023-01-29T16:00:04.000Z</td>\n",
       "      <td>Pour d'obscures raisons, la livraison à domici...</td>\n",
       "      <td>...</td>\n",
       "      <td>False</td>\n",
       "      <td>False</td>\n",
       "      <td>False</td>\n",
       "      <td>0</td>\n",
       "      <td>0</td>\n",
       "      <td>1</td>\n",
       "      <td>0</td>\n",
       "      <td>NaN</td>\n",
       "      <td>NaN</td>\n",
       "      <td>NaN</td>\n",
       "    </tr>\n",
       "    <tr>\n",
       "      <th>2</th>\n",
       "      <td>15</td>\n",
       "      <td>Carrefour  France</td>\n",
       "      <td>3</td>\n",
       "      <td>Poon</td>\n",
       "      <td>Carrefour  France, vous choisissez de mettre e...</td>\n",
       "      <td>Carrefour France, you choose to set up boxes w...</td>\n",
       "      <td>2023-01-25T11:25:11.000Z</td>\n",
       "      <td>Bonjour, pourriez-vous nous communiquer plus d...</td>\n",
       "      <td>2023-01-25T12:44:28.000Z</td>\n",
       "      <td>Carrefour  France, vous choisissez de mettre e...</td>\n",
       "      <td>...</td>\n",
       "      <td>False</td>\n",
       "      <td>False</td>\n",
       "      <td>False</td>\n",
       "      <td>1</td>\n",
       "      <td>0</td>\n",
       "      <td>0</td>\n",
       "      <td>0</td>\n",
       "      <td>NaN</td>\n",
       "      <td>NaN</td>\n",
       "      <td>NaN</td>\n",
       "    </tr>\n",
       "    <tr>\n",
       "      <th>3</th>\n",
       "      <td>17</td>\n",
       "      <td>Carrefour Grand Var</td>\n",
       "      <td>2</td>\n",
       "      <td>Yves</td>\n",
       "      <td>Carrefour Grand Var : cela fait quelques moi q...</td>\n",
       "      <td>NaN</td>\n",
       "      <td>2023-01-17T05:00:41.000Z</td>\n",
       "      <td>Bonjour, nous vous remercions pour votre signa...</td>\n",
       "      <td>2023-01-17T15:05:55.000Z</td>\n",
       "      <td>Carrefour Grand Var : cela fait quelques moi q...</td>\n",
       "      <td>...</td>\n",
       "      <td>False</td>\n",
       "      <td>False</td>\n",
       "      <td>False</td>\n",
       "      <td>1</td>\n",
       "      <td>0</td>\n",
       "      <td>0</td>\n",
       "      <td>0</td>\n",
       "      <td>NaN</td>\n",
       "      <td>NaN</td>\n",
       "      <td>NaN</td>\n",
       "    </tr>\n",
       "    <tr>\n",
       "      <th>4</th>\n",
       "      <td>20</td>\n",
       "      <td>Carrefour market très bien mais il…</td>\n",
       "      <td>3</td>\n",
       "      <td>Poon</td>\n",
       "      <td>Carrefour market Miramas très bien mais il n'e...</td>\n",
       "      <td>Carrefour Market Miramas very well but it is n...</td>\n",
       "      <td>2023-01-21T06:31:51.000Z</td>\n",
       "      <td>Bonsoir, pourriez-vous nous apporter plus de p...</td>\n",
       "      <td>2023-01-21T07:55:55.000Z</td>\n",
       "      <td>Carrefour market Miramas très bien mais il n'e...</td>\n",
       "      <td>...</td>\n",
       "      <td>False</td>\n",
       "      <td>False</td>\n",
       "      <td>False</td>\n",
       "      <td>1</td>\n",
       "      <td>0</td>\n",
       "      <td>0</td>\n",
       "      <td>0</td>\n",
       "      <td>NaN</td>\n",
       "      <td>NaN</td>\n",
       "      <td>NaN</td>\n",
       "    </tr>\n",
       "  </tbody>\n",
       "</table>\n",
       "<p>5 rows × 36 columns</p>\n",
       "</div>"
      ],
      "text/plain": [
       "   index                                titles  ratings reviewer  \\\n",
       "0     11  Autant l'hyper de ma ville est plus…        3     Poon   \n",
       "1     13          Livraison à domicile Orléans        4     Poon   \n",
       "2     15                     Carrefour  France        3     Poon   \n",
       "3     17                   Carrefour Grand Var        2     Yves   \n",
       "4     20   Carrefour market très bien mais il…        3     Poon   \n",
       "\n",
       "                                             reviews  \\\n",
       "0  Autant l'hyper de ma ville est plus complet, a...   \n",
       "1  Pour d'obscures raisons, la livraison à domici...   \n",
       "2  Carrefour  France, vous choisissez de mettre e...   \n",
       "3  Carrefour Grand Var : cela fait quelques moi q...   \n",
       "4  Carrefour market Miramas très bien mais il n'e...   \n",
       "\n",
       "                                             english  \\\n",
       "0  As much the hyper of my city is more complete,...   \n",
       "1  For obscure reasons, the home delivery of Inte...   \n",
       "2  Carrefour France, you choose to set up boxes w...   \n",
       "3                                                NaN   \n",
       "4  Carrefour Market Miramas very well but it is n...   \n",
       "\n",
       "                      dates  \\\n",
       "0  2023-01-28T22:00:47.000Z   \n",
       "1  2023-01-29T14:50:15.000Z   \n",
       "2  2023-01-25T11:25:11.000Z   \n",
       "3  2023-01-17T05:00:41.000Z   \n",
       "4  2023-01-21T06:31:51.000Z   \n",
       "\n",
       "                                             replies  \\\n",
       "0  Bonjour, effectivement, vos magasins de proxim...   \n",
       "1  Bonjour, nous tenons à vous remercier pour vot...   \n",
       "2  Bonjour, pourriez-vous nous communiquer plus d...   \n",
       "3  Bonjour, nous vous remercions pour votre signa...   \n",
       "4  Bonsoir, pourriez-vous nous apporter plus de p...   \n",
       "\n",
       "                reply_dates  \\\n",
       "0  2023-01-31T12:22:09.000Z   \n",
       "1  2023-01-29T16:00:04.000Z   \n",
       "2  2023-01-25T12:44:28.000Z   \n",
       "3  2023-01-17T15:05:55.000Z   \n",
       "4  2023-01-21T07:55:55.000Z   \n",
       "\n",
       "                                        clean_review  ... Carrefour  \\\n",
       "0  Autant l'hyper de ma ville est plus complet, a...  ...     False   \n",
       "1  Pour d'obscures raisons, la livraison à domici...  ...     False   \n",
       "2  Carrefour  France, vous choisissez de mettre e...  ...     False   \n",
       "3  Carrefour Grand Var : cela fait quelques moi q...  ...     False   \n",
       "4  Carrefour market Miramas très bien mais il n'e...  ...     False   \n",
       "\n",
       "   Other brand reimbursement clean_BE clean_PD clean_DM clean_AS summary  \\\n",
       "0        False         False        1        0        0        0     NaN   \n",
       "1        False         False        0        0        1        0     NaN   \n",
       "2        False         False        1        0        0        0     NaN   \n",
       "3        False         False        1        0        0        0     NaN   \n",
       "4        False         False        1        0        0        0     NaN   \n",
       "\n",
       "  top_3 proper_n  \n",
       "0   NaN      NaN  \n",
       "1   NaN      NaN  \n",
       "2   NaN      NaN  \n",
       "3   NaN      NaN  \n",
       "4   NaN      NaN  \n",
       "\n",
       "[5 rows x 36 columns]"
      ]
     },
     "execution_count": 203,
     "metadata": {},
     "output_type": "execute_result"
    }
   ],
   "source": [
    "new_df = pd.concat([label_df, augmented_df]).reset_index(drop=True)\n",
    "new_df.head()"
   ]
  },
  {
   "cell_type": "code",
   "execution_count": 258,
   "metadata": {},
   "outputs": [
    {
     "data": {
      "text/plain": [
       "Text(0.5, 1.0, 'After augmenting')"
      ]
     },
     "execution_count": 258,
     "metadata": {},
     "output_type": "execute_result"
    },
    {
     "data": {
      "image/png": "[encoded data removed]",
      "text/plain": [
       "<Figure size 1000x300 with 2 Axes>"
      ]
     },
     "metadata": {},
     "output_type": "display_data"
    }
   ],
   "source": [
    "fig, axes = plt.subplots(1,2 , figsize = (10,3), sharey = True)\n",
    "\n",
    "axes[0].bar([0,1,2,3] , label_df.iloc[: ,-7: -3].sum(axis= 0))\n",
    "axes[0].set_title('Before augmenting')\n",
    "axes[1].bar([0,1,2,3] , new_df.iloc[: ,-7: -3].sum(axis= 0))\n",
    "axes[1].set_title('After augmenting')"
   ]
  },
  {
   "attachments": {},
   "cell_type": "markdown",
   "metadata": {},
   "source": [
    "## Train this new_df"
   ]
  },
  {
   "cell_type": "code",
   "execution_count": 259,
   "metadata": {},
   "outputs": [
    {
     "name": "stdout",
     "output_type": "stream",
     "text": [
      "(350,)\n"
     ]
    }
   ],
   "source": [
    "X = new_df.combined_reviews\n",
    "y = new_df.loc[: , ['clean_BE' , 'clean_PD', 'clean_DM', 'clean_AS']]\n",
    "\n",
    "print(X.shape)\n",
    "\n",
    "# we are NOT going to use this X_test/y_test  here because we must stick with the orignal 83 y_test\n",
    "X_train_text, not_use_X_test_text, y_train, not_use_y_test = train_test_split(X, y,\n",
    "                                                              train_size=0.7,\n",
    "                                                              random_state=42)"
   ]
  },
  {
   "cell_type": "code",
   "execution_count": 319,
   "metadata": {},
   "outputs": [
    {
     "data": {
      "text/plain": [
       "Int64Index([ 79, 116,  18, 223, 104, 271,  31, 254, 148, 180,\n",
       "            ...\n",
       "            214, 121, 349,  20, 188,  71, 106, 270, 348, 102],\n",
       "           dtype='int64', length=244)"
      ]
     },
     "execution_count": 319,
     "metadata": {},
     "output_type": "execute_result"
    }
   ],
   "source": [
    "X_train_text.index"
   ]
  },
  {
   "cell_type": "code",
   "execution_count": 335,
   "metadata": {},
   "outputs": [
    {
     "data": {
      "text/plain": [
       "244"
      ]
     },
     "execution_count": 335,
     "metadata": {},
     "output_type": "execute_result"
    }
   ],
   "source": [
    "len(X_train_text)"
   ]
  },
  {
   "cell_type": "code",
   "execution_count": 333,
   "metadata": {},
   "outputs": [
    {
     "name": "stdout",
     "output_type": "stream",
     "text": [
      "Chouette personnel J’ai récemment fait mes courses au magasin de Fourmies.  Je me suis adressé au personnel en rayon pour deux ou trois questions. À chaque fois, le personnel était super agréable, très poli et serviable.  Une belle expérience qui donn envie de revenir ! Merci à vous !\n",
      "Un commande maison et loisirs passée le… Un commande maison et loisirs passée le 19 novembre livrée \" sous 2/3jours ouvrés\" et depuis rien.....on va me rappeler, on ouvre des dossiers \" pour demander aux services concernés\" \" on va solliciter des experts\" et le temps passe sans réponse , sans information et sans actualisation.Ai-je les moyens de redépenser 260 euros ailleurs pour recommander mon article ? NONMépris et non respect du client au programme de décembre donc avec un cadeau en moins perdu dans la nature dommage.Il va falloir vous bouger Carrefour !\n",
      "Magasin à fuir Magasin à fuir ! Personnel insultant et hautain, puis jamais cette enseigne. Après deux semaine de location d’un véhicule je me suis fait traiter comme une mal propre c’est honteux d’en arriver là alors que je souhaitais prolonger ma location mais au vu du comportement de la personne j’ai restitué le véhicule. On m’avait conseillé d’appeler dans un premier temps pour prolonger la location mais au comptoir on me tient un autre discours, je suis assez tolérante mais quand j’ai souhaité expliquer la situation la personne m’a répondu grossièrement et m’a facturé un supplément  aucun problème je paye mais en aucun cas je vous autorise à me manquer de respect. J’ai restitué le véhicule et en ai loué un autre ailleurs.Aucun fidélisation client et principalement aucun respect. Tant pis je perds rien personnellement mais ça me tient fortement à cœur de prévenir les autres consommateurs.\n",
      "Je reçois aujourd'hui encore une très… Je reçois aujourd'hui encore une très belle pub de carrefour avec des produits de bonne qualité et à bon prix. En réalité sur place ce n'est pas la même chose, ils sont pas là ou de mauvaise qualité, surtout le rayon boucherie, viande rouge , porc, agneau ect.. N y vois souvent des morceaux recyclé, la taille mal faite. Quel dommage. Le poisson n'existe pas ou 1jour par semaine. Pour tout le reste du magasin ça va.\n",
      "Tres mauvais accueil au stand carrefour… Tres mauvais accueil au stand carrefour banque Aulnay Sous Bois.Personnel malpoli\n",
      "Jouets de Noël J'ai voulu commander des achats de Noël sur leur site....au bout de dix jours toujours pas de nouvelles de ma commande, elle est enregistrée mais jamais envoyée! Vous les appelez, et vous tombez sur des gens sympathiques mais qui ne peuvent rien faire à part transmettre l'info à un autre service. Une belle bande d'incompétents inutiles!!! Au bout de 3 appels, qui ne mènent à rien puisqu'on vous dit qu'on vous recontacte dans les plus bref délais, tu parles ça se compte surement en semaines c'est pas ce qu'on peux appeler de bref!Je finis par dis stop et demande un remboursement. On me prévient que ça risque d'être long jusqu'à 14 jours.... c'est le pompon! Ils sont pas aussi long à vous prélever le jour même une commande même pas envoyée.En résumé, fuyez!!!!!\n",
      "arnaque operation op-tefal.carrefour.fr… je viens de reussir a me connecter taper cinq lettres dont une en majuscules plus un seul chiffre et sa marche\n",
      "Réclamation client mécontent Bonjour, je n’ai pas eu le choix de mettre une étoile et pourtant le service après vente de Carrefour Tourville la Rivière n’en mérite aucune ! J’ai acheté  un IPhone 7 reconditionné qui n’a jamais fonctionné, c’est la troisième fois que j’appelle Reborn et le SAV, je dois à chaque fois restituer le téléphone au magasin de Tourville, on me le garde plusieurs semaines et je suis donc toujours sans téléphone mobile. C’est à chaque fois la même panne « aucune donnée cellulaire » et le téléphone lorsqu’il m’est rendu ne fonctionne chaque fois pas plus d’une semaine. La panne n’ayant toujours pas au bout de trois fois été réparée, j’ai demandé le remboursement de  l’IPhone 7 que j’avais acheté et le service après-vente de Carrefour Tourville la Rivière sous l’aval de la responsable au courant de ma situation n’a pas voulu me rembourser. L’IPhone 7 est donc une fois de plus reparti au SAV pour au moins un mois. Mécontent d’être toujours sans téléphone portable qui fonctionne, j’ai demandé le remboursement de mon achat. On m’a rit au nez et proposé un geste commercial. Le seul geste de ma part auprès de l’enseigne Carrefour sera de surtout ne plus acheter de téléphone reconditionnés car ils ne fonctionnent pas, j’ai perdu mon temps et mon argent, 299€ tout de même, c’est inadmissible ! Le téléphone encore sous garantie étant depuis son achat plus souvent au SAV Carrefour qu’en ma possession, j’ai aujourd’hui racheté un téléphone mobile, c’est pourquoi je demande une dernière fois le remboursement de mon achat à Carrefour sans quoi je contacterai le service juridique car j’ai été un client bien patient jusqu’alors !\n",
      "Carrefour market marly (Nord) le 30 … Carrefour market marly (Nord) le 30 janvier 2018 vers 11h30.Très mauvais accueil de la part de l'hôtesse de caisse et non justifiée. Je m'y rend pour faire quelques courses, beaucoup de clients présents à cette heure et grandes queues aux caisses. Étant enceinte et dans mon 6ème mois, je passe par la caisse prioritaire. Là beaucoup de monde aussi. Alors, je demande à une dame si je peux passer car je suis prioritaire. Elle me laisse passer volontiers. Une autre dame me voit et me laisse passer aussi. Ainsi j'arrive devant la caissière qui termine de passer les courses de la personne me précédent. Et là je me fais regarder de travers par cette caissière. Bon, je décide de ne rien dire. Quand vient mon tour, pas de bonjour, ni de regards, sauf ceux quelle me lance depuis le début. Elle m'annonce le prix. La cliente avant moi emballe encore ses courses. La caissière me demande d'effectuer mon paiement, je lui dit que j'attend que madame finisse. Et là, la caissière se permet une réflexion \"bon bin restez là alors\" avec mauvais regard bien sûr. A mon départ de la caisse, regards mauvais et au revoir qui lui écorchent la bouche. Très très déçue pour cette femme qui m'a déjà fait le coup!!!! Je suis une très bonne cliente de ce magasin. Malgré la proximité avec mon domicile, j'y réfléchirais à 2 fois avant de retourner.\n",
      "J' ai pas d' ordinateur je ne peux pas… J' ai pas d' ordinateur je ne peux pas commander le mug et la bouilloire comment je fais\n",
      "Cliente depuis de nombreuse années et… Cliente depuis de nombreuse années et avec un service que j'aurai recommandé ,mais depuis qu'ils ont changés le service livraison c'est pitoyable .......sur toutes mes dernières commandes j'ai eu des déboires mais ce soir le pire non seulement le livreur est arrivé avec 55 minutes de retard et meme pas un excusez moi rien de rien les produits écrasés, les fromages mélangé avec l'assouplisseur les fruits congelés complètement mous les packs d'eau eclatés......... je ne parle même pas des produits remplacés, 3 packs d'eau pétillantes en commande ni livrés ni remplacé c'est comme ca les arrangent....  prenez conscience de reagir a faire quelques choses !!!!! C'est loin d'etre un service serieux\n",
      "Bonjour BonjourJe voulais juste savoir si on peu encore avoir des produits de l'opération Tefal.Je n'arrive pas à trouver l'information sur internetMerci\n",
      "INCOMPÉTENTS !!! INCOMPÉTENTS !!!J’ai commandé des fournitures scolaires en ligne plus de 10 jours avant la rentrée. Je n’ai rien reçu pour la rentrée, mes enfants n’avaient leurs fournitures pour la rentrée. J’ai dû faire plusieurs magasins en catastrophe pour tout racheter plus cher car il n’y avait plus rien en rayons. Je reçois mes colis 15 jours plus tard abîmés, ils ont pris l’eau. Je leur demande de me rembourser. Ils repoussent ma demande en me proposant des bons d’achat pour qques euros sur leur site (plus jamais !!). Au final ils acceptent de me rembourser si je renvoie le reste des colis non abimés à mes frais. C’est inacceptable !!!\n",
      "lecteur blu-ray BP640 Excellent lecteur Blue Ray connecté Wifi et Ethernet, Applications Internet LG pour accès aux services standards. Je n'avais pas de nouvelles de ma commande pendant quelques jours du coup j'ai appelé le service client qui m'a heureusement rassuré et donné mon num de colis pour le suivi donc pas plus mal.\n",
      "OPERATION TEFAL PETIT DEJEUNER Bonjour, effectivement il faut mettre seulement 7 caractères maximum avec au moins 1 majuscule et un chiffre et 1 minuscule (exemple Prénom2)Bonne réservation des produits TEFAL Opération Petit déjeuner.\n",
      "trop c'est trop! Merci a Marcel L'adjoint du directeur d'avait entendu ma demande sur le carrefour de Saint Jean de Vedas.Suite a notre échange et parce qu'un avi negatif peut devenir positif quand on trouve une solution alors je modifie ma note et remercie particulierement Marcel de son accueil et ca gentillesse. affaire reglé\n",
      "carrefour.fr ne surtout pas commander !!! Commande passé le 09/ 12//015 , 2 articles , un reçu l' autre non ! Je n ai pas de réponses à mes mails, oh si que des réponses automatique !!! Bref franchement commander sur amazon ou c.discount j ai jamais de soucis avec eux\n",
      "Ce matin au supermarché de Berck Ce matin au supermarché de Berck, je veux utiliser ma cagnotte (8 euros environ vérifiée le matin même sur mon compte clent), réponse pas de cagnotte. Je continue mes courses au supermarket de Rang-du-Fliers et là bingo ma cagnotte réapparaît! ça pue le bidouillage informatique, d'autant que ce n'est la première fois. Toujours à Berck au rayon charcuterie il y a une affichette pour une promotion (22.90€) sur le jambon de Parme Montorsi. La vendeuse me propose le Serano Montorsi à la place et refuse de me vendre le Parme de Carrefour à ce prix. Infraction caractérisée au code de la consommation. Si seulement c'était la seule fois!\n",
      "J’ai fait une commande avec livraison… J’ai fait une commande avec livraison attention quand vous passer une commande une arnaque à la promotion vérifiez bien C’est la dernière fois que je passerai commande chez Carrefour\n",
      "Concernant le carrefour drive Concernant le carrefour drive, ils ne sont pas au niveau attendu...C'est nul! Vous attendez des plombes, les employés passent à côté de vous sans rien vous demander (ils doivent avoir peur des clients!), les commandes sont incomplètes... A fuir...Cette année, j'ai essayé les commandes de fourniture pour mes enfants via internet et carrefour...Livraison en 2 à 4 jours ouvrés...Commande reçue au bout de 6 jours...et les mêmes travers, pour récupérer la commande, les employés ne savent pas, vous poirotés...En bref, pour ma part, le vaccin contre les drive carrefour est fait...Plus jamais...A vouloir tout faire (hyper, drive, assurances...), ils pataugent, comme bon nombre de \"world company\"!\n",
      "les prix flambent.. les prix flambent... service drive très bien. plus de produit en nutriscore A parmi le crayon serait bien\n",
      "Luminarc non merci rendez-nous les coupons de réduction Les offres des couteaux Sabatier c'était bien encore que on attend la livraison des commandes en particulier de l'introuvable bloc de couteau associé.On repart pour une offre Luminarc pour ne plus faire de coupons de réduction. Non merci j'ai des tonnes de bocaux d'anciennes confitures à la maison avec tout ce qu'il faut de récipients plastiques/verre hermetiques ou pas.Rendez-nous des vrais réductions !!!\n",
      "Notre association des Petits Frères des… Notre association des Petits Frères des Pauvres à Nice est passée par le service Traiteur de Carrefour TNL pour la réalisation de plateaux repas destinés aux personnes âgées suivies par l'association. Très bon rapport qualité prix. La responsable nous a fait une belle réduction et nous a offert des plateaux. Merci pour le service.\n",
      "Ouvrez l'œil Ouvrez l'œil, réservations à partir du 19 avril à....14h00 !\n",
      "Commande arrivée en temps et en heure. J'ai commandé une tablette Samsung Galaxy tab S 10.5, elle n'était presque plus trouvable sur internet ou a des prix exorbitant, je n'ai pas trop eu le choix que de passer par Carrefour Online, et la promo était vraiment intéressante. Comme il s'agissait de Carrefour je ne me suis pas inquiétée, pensant que ça venait de la centrale d'achat ou quelque chose comme ça.Puis comme ma commande ne bougeait pas pendant plusieurs jours, je suis allée voir les avis. Quand j'ai vu les avis désastreux je me suis dis que je ne la recevrait jamais, car en plus le lendemain de ma commande elle était indisponible sur le site. J'ai commandé le 01/10/15 au soir, elle a été expédiée le 06/10/15 et je l'ai reçue le 08/10/15 via relais colis au magasin Carrefour à côté de chez moi. Le suivi du colis était erroné je n'ai jamais su où était mon colis, ni même eu le numéro de colis, uniquement le numéro de commande, heureusement que j'ai eu un mail me disant que ma commande était arrivée en relais car sinon je ne l'aurais jamais su. Je n'ai même pas eu de sms comme c'était stipulé.Il manquait un bout de mon nom sur le colis, première fois que je vois ça pourtant j'en ai commandé des choses sur internet. Il n'empêche que même si je n'ai eu aucun problème je ne recommandais jamais sur Carrefour Online car il y a beaucoup trop d'avis négatifs et si j'ai un problème avec une prochaine commande je sais que ça peut traîner des mois sans solution et je n'ai pas envie de perdre mon argent. La tablette fonctionne bien pour le moment, j'espère juste ne jamais avoir de problème avec pour ne pas avoir à faire au SAV.\n",
      "Personnel désagréable,des caisses… Personnel désagréable,des caisses prioritaire d'accord mais quand il n'y a personnes quel intérêt de laisser des caisses vides ?alors que d'autres caisses et blindé de monde .honteux\n",
      "Un achat Black Friday qui a viré au cauchemar J’ai passer une commande le 27/11 pour un ordinateur portable, que j’ai annuler, puis j’ai passé une autre commande que j’ai reçu.Conclusion la première commande n’a jamais été annuler elle a été envoyé sans information correcte du coup le transporteur la retourné à l’expéditeur, et la deuxième commande le produit était défectueux, je le revois et je passes au moins 20 appels pour signaler le défectueux pour enfin réussir à le renvoyer, puis je passe plus de 30 appels pour signaler que la première commande à été retourné chez eux.La nous somme le 10/12 mon argent est toujours chez Carrefour et aucun mail de remboursement n’a atterri dans ma boîte mail.SVP si vous voulez acheter des produits de valeur ne le faite pas chez Carrefour c’est un disaster !! AMAZON est le roi du E-commerce.\n",
      "Cartes illicado non acceptés a… Cartes illicado non acceptés a carrefour Quetigny. Incroyable.\n",
      "Suite à des courses effectuées dans un… Suite à des courses effectuées dans un carrefour market à la Flèche en sarthe j'ai acheté une salade mix au poulet rôti périmée depuis une journée c'est une honte pour une grande surface de laisser un produit périmé de cette nature dommage que je n'ai pas vérifié en l'achetant du coup je n'ai rien mangé pendant ma pause repas j'ai quand même gardé le ticket de caisse et prix une photo de la date sur l'emballage. Heureusement que j'ai vu la date avant de la manger j'aurais pu être malade.\n",
      "Carrefour offre Tefal = pas conforme au… Carrefour offre Tefal = pas conforme au prospectus. Amabilité  à l'accueil des plus basiques.Direction inaccessible.Enseigne donc que je vais éviter.Adieu, vous avez perdu une cliente.\n",
      "Bonjour 👋...juste pour dénoncer le… Bonjour 👋...juste pour dénoncer le fait qu'on ne puisse pas rentrer dans le magasin en trottinette...en marchant a côté...pour faire ses courses 😱😭😭partout ailleurs ou presque..cela est possible....dommage...comme beaucoup ..je vais chez vos confrères..depuis..l.Cordialement...Thierry .🌨🌨🛴🛴🛴🛒🛒🛒🛒🛒\n",
      "service client incompétent nan\n",
      "Un vendeur qui reste après son travail pour aider L'attitude très commerciale et la disponibilité du vendeur vélo du Carrefour Grand Var est rare et appréciable. Il est resté après son horaire de travail pour m'aider à charger un vélo à assistance électrique dont l'établissement du dossier d'achat avait pris plus de temps que prévu.\n",
      "Carrefour traiteur à fuir Mon expérience concerne Carrefour traiteur: PLUS JAMAIS !Tout d'abord il est écrit 'retrait en drive' mais au drive, personne n'est au courant... à l'accueil non plus... Et quand mon mari trouve enfin la bonne personne, il n'y a pas les verrines! J'avais commandé une soixantaine de verrines et des canapés, nous n'avons eu que les canapés...Bien sûr, tout était déjà payé mais ils n'en étaient même pas sûrs... Ouf, on a fini par être remboursés!1h avant, j'avais le mail \"n'oubliez pas votre commande\"!Le lendemain, j'avais le mail \"qu'en avez-vous pensé ?\" mais quand je clique dessus pour leur exprimer ma façon de penser, je retombe juste sur le site pour commander...TOUT est donc à revoir pour eux et à fuir pour la clientèle !\n",
      "Bonne expérience nan\n",
      "Livraisons Carrefour Épinal :-( Carrefour Épinal... nous faisons livrer nos courses. Rares sont les livraisons correctes. Toujours des réclamations car les produits sont changés, souvent par des produits de qualité inférieure (souvent des produits de leur marque), voire rien à voir (du sérum physiologique livré, pour du dentifrice commandé par exemple). Le pire ce sont les refus de remboursement. Il faut aller au magasin pour rien, puisqu'on va vous donner des arguments et que vous, vous avez les vôtres, donc aucun intérêt. Et honnêtement quand vous vous faites livrer, ce n'est pas pour passer vos après midi au magasin. Livrez les produits commandés et vous n'aurez pas de remboursements à faire ! Bref, nous attendons que les concurrents livrent pour tester. Je ne conseille pas\n",
      "Une catastrophe Une catastrophe. Comme ils y a une multitude de service client, entre le drive, le drive magasin, le service fidélité, ils se renvoient la balle, ils sont capables de vous faire poireauter des heures sans vous apportez aucune aide.\n",
      "SHOPPING ONLINE PAS AU POINT... DU TOUT ..... Je voulais commander des articles repris dans le folder et les faire réserver dans le carrefour market Belgique près de chez moi (région de Tournai). Cependant, problèmes.... certains articles ne sont pas sur le site et d'autres le sont mais à un autre prix que celui annoncé... j'ai donc envoyé une première demande via leur formulaire de demande online et ai reçu rapidement une réponse afin d'étayer ma demande avec des exemples. Ce que j'ai fait par retour et ensuite plus de nouvelles pendant 3 jours (sauf 'votre demande est envoyée au service concerné')... Ce matin, je réceptionne un mail m'avisant que certains articles ne sont pas disponibles sur le site et d'autres à un autre prix.... WAW !!! QUELLE CHANCE !!! Bon, beh, dommage pour le magasin de proximité mais j'irai dans une grande surface urbaine 10 kilomètres plus loin... :-(\n",
      "commande passée par internet.. commande passée par internet... mal indiquée point de retrait diffèrent des précisions  ,personnel qui ignore les clients et quand il ne vous ignore pas on est a la limite de l'insulte.attention a votre ticket les caissière on une légère tendance a la double facturation (elles doivent avoir un intéressement au encaissement )\n",
      "Les personnes de carrefour et… Les personnes de carrefour et désagréable ne sont pas a votre écoute et on vous remballe comme un moin que rien on vous raconte n importe quoi juste pour pas vous rembourser j ai mis 3h hier a me faire rembourser pour une tablette qui ne marché même pas enfin bref carrefours salaise sur sanne\n",
      "Très bien Très bien, toujours des promos et ils tiennent leur promesses. Cela fait plaisir.\n",
      "Un service désastreux indigne de s’appeler carrefour Bonjour je vous adresse ce message pour vous dire que je suis très très déçu de votre service client de votre service gestion sinistre ainsi que de l’ensemble de vos partenaires. Je suis délaissé dans une situation dans le flou absolu j’ai subi un cambriolage et à ce jour je n’ai aucun interlocuteur capable de répondre à mes demandes ou de donner satisfaction à mes questions.Je mets l’accent surtout sur les partenaires de carrefour banque et assurance, ce sont des partenaires qui malheureusement n’ont aucune expérience de la relation client pire encore effectue des travaux digne de débutant, sans parler des experts qui vous envoie bouler et qui vous demande même de ne plus jamais les contacter, quelle calamité quel dégradation du service Carrefour banque moi qui suis dans l’enseigne depuis plus de 18 ans qui a toujours été à cheval sur les principes fondamentaux de carrefour dans le sens le plus large. Je précise que je suis à ce jour toujours en attente qu’un interlocuteur me contact et cela malgres les dizaines d’appels passées,\n",
      "AI-JE COMMIS UNE FAUTE EN COMMANDANT SUR LE SITE DE CARREFOUR COMME J'AI CRU DEVOIR LE COMPRENDRE PAR LE SERVICE CARREFOUR QUE J'AI APPELE? Bonsoir. La commande d'un four micro ondes passée ce jour sur le site de Carrefour fut annulée par leur entrepôt sans me donner d'explication.J'ai appelé le 0980 980 919, numéro pour ce type de produits, en fin d'après midi. L'interlocutrice s'est permise de m'indiquer que j'aurais dû appeler le magasin car je lui faisais remarquer que le produit était toujours disponible sur le site de Carrefour. Je lui ai donc demandé de me confirmer qu'elle m'indiquait que le site Carrefour n'était donc pas fiable. Ce qui m'a valu qu'elle me raccroche au nez et que mes appels suivants jusqu'à 19H restent sans réponse. Je n'accepte pas ce type de comportement qui méprisent la clientèle.Quelle suite Carrefour souhaitera donner? Je ne pense pas que ce soit la nouvelle politique de Carrefour vis à vis de sa clientèle.\n",
      "Beaucoup trop cher Ça se dit pas cher mais c'est un magasin de luxe même pour les classes moyennes.C'est deux fois le prix des magasins de déstockage et trois fois lidl pour l'alimentation... Sérieux c'est du n'importe quoi.... Le consommateur se fait avoir.( Je ne suis pas un commercial de chez Aldi ou lidl, juste un client qui constate)Je veux bien la liste des 100 produits avec prix bloqués . Puisque vous avez été gentils je remonte la note\n",
      "Distanciation inexistante au carrefour… Distanciation inexistante au carrefour part dieu j'ai dû me fâcher avec une cliente qui ne voulait rien comprendre...en regardant autour de moi personne ne respecte  c'est honteux au vu de la situation sanitaire. Suggestion passer une annonce toute les 10 minutes afin que les gens respecte les gestes barrières.\n",
      "J'ai acheté une tarte chèvre/épinard… J'ai acheté une tarte chèvre/épinard marque carrefour, je ne le ferais pas 2 fois, vraiment fade, aucun goût !!!!\n",
      "Eviter de les déranger par écrit Mes derniers avis concernant CARREFOUR  etaient positifs : j avais apprécié l accueil du magasin de Montigny ( 95) par contre , service client en ligne : 0J avais un prob de paiement niveau règlement DRIVE . J'ai écrit il y a 2 semaines  , j'attends tjrs la réponse . Dans le style : PAIE ET TAIE TOI ? ils st champion !Bref , tu as un souci avec moi mais je ne suis pas concerné . C'est toi qui a fait la commande par conséquent , tu te débrouilles . Les conseils financiers , je me les garde\n",
      "Publicité mensongère  sur promos Publicité mensongère  sur promos. Promo Tourteaux a 6,90. A 17h, 1 seul en stock. On me dit de revenir le lendemain. Lendemain 11h30, 1 seul en stock, de 470g! A l'accueil on me parle de pb d'approvisionnement. Soit, mais on l'indique. Alors, on me propose \"un geste commercial\", m'en mettre 2 de côté  pour le lendemain (3 voyages/2 tourteaux!). Je reponds que ça  n'a rien de commercial de faire venir les gens 3 fois pour des soi-disant promos, alors que je constate que c'est \"sur commande\". Idem la promo Orangina/Schweppes 1+1, mais AUCUNS schweppes! Scandaleux. Et rien d'affiché, bien entendu. Sur 2/300 promos, combien de reelles!La Direction me demande des precisions. Les voici.Magasin de Narbonne, ce jour, 29 juillet 2020.Le vendeur poissonnier m'a dit en avoir reçu  15, en tout! Alors, faire de la publicité pour 15 bêtes  de 500g, ça  laisse reveur.Je precise aussi pour \"Orangina ou Schweppes Agrumes\" Panachage possible...entre Orangina et Orangina, puisqu'il n'y a aucuns Schweppes!\n",
      "honte a carrefour pour de tels procedes honte a carrefour pour de tels procedesproduits tefal non disponiblehotline injoignable  50 appels sur 4 joursimpossible de sincscrire sur op carrefour l'arnaque totalvoila comment on perd un tres bon clientlidl et intermarche sont la tant mieux\n",
      "Bonne initiative Bonjour Je fais mes courses à carrefour venissieux et j'ai été ravie de la gestion de la personne qui m'a dis s'appeler  \"nabila\" hier soir vers 21h qui m'a invité à passer dans la zone des scannettes alors qu'il y avait du monde aux caisses. Très bonne initiative de sa part.\n",
      "impossible de commander les produits… impossible de commander les produits sabatier le site ne fonctionne pas c'est une grosse arnaque on est quand même clients et on reçoit qu'un message top du service client essayez de comprendre notre mécontentement  c'est quand même grâce à nous si vos magasins fonctionnent merci\n",
      "Site de guignols. Le site carrefour est un jeu e piste Le site carrefour est un jeu de piste ! Je plains les Personnes qui en plus n ont pas l’habitude de naviguer. Pour les promotions-vignettes clients-arret tefal-attrape c il est difficile de réserver les articles. Je boycotte, il y’a casino\n",
      "J'ai crée un compte mais il est… J'ai crée un compte mais il est impossible d'avancer pour passer commande de réservation ni de joindre au numéro indiqué Carrefour par téléphone. L'opération Tefal est victime de son succès mais c'est le consommateur payeur qui a collectionné les vignettes qui est floué.\n",
      "Bonjour aujourd’hui je suis allez… Bonjour aujourd’hui je suis allez acheter un sac granules de bois  a carrefour Givors alors déjà que c'est pas donné mais quelle mauvaise surprise en rentrant chez moi: le sac a pris l’humidité et les granules sont abîmés. Très déçue !\n",
      "Impossible de dépasser l’étape 2 lors… Impossible de dépasser l’étape 2 lors de la création du compte !!!! Et ce depuis ce matin Même en mettant 5 caractère au mot de passe.\n",
      "Toujours très content des services… Toujours très content des services Carrefour carte pass mais depuis une semaine compte bloqué,carte refusée, tous les jours on me dit au tel que tout est normal ,ça va s'arranger etc....et moi je galère.Ça me déçoit surtout en veille de fête.Mais en suis content.\n",
      "Pas mal Je fais parfois mes courses dans ce magasin, mais je n’ai plutôt que de bons retours. Mis à par le fait que certains employés ne répondent pas aux bonjours et que les prix sont parfois mal affichés, je suis globalement satisfaite.\n",
      "Depuis 20mn que j’attends pour un… Depuis 20mn que j’attends pour un remboursement. On me réponds la caisse et faite et ça ferme à 19h30 et je suis arrivé à 19h. Jamais les bons prix chez Carrefour market de Varennes sur Allier 03. Fini carrefour. Toujours pareil ces groupes.\n",
      "Le produit est défectueux Le produit est défectueux. J'ai appelé de nombreuses fois le SAV. Rien n'y fait. SAV inexistant\n",
      "Je n’arrive pas a créer mon compte même… Je n’arrive pas a créer mon compte même avec un mot de passe a 5 chiffre a la deuxième étape j’ai l’impression qu’il manque un bout\n",
      "Gare Four Lamentable,cette opération Carrefour-Tefal se moque du consommateur qui saura en tenir compte en terme de fréquentation dans les magasins carrefour.En effet,récupérer l'objet Tefal s'avère un chemin de croix.En magasin,il n'y en a plus,au téléphone c'est toujours occupé,sur internet c'est tellement mal expliqué qu'il m'a fallu 3 jours pour comprendre quel type de mot de passe utiliser.De plus chez Carrefour quand vous demandez des explications tout le monde se cache.Cette opération est un véritable four.\n",
      "personnellement j'adore carrefour… personnellement j'adore carrefour depuis que j'y vais je n'est jamais eu de soucis j'ai aussi eu la chance de participer a un de leurs concours https:/ /bit.ly / TENTE-TA-CHANCE-POUR-GAGNER-TA-CARTE-CARREFOU R -(ne pas laisser d'espace si vous voulez jeter un coup d'œil) qui ma fait gagner un bon d'achat de 500euros je n'y avais pas crue mais jusqu'à maintenant je suis vraiment impressionner j'ai les preuves du bon d'achat\n",
      "UNE ETOILE C'EST VRAIMENT TROP UNE ETOILE C'EST VRAIMENT TROP : SVP évitez \"à tout prix\" ce site pour une commande internet. Ma malheureuse expérience a été de commander le 01/10, sur le site, du champagne lors de la foire aux vins. Mon paiement a été débité le lendemain (02/10) Un mail m'a informé de la livraison pas avant le 21/10 !! Voyant la date de livraison bien trop tardive pour mon besoin, j'ai annulé ma commande le lendemain (04/10). Depuis cette date de rétractation légale, on me raccroche au nez, ou on m'informe que demande sera traitée 7 jours après la date de livraison qui était prévue !! donc le 28/10. Personne n'est capable de me dire combien de temps après je serais effectivement remboursé, mais pendant ce temps CARREFOUR travaille avec mon argent!! DONC PLUS JAMAIS DE COMMANDE SUR CE SITE FINANCIER MAIS PAS MARCHAND. Le personnel qui répond est, hélas, incompétent, à moins que ce soit une stratégie \"commerciale\". BRUNO R.\n",
      "Expérience toujours correcte mais sans… Expérience toujours correcte mais sans plus.\n",
      "A fuir vente mensongère et forcée Je passe commande sur le site et quand je reçois le mail de confirmation je m’aperçois que ce n’est pas l’article que je voulais mais un article similaireJ’appelle le service client qui me confirme l’annulation de ma commande et me dit que le remboursement sera sous 3 joursQu’elle ne fut pas ma surprise de voir que j’ai été débitée (150 euros) et que l’article a été envoyé malgré l’annulation de la commandePlusieurs messages qui restent sans réponseOpposition faite à la banque\n",
      "Toujours en attente de ma commande... J'ai commandé sur ma foire aux vins le 11 mars. - Le 20 avril, je me suis rendu dans le magasin de retrait, mais ils n'avaient rien et surtout ils ne receptionnent jamais de colis client- Envoyé un email le 29 avril- 27 mai toujours 0 réponse (et je n'ai plus acces à mon compte en ligne)Super, merci Carrefour\n",
      "des prix raisonnables et moins chers… des prix raisonnables et moins chers que d'autre magasins !\n",
      "Cliente depuis plus de 20 ans Cliente depuis plus de 20 ans, mardi je vais à carrefour pour acheter des valises( étant sur le catalogue qui commencer ce jour) je cherche une personne du rayon pendant une demi heure, personne ne peut me renseigner, personne à l’horizon , je trouve enfin une personne qui fait le nécessaire mais en vain ils n’ont pas les valises qu’ilOnt mi sur le catalogue, elle meDi on n’en a pas je lui répond que je les veut le catalogue commence aujourd’hui, ce n’ai pas normal je veut parler au directeur elle l’appel je l’attend pendant 15 min , néant total ,pas de directeur!!! j’ai du laisser mon chario là-bas et suis reparti bredouille, déçu , il savent qu’attirer la clientèle avec leur promo niveau Satisfaction Zéro!!!!cest le Carrefour terre et ciel a Chelles!\n",
      "Absolument aucune considération du client Avis laissé ici le 29 décembre et toujours sans nouvelle de ce fameux Dimitri qui se dit regarder à votre dossier pour corriger les manquements du service clients Carrefour. Je lui ai envoyé un email début janvier comme il me le demandait et nous sommes le 10 mars... Que dire de plus? Jérôme\n",
      "promesses mensongères ? Bonjour,carrefour vous souhaite une bonne année avec des bons de 20 euros mensuel à partir de 70 euros d'achat, on est au mois d'avril et je n'ai pas pu profiter une seule fois car à chaque tentative au moment de payer avec le code demandé (je fais mes courses par internet en livraison à domicile) je suis tout simplement ignoré, rejeté et refusé par sécurpass, pourtant mon compte est largement approvisionné , ma banque me dit qu'i n'y a aucun problème et qu'il n'y a pas de raison. Mon avis est que carrefour ne tient pas parole car ça ne les avantage plus.\n",
      "Couteaux sabatiers J' ai les vignettes papier et digitale.on m a dit qu il y aurais un arrivage de couteau sabatiers le 3mai ce qui n est toujours pas arrivé et qu ils ouvriraient un site de réservation pour les couteaux.c est quoi le site car personne le trouve et même dans mon magasin ils ne savent pas.\n",
      "Une honte et dangereux! Commande effectuée via le site hier matin (16/09/20) et livrée hier soir.Le surgelé est décongelé: bacs de sorbets liquides, autres produits surgelés tout mous. Si la personne qui réceptionne ça ne fait pas trop attention et qu'elle le remet au congélateur c'est grave!Le respect de la chaîne du froid ça vous parle? Je suis en droit de me demander si le reste de mes produits frais a subi le même sort (dont du poisson et des crevettes, de la viande, de la charcuterie je fais quoi: je jette tout par mesure de précaution???)Plus aucune confiance en cette enseigne qui prend ses clients pour des vaches à lait et qui les mets en danger. Ca me met en colère!De plus une boîte de 6 oeufs périmés depuis le 15/09 et pondus le 18/08, non mais à quel moment vous avez pensé que de mettre dans une commande des œufs périmés allait bien se passer????  C'est une honte et c'est même très dangereux! En bref si vous voulez une bonne intoxication alimentaire faites-vous livrer par carrefour Boisseuil. De plus le livreur était très gentil mais en ce moment ne devrait-il pas porter un masque????C'était ma 1ère et dernière commande en livraison c'est certain. Si vous n'êtes pas en mesure de proposer un service fiable et au minimum dans le respect de la chaîne du froid ne le faites simplement pas.\n",
      "Publicité mensongère, site online inacceptable pour un grand groupe des expériences similaires à la mienne ont déjà été décrites, mais je n'avais pas pris la peine de vérifier sur internet la réputation de carrefour online, car je pensais naivement qu'un groupe du cac40 se devait un minimum de professionnalisme...telephone samsung s5 commandé à un prix très alléchant sur le site; les codes de réduction affichés sur le site n'ont pas marché mais le prix restait imbattable donc je commande.aucun info sur la date à laquelle je serai livrée, le service client par téléphone ne peut pas me répondre, promet de me recontacter mais ne le fait pas.le service client par mail m'indique que le produit est en rupture de stock  chez samsung (ah, il est en vente partout, y compris sur le site carrefour, mais bien plus cher maintenant)... j'aurais préféré une excuse plus crédible...j'ai tenté l'expérience avec le lg g3 lui aussi en promo. je reçois une confirmation de commande totalement farfelue : comme quoi j'aurais passé une commande à 8euros...??? l'argent n'aurait donc aucune valeur pour le site?? j'ai dépense plus de 50 fois plus, j'aimerais que cela soit pris en considération, ou que sinon carrefour me rembourse la différence...bref, je vous tiens au courant si je reçois un jour les téléphones, avant que les modeles soient dépassés et ne valent plus rien.en attendant, carrefour peut faire fructifier les pres de 1000e que j'ai \"investis\" sur le site...bravo carrefour!!\n",
      "Carrefour : achat d'un smartphone Bonjour, j'ai acheté un Iphone 12 dans le magasin de Noisy le Grand, et je très satisfait des conseils données par la vendeuse, très aux petits soins. Ca fait plaisir. Merci car Carrefour, c'est aussi des souvenirs d'enfance, le magasin de mon quartier où on allait faire nos courses en famille. Belle entreprise française. Je recommande.\n",
      "Allo monsieur Bompard ! Allo monsieur Bompard !Honteux, scandaleux, votre service d'appel au 0806060601 Attente interminable sans aucun message d'attente. Je ne m'insurge pas contre l'attente qui peut se comprendre mais bien contre la procédure.  Vos \"têtes pensantes\" chargées de la mise en place de ces procédures utilisent-ils eux même leurs services ? Faites le test !\n",
      "Ne pas faire ses courses sur le créneau… Ne pas faire ses courses sur le créneau de 18h15 car c'est l'heure de la pause au rayon charcuterie du Carrefour Wasquehal.La collègue aux fromages vaque joyeusement à ses occupations de rangement et agencement des fromages sans pouvoir vous servir.La pause dure plus de 20 minutes sans que l'on vous serve.Pour le service clients, je mets zéro étoiles.\n",
      "Bonjour certes j ai eu 2 soucis… Bonjour certes j ai eu 2 soucis importants  mais quand ces soucis sont réparés et qu' après avoir aussi connu la concurrence bien pire au niveau de la livraison et qualités des produits je pense qu' il faut savoir dire que c est bien quand c est le cas, Merci donc  au directeur de carrefour wasquehal qui a un grand souci de  son client,  qui  est très professionnel  et  qui a été d une grande efficacité dans la gestion des problèmes que j ai pu rencontrer Merci de lui faire remonter ce commentaire\n",
      "Mécontentement Bonjour,C’est très bien d’avoir enlever les caddies à l’entrée cela fait grand ,plus spacieux ,cependant il faudrait que le seul et unique ascenseur ne soit pas en panne depuis 15 jours au moins ce qui nous empêche de remonter les caddies des sous sol parking du magasin .Alors vous me direz que nous pouvons les récupérer et les monter par les travellators ;mais ils sont de l’autre côté du parking.Quelle  négligence ,La réaction à une situation détermine le degrés de respect du client (pour le commerce ).Je vous souhaite beaucoup de courage car le commerce n’a pas l’air d’être votre fort .Non positivement M.Lazzeri\n",
      "Reservation Couteaux Sabatier: galère ++++++ J'ai téléphoné à Carrefour-fidélité  cet a.m. : le bug serait dû au fait qu'il y a trop d'acheteurs en même temps......???Nouvelle tentative de commande ce soir à  minuit mais nouvel échec, mes identifiant et mot de passe étant à  nouveau refusés......Merci de ne pas me répondre en me disant que le site est fonctionnel, ou qu'il faut vider les caches......\n",
      "Livraison Hier j achete pour 270€  ( semaine dernière 140€) de courses à carrefour aix les milles je vais à la livraison et le monsieur qui emballe me dit que j ai trop fait de courses !!! Mais sur un ton ....Alors j ai pas le droit de me faire livrer ? J habite au 1er étage avec ascenseur Alors si carrefour met une limite ben on ira ailleurs merci\n",
      "arnaque carrefour Bjr je suis passé au magasin de Collégien. Dans le rayon de boucherie j ai choisi deux pack de viande avec  le sticker - 10% sur pack.Après passé en caisse en vérifiant le ticket je constate que la remise n était pas applique.Donc je vais au sce d accueil qui contacte le chef du rayon Mr Lionel Kekerdijan qui m a expliqué que le prix sur le pack était déjà déduit et il s est sauvé Rien n était marqué que le prix est nette Pour moi c est de l arnaque pur et simple.J était commercial pendant 50 ans et j ai jamais vu une chose pareil.En simple client je vois une remise je prends.Mais quand me ne dise pas que le prix était déjà déduit.Pour moi le chef de rayon mentionnais ci dessus n est pas a sa place car il n a pas trouvé une solution .J ai sais que la somme n était pas énorme,mais pour moi c est une question de principe et j apprécie le travail bien fait.Je pense que ce chef de rayon a oublié que c est les clients qui font sa paye.Cdt  Mr Tréville  Richard\n",
      "Publicité mensongère affiche un jeux… Publicité mensongère affiche un jeux vidéos pas chère (et DISPONIBLE !!! ) sur internet mais en fait c est faux. Je vais contacter la répression des fraudes. Après un appelle au service client on me baratine sur l état des stocks. En 2020! Quelle honte! Un jour le jeudi est affiché disponible dans tel magasin et le le demain dans un autre. Je vais joindre une copie d écran à la DGCCRF\n",
      "vous avez besoin d'huile, achetez un foie gras cru chez carrefour. Acheter un foie gras entier cru soi-disant pur sud-ouest chez carrefour et vous récupérez 350 g d'huile sur les 700g de départ.C'est lamentable, publicité mensongère et malbouffe à tous les étages pour cette enseigne qui, comme beaucoup d'autres ne fait que nous vendre de la m....Boycottez ces grandes surfaces qui nous empoisonnent à longueur de temps.J'ai appliqué la même recette avec un foie-gras de qualité acheté chez un petit producteur et miracle, tout c'est bien passé. Honte aux carrefour, leclerc et autres pourvoyeurs de maladies.\n"
     ]
    }
   ],
   "source": [
    "count_sample = 0\n",
    "\n",
    "for i in X_test_text:\n",
    "    if i in X_train_text:\n",
    "        count_sample +=1\n",
    "    print(i)"
   ]
  },
  {
   "cell_type": "code",
   "execution_count": 279,
   "metadata": {},
   "outputs": [],
   "source": [
    "n_samples = [8, 16, 32, 64 , 128, 193, 244] # we add a new\n",
    "\n",
    "def run_classifer(X_train_text, y_train,\n",
    "                  X_test_text, y_test):\n",
    "\n",
    "    f1_score_record = []\n",
    "    accuracy_record = []\n",
    "    hamming_loss_record = []\n",
    "    for n in n_samples:\n",
    "        selected_X_train_text = X_train_text[: n] #slice the training text based on the batch size\n",
    "        count_vectorizer = CountVectorizer(analyzer='word', #call new countVectorizer\n",
    "                                    lowercase=False,\n",
    "                                    max_df= 20)\n",
    "        selected_X_train = count_vectorizer.fit_transform(selected_X_train_text) \n",
    "        selected_X_test = count_vectorizer.transform(X_test_text) #this will be always 83\n",
    "        assert selected_X_test.shape[0] == 83\n",
    "        \n",
    "        selected_y_train = y_train[:n]\n",
    "        \n",
    "        clf = MultiOutputClassifier(LogisticRegression()).fit(selected_X_train, selected_y_train)\n",
    "        \n",
    "        print('model pass')\n",
    "        prediction = clf.predict(selected_X_test)\n",
    "        \n",
    "        f1_score_record.append(f1_score(y_true = y_test,\n",
    "                                        y_pred = prediction,\n",
    "                                        average = 'macro'))\n",
    "        \n",
    "        accuracy_record.append(accuracy_score(y_true = y_test,\n",
    "                                        y_pred = prediction))\n",
    "        \n",
    "        hamming_loss_record.append(hamming_loss(y_true = y_test,\n",
    "                                        y_pred = prediction))\n",
    "    \n",
    "    return {\"f1_score\" :f1_score_record,\n",
    "            \"acc\": accuracy_record,\n",
    "            \"hamming_loss\": hamming_loss_record,\n",
    "            \"model\": clf,\n",
    "            \"vectorizer\": count_vectorizer}\n",
    "\n",
    "    \n",
    "    \n",
    "    "
   ]
  },
  {
   "cell_type": "code",
   "execution_count": 280,
   "metadata": {},
   "outputs": [
    {
     "name": "stdout",
     "output_type": "stream",
     "text": [
      "model pass\n",
      "model pass\n",
      "model pass\n",
      "model pass\n",
      "model pass\n",
      "model pass\n",
      "model pass\n"
     ]
    }
   ],
   "source": [
    "augmented_result = run_classifer(X_train_text, y_train,\n",
    "                  X_test_text, y_test)"
   ]
  },
  {
   "cell_type": "code",
   "execution_count": 274,
   "metadata": {},
   "outputs": [
    {
     "data": {
      "text/plain": [
       "{'f1_score': [0.4388476107226107,\n",
       "  0.47776263357658705,\n",
       "  0.5564801621227955,\n",
       "  0.6287831596697876,\n",
       "  0.7103141344593089,\n",
       "  0.7660269905533064,\n",
       "  0.7912751073033331],\n",
       " 'acc': [0.08433734939759036,\n",
       "  0.3132530120481928,\n",
       "  0.4819277108433735,\n",
       "  0.5662650602409639,\n",
       "  0.6265060240963856,\n",
       "  0.6867469879518072,\n",
       "  0.7108433734939759],\n",
       " 'hamming_loss': [0.37650602409638556,\n",
       "  0.2921686746987952,\n",
       "  0.24096385542168675,\n",
       "  0.18373493975903615,\n",
       "  0.15963855421686746,\n",
       "  0.11746987951807229,\n",
       "  0.10240963855421686],\n",
       " 'model': MultiOutputClassifier(estimator=LogisticRegression())}"
      ]
     },
     "execution_count": 274,
     "metadata": {},
     "output_type": "execute_result"
    }
   ],
   "source": [
    "augmented_result"
   ]
  },
  {
   "cell_type": "code",
   "execution_count": 271,
   "metadata": {},
   "outputs": [
    {
     "data": {
      "image/png": "[encoded data removed]",
      "text/plain": [
       "<Figure size 1500x500 with 3 Axes>"
      ]
     },
     "metadata": {},
     "output_type": "display_data"
    }
   ],
   "source": [
    "fig, axes = plt.subplots(1,3, figsize = (15,5))\n",
    "\n",
    "sns.lineplot(data = f1_score_record,\n",
    "             ax = axes[0], label = 'with stopwords')\n",
    "\n",
    "sns.lineplot(data = accuracy_record,\n",
    "             ax = axes[1], label = 'with stopwords')\n",
    "\n",
    "sns.lineplot(data = hamming_loss_record,\n",
    "             ax = axes[2], label = 'with stopwords')\n",
    "\n",
    "\n",
    "sns.lineplot(data = f1_score_record_without_stopword,\n",
    "             ax = axes[0], label = 'without stopwords')\n",
    "\n",
    "sns.lineplot(data = accuracy_record_without_stopword,\n",
    "             ax = axes[1], label = 'without stopwords')\n",
    "\n",
    "sns.lineplot(data = hamming_loss_record_without_stopword,\n",
    "             ax = axes[2], label = 'without stopwords')\n",
    "\n",
    "\n",
    "sns.lineplot(data = augmented_result['f1_score'],\n",
    "             ax = axes[0], label = 'augmented + stopwords')\n",
    "\n",
    "sns.lineplot(data = augmented_result['acc'],\n",
    "             ax = axes[1], label = 'augmented + stopwords')\n",
    "\n",
    "sns.lineplot(data = augmented_result['hamming_loss'],\n",
    "             ax = axes[2], label = 'augmented + stopwords')\n",
    "\n",
    "\n",
    "\n",
    "fig.suptitle('Evaluation Metric on using different training size on Multi-Label Classification\\n',\n",
    "             fontsize = 20)\n",
    "fig.tight_layout()\n",
    "\n",
    "axes[0].set_title('F1 score - macro')\n",
    "axes[1].set_title('Accuracy')\n",
    "axes[2].set_title('Hemming Loss')\n",
    "\n",
    "axes[0].set_xlabel('Number of training samples')\n",
    "axes[1].set_xlabel('Number of training samples')\n",
    "axes[2].set_xlabel('Number of training samples')\n",
    "\n",
    "axes[0].set_xticks(range(7), n_samples )\n",
    "axes[1].set_xticks(range(7), n_samples )\n",
    "axes[2].set_xticks(range(7), n_samples )\n",
    "plt.show()"
   ]
  },
  {
   "cell_type": "code",
   "execution_count": 276,
   "metadata": {},
   "outputs": [
    {
     "data": {
      "text/html": [
       "<style>#sk-container-id-1 {color: black;background-color: white;}#sk-container-id-1 pre{padding: 0;}#sk-container-id-1 div.sk-toggleable {background-color: white;}#sk-container-id-1 label.sk-toggleable__label {cursor: pointer;display: block;width: 100%;margin-bottom: 0;padding: 0.3em;box-sizing: border-box;text-align: center;}#sk-container-id-1 label.sk-toggleable__label-arrow:before {content: \"▸\";float: left;margin-right: 0.25em;color: #696969;}#sk-container-id-1 label.sk-toggleable__label-arrow:hover:before {color: black;}#sk-container-id-1 div.sk-estimator:hover label.sk-toggleable__label-arrow:before {color: black;}#sk-container-id-1 div.sk-toggleable__content {max-height: 0;max-width: 0;overflow: hidden;text-align: left;background-color: #f0f8ff;}#sk-container-id-1 div.sk-toggleable__content pre {margin: 0.2em;color: black;border-radius: 0.25em;background-color: #f0f8ff;}#sk-container-id-1 input.sk-toggleable__control:checked~div.sk-toggleable__content {max-height: 200px;max-width: 100%;overflow: auto;}#sk-container-id-1 input.sk-toggleable__control:checked~label.sk-toggleable__label-arrow:before {content: \"▾\";}#sk-container-id-1 div.sk-estimator input.sk-toggleable__control:checked~label.sk-toggleable__label {background-color: #d4ebff;}#sk-container-id-1 div.sk-label input.sk-toggleable__control:checked~label.sk-toggleable__label {background-color: #d4ebff;}#sk-container-id-1 input.sk-hidden--visually {border: 0;clip: rect(1px 1px 1px 1px);clip: rect(1px, 1px, 1px, 1px);height: 1px;margin: -1px;overflow: hidden;padding: 0;position: absolute;width: 1px;}#sk-container-id-1 div.sk-estimator {font-family: monospace;background-color: #f0f8ff;border: 1px dotted black;border-radius: 0.25em;box-sizing: border-box;margin-bottom: 0.5em;}#sk-container-id-1 div.sk-estimator:hover {background-color: #d4ebff;}#sk-container-id-1 div.sk-parallel-item::after {content: \"\";width: 100%;border-bottom: 1px solid gray;flex-grow: 1;}#sk-container-id-1 div.sk-label:hover label.sk-toggleable__label {background-color: #d4ebff;}#sk-container-id-1 div.sk-serial::before {content: \"\";position: absolute;border-left: 1px solid gray;box-sizing: border-box;top: 0;bottom: 0;left: 50%;z-index: 0;}#sk-container-id-1 div.sk-serial {display: flex;flex-direction: column;align-items: center;background-color: white;padding-right: 0.2em;padding-left: 0.2em;position: relative;}#sk-container-id-1 div.sk-item {position: relative;z-index: 1;}#sk-container-id-1 div.sk-parallel {display: flex;align-items: stretch;justify-content: center;background-color: white;position: relative;}#sk-container-id-1 div.sk-item::before, #sk-container-id-1 div.sk-parallel-item::before {content: \"\";position: absolute;border-left: 1px solid gray;box-sizing: border-box;top: 0;bottom: 0;left: 50%;z-index: -1;}#sk-container-id-1 div.sk-parallel-item {display: flex;flex-direction: column;z-index: 1;position: relative;background-color: white;}#sk-container-id-1 div.sk-parallel-item:first-child::after {align-self: flex-end;width: 50%;}#sk-container-id-1 div.sk-parallel-item:last-child::after {align-self: flex-start;width: 50%;}#sk-container-id-1 div.sk-parallel-item:only-child::after {width: 0;}#sk-container-id-1 div.sk-dashed-wrapped {border: 1px dashed gray;margin: 0 0.4em 0.5em 0.4em;box-sizing: border-box;padding-bottom: 0.4em;background-color: white;}#sk-container-id-1 div.sk-label label {font-family: monospace;font-weight: bold;display: inline-block;line-height: 1.2em;}#sk-container-id-1 div.sk-label-container {text-align: center;}#sk-container-id-1 div.sk-container {/* jupyter's `normalize.less` sets `[hidden] { display: none; }` but bootstrap.min.css set `[hidden] { display: none !important; }` so we also need the `!important` here to be able to override the default hidden behavior on the sphinx rendered scikit-learn.org. See: https://github.com/scikit-learn/scikit-learn/issues/21755 */display: inline-block !important;position: relative;}#sk-container-id-1 div.sk-text-repr-fallback {display: none;}</style><div id=\"sk-container-id-1\" class=\"sk-top-container\"><div class=\"sk-text-repr-fallback\"><pre>MultiOutputClassifier(estimator=LogisticRegression())</pre><b>In a Jupyter environment, please rerun this cell to show the HTML representation or trust the notebook. <br />On GitHub, the HTML representation is unable to render, please try loading this page with nbviewer.org.</b></div><div class=\"sk-container\" hidden><div class=\"sk-item sk-dashed-wrapped\"><div class=\"sk-label-container\"><div class=\"sk-label sk-toggleable\"><input class=\"sk-toggleable__control sk-hidden--visually\" id=\"sk-estimator-id-1\" type=\"checkbox\" ><label for=\"sk-estimator-id-1\" class=\"sk-toggleable__label sk-toggleable__label-arrow\">MultiOutputClassifier</label><div class=\"sk-toggleable__content\"><pre>MultiOutputClassifier(estimator=LogisticRegression())</pre></div></div></div><div class=\"sk-parallel\"><div class=\"sk-parallel-item\"><div class=\"sk-item\"><div class=\"sk-label-container\"><div class=\"sk-label sk-toggleable\"><input class=\"sk-toggleable__control sk-hidden--visually\" id=\"sk-estimator-id-2\" type=\"checkbox\" ><label for=\"sk-estimator-id-2\" class=\"sk-toggleable__label sk-toggleable__label-arrow\">estimator: LogisticRegression</label><div class=\"sk-toggleable__content\"><pre>LogisticRegression()</pre></div></div></div><div class=\"sk-serial\"><div class=\"sk-item\"><div class=\"sk-estimator sk-toggleable\"><input class=\"sk-toggleable__control sk-hidden--visually\" id=\"sk-estimator-id-3\" type=\"checkbox\" ><label for=\"sk-estimator-id-3\" class=\"sk-toggleable__label sk-toggleable__label-arrow\">LogisticRegression</label><div class=\"sk-toggleable__content\"><pre>LogisticRegression()</pre></div></div></div></div></div></div></div></div></div></div>"
      ],
      "text/plain": [
       "MultiOutputClassifier(estimator=LogisticRegression())"
      ]
     },
     "execution_count": 276,
     "metadata": {},
     "output_type": "execute_result"
    }
   ],
   "source": [
    "augmented_result['model'].predict()"
   ]
  },
  {
   "cell_type": "code",
   "execution_count": 277,
   "metadata": {},
   "outputs": [
    {
     "data": {
      "text/plain": [
       "<83x3620 sparse matrix of type '<class 'numpy.int64'>'\n",
       "\twith 2094 stored elements in Compressed Sparse Row format>"
      ]
     },
     "execution_count": 277,
     "metadata": {},
     "output_type": "execute_result"
    }
   ],
   "source": [
    "X_test"
   ]
  },
  {
   "cell_type": "code",
   "execution_count": 278,
   "metadata": {},
   "outputs": [
    {
     "data": {
      "text/plain": [
       "<83x2985 sparse matrix of type '<class 'numpy.int64'>'\n",
       "\twith 1662 stored elements in Compressed Sparse Row format>"
      ]
     },
     "execution_count": 278,
     "metadata": {},
     "output_type": "execute_result"
    }
   ],
   "source": [
    "selected_X_test[\"CountVectorizer\"]"
   ]
  },
  {
   "cell_type": "code",
   "execution_count": 286,
   "metadata": {},
   "outputs": [
    {
     "data": {
      "text/plain": [
       "<1x3798 sparse matrix of type '<class 'numpy.int64'>'\n",
       "\twith 14 stored elements in Compressed Sparse Row format>"
      ]
     },
     "execution_count": 286,
     "metadata": {},
     "output_type": "execute_result"
    }
   ],
   "source": [
    "augmented_result['vectorizer'].transform([X_test_text.iloc[0]])"
   ]
  },
  {
   "cell_type": "code",
   "execution_count": 287,
   "metadata": {},
   "outputs": [
    {
     "data": {
      "text/plain": [
       "'Chouette personnel J’ai récemment fait mes courses au magasin de Fourmies.  Je me suis adressé au personnel en rayon pour deux ou trois questions. À chaque fois, le personnel était super agréable, très poli et serviable.  Une belle expérience qui donn envie de revenir ! Merci à vous !'"
      ]
     },
     "execution_count": 287,
     "metadata": {},
     "output_type": "execute_result"
    }
   ],
   "source": [
    "X_test_text.iloc[0]"
   ]
  },
  {
   "cell_type": "code",
   "execution_count": 297,
   "metadata": {},
   "outputs": [],
   "source": [
    "augmented_prediction = augmented_result['model'].predict(augmented_result['vectorizer'].transform(X_test_text))"
   ]
  },
  {
   "cell_type": "code",
   "execution_count": 298,
   "metadata": {},
   "outputs": [
    {
     "data": {
      "text/plain": [
       "array([61, 17, 12, 14])"
      ]
     },
     "execution_count": 298,
     "metadata": {},
     "output_type": "execute_result"
    }
   ],
   "source": [
    "augmented_prediction.sum(axis = 0)"
   ]
  },
  {
   "cell_type": "code",
   "execution_count": 301,
   "metadata": {},
   "outputs": [
    {
     "data": {
      "text/html": [
       "<div>\n",
       "<style scoped>\n",
       "    .dataframe tbody tr th:only-of-type {\n",
       "        vertical-align: middle;\n",
       "    }\n",
       "\n",
       "    .dataframe tbody tr th {\n",
       "        vertical-align: top;\n",
       "    }\n",
       "\n",
       "    .dataframe thead th {\n",
       "        text-align: right;\n",
       "    }\n",
       "</style>\n",
       "<table border=\"1\" class=\"dataframe\">\n",
       "  <thead>\n",
       "    <tr style=\"text-align: right;\">\n",
       "      <th></th>\n",
       "      <th>class_name</th>\n",
       "      <th>count</th>\n",
       "      <th>type</th>\n",
       "    </tr>\n",
       "  </thead>\n",
       "  <tbody>\n",
       "    <tr>\n",
       "      <th>0</th>\n",
       "      <td>a</td>\n",
       "      <td>61</td>\n",
       "      <td>prediction with augment</td>\n",
       "    </tr>\n",
       "    <tr>\n",
       "      <th>1</th>\n",
       "      <td>b</td>\n",
       "      <td>17</td>\n",
       "      <td>prediction with augment</td>\n",
       "    </tr>\n",
       "    <tr>\n",
       "      <th>2</th>\n",
       "      <td>c</td>\n",
       "      <td>12</td>\n",
       "      <td>prediction with augment</td>\n",
       "    </tr>\n",
       "    <tr>\n",
       "      <th>3</th>\n",
       "      <td>d</td>\n",
       "      <td>14</td>\n",
       "      <td>prediction with augment</td>\n",
       "    </tr>\n",
       "  </tbody>\n",
       "</table>\n",
       "</div>"
      ],
      "text/plain": [
       "  class_name count                     type\n",
       "0          a    61  prediction with augment\n",
       "1          b    17  prediction with augment\n",
       "2          c    12  prediction with augment\n",
       "3          d    14  prediction with augment"
      ]
     },
     "execution_count": 301,
     "metadata": {},
     "output_type": "execute_result"
    }
   ],
   "source": [
    "summary_df = pd.DataFrame( [ [\"a\" ,\"b\",\"c\", \"d\"] , augmented_prediction.sum(axis = 0) , ['prediction with augment' for i in range(4)]]).T\n",
    "summary_df.columns = ['class_name', 'count', 'type']\n",
    "summary_df"
   ]
  },
  {
   "cell_type": "code",
   "execution_count": 304,
   "metadata": {},
   "outputs": [
    {
     "data": {
      "text/html": [
       "<div>\n",
       "<style scoped>\n",
       "    .dataframe tbody tr th:only-of-type {\n",
       "        vertical-align: middle;\n",
       "    }\n",
       "\n",
       "    .dataframe tbody tr th {\n",
       "        vertical-align: top;\n",
       "    }\n",
       "\n",
       "    .dataframe thead th {\n",
       "        text-align: right;\n",
       "    }\n",
       "</style>\n",
       "<table border=\"1\" class=\"dataframe\">\n",
       "  <thead>\n",
       "    <tr style=\"text-align: right;\">\n",
       "      <th></th>\n",
       "      <th>class_name</th>\n",
       "      <th>count</th>\n",
       "      <th>type</th>\n",
       "    </tr>\n",
       "  </thead>\n",
       "  <tbody>\n",
       "    <tr>\n",
       "      <th>0</th>\n",
       "      <td>a</td>\n",
       "      <td>69</td>\n",
       "      <td>prediction without stopwords</td>\n",
       "    </tr>\n",
       "    <tr>\n",
       "      <th>1</th>\n",
       "      <td>b</td>\n",
       "      <td>12</td>\n",
       "      <td>prediction without stopwords</td>\n",
       "    </tr>\n",
       "    <tr>\n",
       "      <th>2</th>\n",
       "      <td>c</td>\n",
       "      <td>13</td>\n",
       "      <td>prediction without stopwords</td>\n",
       "    </tr>\n",
       "    <tr>\n",
       "      <th>3</th>\n",
       "      <td>d</td>\n",
       "      <td>8</td>\n",
       "      <td>prediction without stopwords</td>\n",
       "    </tr>\n",
       "    <tr>\n",
       "      <th>0</th>\n",
       "      <td>a</td>\n",
       "      <td>63</td>\n",
       "      <td>y_test</td>\n",
       "    </tr>\n",
       "    <tr>\n",
       "      <th>1</th>\n",
       "      <td>b</td>\n",
       "      <td>22</td>\n",
       "      <td>y_test</td>\n",
       "    </tr>\n",
       "    <tr>\n",
       "      <th>2</th>\n",
       "      <td>c</td>\n",
       "      <td>20</td>\n",
       "      <td>y_test</td>\n",
       "    </tr>\n",
       "    <tr>\n",
       "      <th>3</th>\n",
       "      <td>d</td>\n",
       "      <td>23</td>\n",
       "      <td>y_test</td>\n",
       "    </tr>\n",
       "    <tr>\n",
       "      <th>0</th>\n",
       "      <td>a</td>\n",
       "      <td>61</td>\n",
       "      <td>prediction with augment</td>\n",
       "    </tr>\n",
       "    <tr>\n",
       "      <th>1</th>\n",
       "      <td>b</td>\n",
       "      <td>17</td>\n",
       "      <td>prediction with augment</td>\n",
       "    </tr>\n",
       "    <tr>\n",
       "      <th>2</th>\n",
       "      <td>c</td>\n",
       "      <td>12</td>\n",
       "      <td>prediction with augment</td>\n",
       "    </tr>\n",
       "    <tr>\n",
       "      <th>3</th>\n",
       "      <td>d</td>\n",
       "      <td>14</td>\n",
       "      <td>prediction with augment</td>\n",
       "    </tr>\n",
       "  </tbody>\n",
       "</table>\n",
       "</div>"
      ],
      "text/plain": [
       "  class_name count                          type\n",
       "0          a    69  prediction without stopwords\n",
       "1          b    12  prediction without stopwords\n",
       "2          c    13  prediction without stopwords\n",
       "3          d     8  prediction without stopwords\n",
       "0          a    63                        y_test\n",
       "1          b    22                        y_test\n",
       "2          c    20                        y_test\n",
       "3          d    23                        y_test\n",
       "0          a    61       prediction with augment\n",
       "1          b    17       prediction with augment\n",
       "2          c    12       prediction with augment\n",
       "3          d    14       prediction with augment"
      ]
     },
     "execution_count": 304,
     "metadata": {},
     "output_type": "execute_result"
    }
   ],
   "source": [
    "test_plot = pd.concat([test_plot, summary_df])\n",
    "test_plot"
   ]
  },
  {
   "cell_type": "code",
   "execution_count": 305,
   "metadata": {},
   "outputs": [
    {
     "data": {
      "text/plain": [
       "<AxesSubplot: xlabel='class_name', ylabel='count'>"
      ]
     },
     "execution_count": 305,
     "metadata": {},
     "output_type": "execute_result"
    },
    {
     "data": {
      "image/png": "[encoded data removed]",
      "text/plain": [
       "<Figure size 640x480 with 1 Axes>"
      ]
     },
     "metadata": {},
     "output_type": "display_data"
    }
   ],
   "source": [
    "sns.barplot(data=test_plot, x= 'class_name', y ='count', hue = 'type')"
   ]
  },
  {
   "cell_type": "code",
   "execution_count": 309,
   "metadata": {},
   "outputs": [
    {
     "name": "stdout",
     "output_type": "stream",
     "text": [
      "              precision    recall  f1-score   support\n",
      "\n",
      "           0       0.97      0.94      0.95        63\n",
      "           1       0.88      0.68      0.77        22\n",
      "           2       0.92      0.55      0.69        20\n",
      "           3       1.00      0.61      0.76        23\n",
      "\n",
      "   micro avg       0.95      0.77      0.85       128\n",
      "   macro avg       0.94      0.69      0.79       128\n",
      "weighted avg       0.95      0.77      0.84       128\n",
      " samples avg       0.91      0.82      0.84       128\n",
      "\n"
     ]
    },
    {
     "name": "stderr",
     "output_type": "stream",
     "text": [
      "/Users/carlosito/Documents/Virtual_Environment/hexamind/lib/python3.10/site-packages/sklearn/metrics/_classification.py:1344: UndefinedMetricWarning: Precision and F-score are ill-defined and being set to 0.0 in samples with no predicted labels. Use `zero_division` parameter to control this behavior.\n",
      "  _warn_prf(average, modifier, msg_start, len(result))\n",
      "/Users/carlosito/Documents/Virtual_Environment/hexamind/lib/python3.10/site-packages/sklearn/metrics/_classification.py:1344: UndefinedMetricWarning: Recall and F-score are ill-defined and being set to 0.0 in samples with no true labels. Use `zero_division` parameter to control this behavior.\n",
      "  _warn_prf(average, modifier, msg_start, len(result))\n"
     ]
    }
   ],
   "source": [
    "print(classification_report(y_true= y_test,\n",
    "                      y_pred = augmented_prediction))"
   ]
  },
  {
   "cell_type": "code",
   "execution_count": 316,
   "metadata": {},
   "outputs": [],
   "source": [
    "mockup_text = \"\"\"\n",
    "A éviter si on attend quelque chose depuis longtemps ! J'ai précommandé un jeu que j'attendais depuis plus d'un an. J'ai payé une version Deluxe en supplément pour l'accès anticipé de 72h (sortie officielle le 10, accès anticipé le 7). \n",
    "Nous voilà le 8 après-midi, toujours rien reçu, un SAV certes très gentil mais qui hier me répond \"ce sera livré cet après-midi, demain grand maximum\". Sur le suivi de commande, commande \"en préparation\", alors que je devais être livrée hier (je n'aurais rien payé en supplément sinon !). Donc à éviter, car ne respectent absolument pas ce qui est noté sur leur site internet...\"\"\""
   ]
  },
  {
   "cell_type": "code",
   "execution_count": 317,
   "metadata": {},
   "outputs": [
    {
     "data": {
      "text/plain": [
       "array([[0, 0, 1, 1]])"
      ]
     },
     "execution_count": 317,
     "metadata": {},
     "output_type": "execute_result"
    }
   ],
   "source": [
    "augmented_result['model'].predict(augmented_result['vectorizer'].transform([mockup_text]))"
   ]
  },
  {
   "attachments": {},
   "cell_type": "markdown",
   "metadata": {},
   "source": [
    "---"
   ]
  },
  {
   "attachments": {},
   "cell_type": "markdown",
   "metadata": {},
   "source": [
    "# A Priori Word Dictionary"
   ]
  },
  {
   "cell_type": "code",
   "execution_count": 764,
   "metadata": {},
   "outputs": [],
   "source": [
    "BE_related_words = ['magasin', 'courses', 'achat' ,'caisse', 'stock', \n",
    "                    'manque', 'online', 'ligne', 'compte', 'disponible', \n",
    "                    'vendeur', 'rayon', 'market', 'marché', 'ville', 'connection',' connexion',\n",
    "                    'enregistré', 'magasins', 'personnel', 'chez']\n",
    "\n",
    "\n",
    "PD_related_words = ['produit', 'produits', 'frai', 'frais', 'fruit', 'fruits', 'légume', 'boucherie', 'prix', 'raisonable',\n",
    "                    'raisonables', 'cher', 'bio', 'ordinateur', 'portable', 'bouteille', 'bouteilles','variétés',\n",
    "                    'goût', ]\n",
    "                    # 'pain', 'eau', 'viande' , 'kilo', 'kilos' ,'euro', 'euros']\n",
    "\n",
    "\n",
    "\n",
    "DM_related_words = ['Drive', 'drive', 'livraison', 'livreur', 'livreurs', 'livraisons',\n",
    "                    'coli', 'colis', 'récupère', 'récuperer' ,'récuperé', 'envoyé', 'commande',\n",
    "                    'commmandes', 'arrivé', 'arrivée' ,'tard']\n",
    "\n",
    "AS_related_words = [\"service client\",  \"service clients\", \"Service client\", \"sav\", \"s.a.v.\", \"appel\" , \"remboursement\",\n",
    "                    \"rembourser\", 'après vente', \"après-vente\" ]"
   ]
  },
  {
   "cell_type": "code",
   "execution_count": 765,
   "metadata": {},
   "outputs": [],
   "source": [
    "def count_be(text):\n",
    "    count = 0 \n",
    "    for word in BE_related_words:\n",
    "        if word in text:\n",
    "            count+=1\n",
    "\n",
    "    return count\n",
    "\n",
    "def count_dm(text):\n",
    "    count = 0 \n",
    "    for word in DM_related_words:\n",
    "        if word in text:\n",
    "            count+=1\n",
    "\n",
    "    return count\n",
    "\n",
    "def count_pd(text):\n",
    "    count = 0 \n",
    "    for word in PD_related_words:\n",
    "        if word in text:\n",
    "            count+=1\n",
    "\n",
    "    return count\n",
    "\n",
    "def count_as(text):\n",
    "    count = 0 \n",
    "    for word in AS_related_words:\n",
    "        if word in text:\n",
    "            count+=1\n",
    "\n",
    "    return count\n"
   ]
  },
  {
   "cell_type": "code",
   "execution_count": 642,
   "metadata": {},
   "outputs": [],
   "source": [
    "X = label_df['combined_reviews']\n",
    "y = label_df.iloc[: , -7: -3]\n",
    "\n",
    "X_train_text, X_test_text, y_train, y_test= train_test_split(X, y,\n",
    "                                                              train_size=0.7,\n",
    "                                                              random_state=42)"
   ]
  },
  {
   "attachments": {},
   "cell_type": "markdown",
   "metadata": {},
   "source": [
    "## Delivery Mode class"
   ]
  },
  {
   "attachments": {},
   "cell_type": "markdown",
   "metadata": {},
   "source": [
    "### Augmented classfication report"
   ]
  },
  {
   "cell_type": "code",
   "execution_count": 654,
   "metadata": {},
   "outputs": [],
   "source": [
    "dm_dict_result= {}"
   ]
  },
  {
   "cell_type": "code",
   "execution_count": 657,
   "metadata": {},
   "outputs": [
    {
     "name": "stdout",
     "output_type": "stream",
     "text": [
      "              precision    recall  f1-score   support\n",
      "\n",
      "           0       0.87      0.98      0.93        63\n",
      "           1       0.92      0.55      0.69        20\n",
      "\n",
      "    accuracy                           0.88        83\n",
      "   macro avg       0.89      0.77      0.81        83\n",
      "weighted avg       0.88      0.88      0.87        83\n",
      "\n"
     ]
    }
   ],
   "source": [
    "augment_pred_dm = augmented_result['model'].predict(augmented_result['vectorizer'].transform(X_test_text))[: , 2]\n",
    "augment_pred_dm_prob =  augmented_result['model'].predict_proba(augmented_result['vectorizer'].transform(X_test_text))[2]\n",
    "\n",
    "print(classification_report(y_true = y_test.iloc[: ,2],\n",
    "                            y_pred = augment_pred_dm))\n",
    "\n",
    "dm_dict_result['augment_macro'] = f1_score(y_true = y_test.iloc[: ,2],\n",
    "               y_pred = augment_pred_dm, average = 'macro').round(2)\n",
    "\n",
    "dm_dict_result['augment_acc'] = accuracy_score(y_true = y_test.iloc[: ,2],\n",
    "               y_pred = augment_pred_dm).round(2)"
   ]
  },
  {
   "attachments": {},
   "cell_type": "markdown",
   "metadata": {},
   "source": [
    "### a priori word report"
   ]
  },
  {
   "cell_type": "code",
   "execution_count": 658,
   "metadata": {},
   "outputs": [
    {
     "name": "stdout",
     "output_type": "stream",
     "text": [
      "              precision    recall  f1-score   support\n",
      "\n",
      "           0       0.98      0.73      0.84        63\n",
      "           1       0.53      0.95      0.68        20\n",
      "\n",
      "    accuracy                           0.78        83\n",
      "   macro avg       0.75      0.84      0.76        83\n",
      "weighted avg       0.87      0.78      0.80        83\n",
      "\n"
     ]
    }
   ],
   "source": [
    "clf_dm = SVC(kernel='sigmoid', probability=True, C= 0.1)\n",
    "clf_dm.fit(np.array(X_train_text.apply(lambda x : count_dm(x))).reshape(-1,1), \n",
    "        np.array(y_train.iloc[: , 2 ]))\n",
    "svm_prediction_dm = clf_dm.predict(np.array(X_test_text.apply(lambda x : count_dm(x))).reshape(-1,1))\n",
    "svm_prediction_prob_dm = clf_dm.predict_proba(np.array(X_test_text.apply(lambda x : count_dm(x))).reshape(-1,1))\n",
    "print(classification_report(y_true = y_test.iloc[: , 2],\n",
    "                            y_pred = svm_prediction_dm))\n",
    "\n",
    "dm_dict_result['kw_macro'] = f1_score(y_true = y_test.iloc[: ,2],\n",
    "               y_pred = svm_prediction_dm, average = 'macro').round(2)\n",
    "\n",
    "dm_dict_result['kw_acc'] = accuracy_score(y_true = y_test.iloc[: ,2],\n",
    "               y_pred = svm_prediction_dm).round(2)"
   ]
  },
  {
   "attachments": {},
   "cell_type": "markdown",
   "metadata": {},
   "source": [
    "### Ensemble method"
   ]
  },
  {
   "cell_type": "code",
   "execution_count": 660,
   "metadata": {},
   "outputs": [
    {
     "name": "stdout",
     "output_type": "stream",
     "text": [
      "              precision    recall  f1-score   support\n",
      "\n",
      "           0       0.94      0.98      0.96        63\n",
      "           1       0.94      0.80      0.86        20\n",
      "\n",
      "    accuracy                           0.94        83\n",
      "   macro avg       0.94      0.89      0.91        83\n",
      "weighted avg       0.94      0.94      0.94        83\n",
      "\n"
     ]
    }
   ],
   "source": [
    "ensemble_prediction_dm = np.argmax((augment_pred_dm_prob + svm_prediction_prob_dm) / 2 , axis= 1)\n",
    "print(classification_report(y_true = y_test.iloc[: , 2],\n",
    "                            y_pred = ensemble_prediction_dm))\n",
    "\n",
    "\n",
    "dm_dict_result['ensemble_macro'] = f1_score(y_true = y_test.iloc[: ,2],\n",
    "               y_pred = ensemble_prediction_dm, average = 'macro').round(2)\n",
    "\n",
    "dm_dict_result['ensemble_acc'] = accuracy_score(y_true = y_test.iloc[: ,2],\n",
    "               y_pred = ensemble_prediction_dm).round(2)"
   ]
  },
  {
   "cell_type": "code",
   "execution_count": 668,
   "metadata": {},
   "outputs": [
    {
     "data": {
      "text/plain": [
       "<matplotlib.legend.Legend at 0x2d7033cd0>"
      ]
     },
     "execution_count": 668,
     "metadata": {},
     "output_type": "execute_result"
    },
    {
     "data": {
      "image/png": "[encoded data removed]",
      "text/plain": [
       "<Figure size 640x480 with 1 Axes>"
      ]
     },
     "metadata": {},
     "output_type": "display_data"
    }
   ],
   "source": [
    "plt.plot(['augmented', 'keyword' , 'ensemble'] , [dm_dict_result['augment_macro'],\n",
    "                             dm_dict_result['kw_macro'],\n",
    "                             dm_dict_result['ensemble_macro']],\n",
    "         label = 'f1 macro score')\n",
    "\n",
    "plt.plot(['augmented', 'keyword' , 'ensemble'] , [dm_dict_result['augment_acc'],\n",
    "                             dm_dict_result['kw_acc'],\n",
    "                             dm_dict_result['ensemble_acc']],\n",
    "          label = 'accuracy score')\n",
    "plt.title('Model performance comparison on class `Delivery Mode`')\n",
    "plt.legend()"
   ]
  },
  {
   "attachments": {},
   "cell_type": "markdown",
   "metadata": {},
   "source": [
    "## Product class"
   ]
  },
  {
   "cell_type": "code",
   "execution_count": 755,
   "metadata": {},
   "outputs": [],
   "source": [
    "pd_dict_result= {}"
   ]
  },
  {
   "attachments": {},
   "cell_type": "markdown",
   "metadata": {},
   "source": [
    "### Augment report"
   ]
  },
  {
   "cell_type": "code",
   "execution_count": 756,
   "metadata": {},
   "outputs": [
    {
     "name": "stdout",
     "output_type": "stream",
     "text": [
      "              precision    recall  f1-score   support\n",
      "\n",
      "           0       0.89      0.97      0.93        61\n",
      "           1       0.88      0.68      0.77        22\n",
      "\n",
      "    accuracy                           0.89        83\n",
      "   macro avg       0.89      0.82      0.85        83\n",
      "weighted avg       0.89      0.89      0.89        83\n",
      "\n"
     ]
    }
   ],
   "source": [
    "augment_pred_pd = augmented_result['model'].predict(augmented_result['vectorizer'].transform(X_test_text))[: , 1]\n",
    "augment_pred_pd_prob =  augmented_result['model'].predict_proba(augmented_result['vectorizer'].transform(X_test_text))[1]\n",
    "\n",
    "print(classification_report(y_true = y_test.iloc[: ,1],\n",
    "                            y_pred = augment_pred_pd))\n",
    "\n",
    "pd_dict_result['augment_macro'] = f1_score(y_true = y_test.iloc[: ,1],\n",
    "               y_pred = augment_pred_pd, average = 'macro').round(2)\n",
    "\n",
    "pd_dict_result['augment_acc'] = accuracy_score(y_true = y_test.iloc[: ,1],\n",
    "               y_pred = augment_pred_pd).round(2)"
   ]
  },
  {
   "attachments": {},
   "cell_type": "markdown",
   "metadata": {},
   "source": [
    "### Keyword report"
   ]
  },
  {
   "cell_type": "code",
   "execution_count": 757,
   "metadata": {},
   "outputs": [
    {
     "name": "stdout",
     "output_type": "stream",
     "text": [
      "              precision    recall  f1-score   support\n",
      "\n",
      "           0       0.00      0.00      0.00        61\n",
      "           1       0.27      1.00      0.42        22\n",
      "\n",
      "    accuracy                           0.27        83\n",
      "   macro avg       0.13      0.50      0.21        83\n",
      "weighted avg       0.07      0.27      0.11        83\n",
      "\n"
     ]
    },
    {
     "name": "stderr",
     "output_type": "stream",
     "text": [
      "/Users/carlosito/Documents/Virtual_Environment/hexamind/lib/python3.10/site-packages/sklearn/metrics/_classification.py:1344: UndefinedMetricWarning: Precision and F-score are ill-defined and being set to 0.0 in labels with no predicted samples. Use `zero_division` parameter to control this behavior.\n",
      "  _warn_prf(average, modifier, msg_start, len(result))\n",
      "/Users/carlosito/Documents/Virtual_Environment/hexamind/lib/python3.10/site-packages/sklearn/metrics/_classification.py:1344: UndefinedMetricWarning: Precision and F-score are ill-defined and being set to 0.0 in labels with no predicted samples. Use `zero_division` parameter to control this behavior.\n",
      "  _warn_prf(average, modifier, msg_start, len(result))\n",
      "/Users/carlosito/Documents/Virtual_Environment/hexamind/lib/python3.10/site-packages/sklearn/metrics/_classification.py:1344: UndefinedMetricWarning: Precision and F-score are ill-defined and being set to 0.0 in labels with no predicted samples. Use `zero_division` parameter to control this behavior.\n",
      "  _warn_prf(average, modifier, msg_start, len(result))\n"
     ]
    }
   ],
   "source": [
    "# clf_pd = SVC(kernel='sigmoid', probability=True, C = 10)\n",
    "# clf_pd = LogisticRegression()\n",
    "clf_pd = GaussianNB(priors=[0.2, 0.8])\n",
    "clf_pd.fit(np.array(X_train_text.apply(lambda x : count_pd(x))).reshape(-1,1), \n",
    "        np.array(y_train.iloc[: , 1 ]))\n",
    "svm_prediction_pd = clf_pd.predict(np.array(X_test_text.apply(lambda x : count_pd(x))).reshape(-1,1))\n",
    "svm_prediction_prob_pd = clf_pd.predict_proba(np.array(X_test_text.apply(lambda x : count_pd(x))).reshape(-1,1))\n",
    "print(classification_report(y_true = y_test.iloc[: , 1],\n",
    "                            y_pred = svm_prediction_pd))\n",
    "\n",
    "pd_dict_result['kw_macro'] = f1_score(y_true = y_test.iloc[: ,1],\n",
    "               y_pred = svm_prediction_pd, average = 'macro').round(2)\n",
    "\n",
    "pd_dict_result['kw_acc'] = accuracy_score(y_true = y_test.iloc[: ,1],\n",
    "               y_pred = svm_prediction_pd).round(2)"
   ]
  },
  {
   "attachments": {},
   "cell_type": "markdown",
   "metadata": {},
   "source": [
    "### Ensemble report"
   ]
  },
  {
   "cell_type": "code",
   "execution_count": 758,
   "metadata": {},
   "outputs": [
    {
     "name": "stdout",
     "output_type": "stream",
     "text": [
      "              precision    recall  f1-score   support\n",
      "\n",
      "           0       0.95      0.90      0.92        61\n",
      "           1       0.76      0.86      0.81        22\n",
      "\n",
      "    accuracy                           0.89        83\n",
      "   macro avg       0.85      0.88      0.87        83\n",
      "weighted avg       0.90      0.89      0.89        83\n",
      "\n"
     ]
    }
   ],
   "source": [
    "ensemble_prediction_pd = np.argmax((augment_pred_pd_prob + svm_prediction_prob_pd) / 2 , axis= 1)\n",
    "print(classification_report(y_true = y_test.iloc[: , 1],\n",
    "                            y_pred = ensemble_prediction_pd))\n",
    "\n",
    "\n",
    "pd_dict_result['ensemble_macro'] = f1_score(y_true = y_test.iloc[: ,1],\n",
    "               y_pred = ensemble_prediction_pd, average = 'macro').round(2)\n",
    "\n",
    "pd_dict_result['ensemble_acc'] = accuracy_score(y_true = y_test.iloc[: ,1],\n",
    "               y_pred = ensemble_prediction_pd).round(2)"
   ]
  },
  {
   "cell_type": "code",
   "execution_count": 759,
   "metadata": {},
   "outputs": [
    {
     "data": {
      "text/plain": [
       "<matplotlib.legend.Legend at 0x2d6e5ada0>"
      ]
     },
     "execution_count": 759,
     "metadata": {},
     "output_type": "execute_result"
    },
    {
     "data": {
      "image/png": "[encoded data removed]",
      "text/plain": [
       "<Figure size 640x480 with 1 Axes>"
      ]
     },
     "metadata": {},
     "output_type": "display_data"
    }
   ],
   "source": [
    "plt.plot(['augmented', 'keyword' , 'ensemble'] , [pd_dict_result['augment_macro'],\n",
    "                             pd_dict_result['kw_macro'],\n",
    "                             pd_dict_result['ensemble_macro']],\n",
    "         label = 'f1 macro score')\n",
    "\n",
    "plt.plot(['augmented', 'keyword' , 'ensemble'] , [pd_dict_result['augment_acc'],\n",
    "                             pd_dict_result['kw_acc'],\n",
    "                             pd_dict_result['ensemble_acc']],\n",
    "          label = 'accuracy score')\n",
    "plt.title('Model performance comparison on class `Product`')\n",
    "plt.legend()"
   ]
  },
  {
   "attachments": {},
   "cell_type": "markdown",
   "metadata": {},
   "source": [
    "## After-Sales class"
   ]
  },
  {
   "cell_type": "code",
   "execution_count": 766,
   "metadata": {},
   "outputs": [],
   "source": [
    "as_dict_result= {}"
   ]
  },
  {
   "attachments": {},
   "cell_type": "markdown",
   "metadata": {},
   "source": [
    "### Augmented method"
   ]
  },
  {
   "cell_type": "code",
   "execution_count": 767,
   "metadata": {},
   "outputs": [
    {
     "name": "stdout",
     "output_type": "stream",
     "text": [
      "              precision    recall  f1-score   support\n",
      "\n",
      "           0       0.87      1.00      0.93        60\n",
      "           1       1.00      0.61      0.76        23\n",
      "\n",
      "    accuracy                           0.89        83\n",
      "   macro avg       0.93      0.80      0.84        83\n",
      "weighted avg       0.91      0.89      0.88        83\n",
      "\n"
     ]
    }
   ],
   "source": [
    "augment_pred_as = augmented_result['model'].predict(augmented_result['vectorizer'].transform(X_test_text))[: , 3]\n",
    "augment_pred_as_prob =  augmented_result['model'].predict_proba(augmented_result['vectorizer'].transform(X_test_text))[3]\n",
    "\n",
    "print(classification_report(y_true = y_test.iloc[: ,3],\n",
    "                            y_pred = augment_pred_as))\n",
    "\n",
    "as_dict_result['augment_macro'] = f1_score(y_true = y_test.iloc[: ,3],\n",
    "               y_pred = augment_pred_as, average = 'macro').round(2)\n",
    "\n",
    "as_dict_result['augment_acc'] = accuracy_score(y_true = y_test.iloc[: ,3],\n",
    "               y_pred = augment_pred_as).round(2)"
   ]
  },
  {
   "attachments": {},
   "cell_type": "markdown",
   "metadata": {},
   "source": [
    "### Keyword method"
   ]
  },
  {
   "cell_type": "code",
   "execution_count": 776,
   "metadata": {},
   "outputs": [
    {
     "name": "stdout",
     "output_type": "stream",
     "text": [
      "              precision    recall  f1-score   support\n",
      "\n",
      "           0       0.87      0.77      0.81        60\n",
      "           1       0.53      0.70      0.60        23\n",
      "\n",
      "    accuracy                           0.75        83\n",
      "   macro avg       0.70      0.73      0.71        83\n",
      "weighted avg       0.78      0.75      0.76        83\n",
      "\n"
     ]
    }
   ],
   "source": [
    "clf_as = SVC(kernel='sigmoid', probability=True, C = 0.1)\n",
    "# clf_pd = LogisticRegression()\n",
    "clf_as.fit(np.array(X_train_text.apply(lambda x : count_as(x))).reshape(-1,1), \n",
    "        np.array(y_train.iloc[: , 3 ]))\n",
    "svm_prediction_as = clf_as.predict(np.array(X_test_text.apply(lambda x : count_as(x))).reshape(-1,1))\n",
    "svm_prediction_prob_as = clf_as.predict_proba(np.array(X_test_text.apply(lambda x : count_as(x))).reshape(-1,1))\n",
    "print(classification_report(y_true = y_test.iloc[: , 3],\n",
    "                            y_pred = svm_prediction_as))\n",
    "\n",
    "as_dict_result['kw_macro'] = f1_score(y_true = y_test.iloc[: ,3],\n",
    "               y_pred = svm_prediction_as, average = 'macro').round(2)\n",
    "\n",
    "as_dict_result['kw_acc'] = accuracy_score(y_true = y_test.iloc[: ,3],\n",
    "               y_pred = svm_prediction_as).round(2)"
   ]
  },
  {
   "attachments": {},
   "cell_type": "markdown",
   "metadata": {},
   "source": [
    "### Ensemble method"
   ]
  },
  {
   "cell_type": "code",
   "execution_count": 777,
   "metadata": {},
   "outputs": [
    {
     "name": "stdout",
     "output_type": "stream",
     "text": [
      "              precision    recall  f1-score   support\n",
      "\n",
      "           0       0.89      0.98      0.94        60\n",
      "           1       0.94      0.70      0.80        23\n",
      "\n",
      "    accuracy                           0.90        83\n",
      "   macro avg       0.92      0.84      0.87        83\n",
      "weighted avg       0.91      0.90      0.90        83\n",
      "\n"
     ]
    }
   ],
   "source": [
    "ensemble_prediction_as = np.argmax((augment_pred_as_prob + svm_prediction_prob_as) / 2 , axis= 1)\n",
    "print(classification_report(y_true = y_test.iloc[: , 3],\n",
    "                            y_pred = ensemble_prediction_as))\n",
    "\n",
    "\n",
    "as_dict_result['ensemble_macro'] = f1_score(y_true = y_test.iloc[: ,3],\n",
    "               y_pred = ensemble_prediction_as, average = 'macro').round(2)\n",
    "\n",
    "as_dict_result['ensemble_acc'] = accuracy_score(y_true = y_test.iloc[: ,3],\n",
    "               y_pred = ensemble_prediction_as).round(2)"
   ]
  },
  {
   "cell_type": "code",
   "execution_count": 781,
   "metadata": {},
   "outputs": [
    {
     "data": {
      "text/plain": [
       "<matplotlib.legend.Legend at 0x2d6763a30>"
      ]
     },
     "execution_count": 781,
     "metadata": {},
     "output_type": "execute_result"
    },
    {
     "data": {
      "image/png": "[encoded data removed]",
      "text/plain": [
       "<Figure size 640x480 with 1 Axes>"
      ]
     },
     "metadata": {},
     "output_type": "display_data"
    }
   ],
   "source": [
    "plt.plot(['augmented', 'keyword' , 'ensemble'] , [as_dict_result['augment_macro'],\n",
    "                             as_dict_result['kw_macro'],\n",
    "                             as_dict_result['ensemble_macro']],\n",
    "         label = 'f1 macro score')\n",
    "\n",
    "plt.plot(['augmented', 'keyword' , 'ensemble'] , [as_dict_result['augment_acc'],\n",
    "                             as_dict_result['kw_acc'],\n",
    "                             as_dict_result['ensemble_acc']],\n",
    "          label = 'accuracy score')\n",
    "plt.title('Model performance comparison on class `After-Sales`')\n",
    "plt.legend()"
   ]
  },
  {
   "attachments": {},
   "cell_type": "markdown",
   "metadata": {},
   "source": [
    "# Let's combine everything"
   ]
  },
  {
   "cell_type": "code",
   "execution_count": 785,
   "metadata": {},
   "outputs": [
    {
     "name": "stdout",
     "output_type": "stream",
     "text": [
      "(83,)\n"
     ]
    }
   ],
   "source": [
    "prediction_be = augmented_result['model'].predict(augmented_result['vectorizer'].transform(X_test_text))[: , 0]\n",
    "print(prediction_be.shape)"
   ]
  },
  {
   "cell_type": "code",
   "execution_count": 799,
   "metadata": {},
   "outputs": [
    {
     "name": "stdout",
     "output_type": "stream",
     "text": [
      "(83, 4)\n"
     ]
    }
   ],
   "source": [
    "final_prediction = np.vstack([prediction_be, ensemble_prediction_pd,\n",
    "                              ensemble_prediction_dm, ensemble_prediction_as]).T\n",
    "print(final_prediction.shape)"
   ]
  },
  {
   "cell_type": "code",
   "execution_count": null,
   "metadata": {},
   "outputs": [],
   "source": []
  },
  {
   "cell_type": "code",
   "execution_count": 802,
   "metadata": {},
   "outputs": [
    {
     "name": "stdout",
     "output_type": "stream",
     "text": [
      "              precision    recall  f1-score   support\n",
      "\n",
      "           0       0.97      0.94      0.95        63\n",
      "           1       0.76      0.86      0.81        22\n",
      "           2       0.94      0.80      0.86        20\n",
      "           3       0.94      0.70      0.80        23\n",
      "\n",
      "   micro avg       0.92      0.86      0.89       128\n",
      "   macro avg       0.90      0.82      0.86       128\n",
      "weighted avg       0.92      0.86      0.89       128\n",
      " samples avg       0.90      0.88      0.88       128\n",
      "\n"
     ]
    },
    {
     "name": "stderr",
     "output_type": "stream",
     "text": [
      "/Users/carlosito/Documents/Virtual_Environment/hexamind/lib/python3.10/site-packages/sklearn/metrics/_classification.py:1344: UndefinedMetricWarning: Precision and F-score are ill-defined and being set to 0.0 in samples with no predicted labels. Use `zero_division` parameter to control this behavior.\n",
      "  _warn_prf(average, modifier, msg_start, len(result))\n",
      "/Users/carlosito/Documents/Virtual_Environment/hexamind/lib/python3.10/site-packages/sklearn/metrics/_classification.py:1344: UndefinedMetricWarning: Recall and F-score are ill-defined and being set to 0.0 in samples with no true labels. Use `zero_division` parameter to control this behavior.\n",
      "  _warn_prf(average, modifier, msg_start, len(result))\n"
     ]
    }
   ],
   "source": [
    "print(classification_report(y_true = y_test,\n",
    "                            y_pred = final_prediction))"
   ]
  },
  {
   "cell_type": "code",
   "execution_count": 803,
   "metadata": {},
   "outputs": [
    {
     "name": "stdout",
     "output_type": "stream",
     "text": [
      "0.7349397590361446\n"
     ]
    }
   ],
   "source": [
    "print(accuracy_score(y_true = y_test,\n",
    "                            y_pred = final_prediction))"
   ]
  },
  {
   "cell_type": "code",
   "execution_count": 807,
   "metadata": {},
   "outputs": [
    {
     "name": "stdout",
     "output_type": "stream",
     "text": [
      "0.75\n"
     ]
    }
   ],
   "source": [
    "print(accuracy_score(y_true = [0,0,1,0],\n",
    "                            y_pred = [0,1,1,0]))"
   ]
  },
  {
   "attachments": {},
   "cell_type": "markdown",
   "metadata": {},
   "source": [
    "# Save every model "
   ]
  },
  {
   "cell_type": "code",
   "execution_count": 810,
   "metadata": {},
   "outputs": [
    {
     "data": {
      "text/html": [
       "<style>#sk-container-id-5 {color: black;background-color: white;}#sk-container-id-5 pre{padding: 0;}#sk-container-id-5 div.sk-toggleable {background-color: white;}#sk-container-id-5 label.sk-toggleable__label {cursor: pointer;display: block;width: 100%;margin-bottom: 0;padding: 0.3em;box-sizing: border-box;text-align: center;}#sk-container-id-5 label.sk-toggleable__label-arrow:before {content: \"▸\";float: left;margin-right: 0.25em;color: #696969;}#sk-container-id-5 label.sk-toggleable__label-arrow:hover:before {color: black;}#sk-container-id-5 div.sk-estimator:hover label.sk-toggleable__label-arrow:before {color: black;}#sk-container-id-5 div.sk-toggleable__content {max-height: 0;max-width: 0;overflow: hidden;text-align: left;background-color: #f0f8ff;}#sk-container-id-5 div.sk-toggleable__content pre {margin: 0.2em;color: black;border-radius: 0.25em;background-color: #f0f8ff;}#sk-container-id-5 input.sk-toggleable__control:checked~div.sk-toggleable__content {max-height: 200px;max-width: 100%;overflow: auto;}#sk-container-id-5 input.sk-toggleable__control:checked~label.sk-toggleable__label-arrow:before {content: \"▾\";}#sk-container-id-5 div.sk-estimator input.sk-toggleable__control:checked~label.sk-toggleable__label {background-color: #d4ebff;}#sk-container-id-5 div.sk-label input.sk-toggleable__control:checked~label.sk-toggleable__label {background-color: #d4ebff;}#sk-container-id-5 input.sk-hidden--visually {border: 0;clip: rect(1px 1px 1px 1px);clip: rect(1px, 1px, 1px, 1px);height: 1px;margin: -1px;overflow: hidden;padding: 0;position: absolute;width: 1px;}#sk-container-id-5 div.sk-estimator {font-family: monospace;background-color: #f0f8ff;border: 1px dotted black;border-radius: 0.25em;box-sizing: border-box;margin-bottom: 0.5em;}#sk-container-id-5 div.sk-estimator:hover {background-color: #d4ebff;}#sk-container-id-5 div.sk-parallel-item::after {content: \"\";width: 100%;border-bottom: 1px solid gray;flex-grow: 1;}#sk-container-id-5 div.sk-label:hover label.sk-toggleable__label {background-color: #d4ebff;}#sk-container-id-5 div.sk-serial::before {content: \"\";position: absolute;border-left: 1px solid gray;box-sizing: border-box;top: 0;bottom: 0;left: 50%;z-index: 0;}#sk-container-id-5 div.sk-serial {display: flex;flex-direction: column;align-items: center;background-color: white;padding-right: 0.2em;padding-left: 0.2em;position: relative;}#sk-container-id-5 div.sk-item {position: relative;z-index: 1;}#sk-container-id-5 div.sk-parallel {display: flex;align-items: stretch;justify-content: center;background-color: white;position: relative;}#sk-container-id-5 div.sk-item::before, #sk-container-id-5 div.sk-parallel-item::before {content: \"\";position: absolute;border-left: 1px solid gray;box-sizing: border-box;top: 0;bottom: 0;left: 50%;z-index: -1;}#sk-container-id-5 div.sk-parallel-item {display: flex;flex-direction: column;z-index: 1;position: relative;background-color: white;}#sk-container-id-5 div.sk-parallel-item:first-child::after {align-self: flex-end;width: 50%;}#sk-container-id-5 div.sk-parallel-item:last-child::after {align-self: flex-start;width: 50%;}#sk-container-id-5 div.sk-parallel-item:only-child::after {width: 0;}#sk-container-id-5 div.sk-dashed-wrapped {border: 1px dashed gray;margin: 0 0.4em 0.5em 0.4em;box-sizing: border-box;padding-bottom: 0.4em;background-color: white;}#sk-container-id-5 div.sk-label label {font-family: monospace;font-weight: bold;display: inline-block;line-height: 1.2em;}#sk-container-id-5 div.sk-label-container {text-align: center;}#sk-container-id-5 div.sk-container {/* jupyter's `normalize.less` sets `[hidden] { display: none; }` but bootstrap.min.css set `[hidden] { display: none !important; }` so we also need the `!important` here to be able to override the default hidden behavior on the sphinx rendered scikit-learn.org. See: https://github.com/scikit-learn/scikit-learn/issues/21755 */display: inline-block !important;position: relative;}#sk-container-id-5 div.sk-text-repr-fallback {display: none;}</style><div id=\"sk-container-id-5\" class=\"sk-top-container\"><div class=\"sk-text-repr-fallback\"><pre>MultiOutputClassifier(estimator=LogisticRegression())</pre><b>In a Jupyter environment, please rerun this cell to show the HTML representation or trust the notebook. <br />On GitHub, the HTML representation is unable to render, please try loading this page with nbviewer.org.</b></div><div class=\"sk-container\" hidden><div class=\"sk-item sk-dashed-wrapped\"><div class=\"sk-label-container\"><div class=\"sk-label sk-toggleable\"><input class=\"sk-toggleable__control sk-hidden--visually\" id=\"sk-estimator-id-9\" type=\"checkbox\" ><label for=\"sk-estimator-id-9\" class=\"sk-toggleable__label sk-toggleable__label-arrow\">MultiOutputClassifier</label><div class=\"sk-toggleable__content\"><pre>MultiOutputClassifier(estimator=LogisticRegression())</pre></div></div></div><div class=\"sk-parallel\"><div class=\"sk-parallel-item\"><div class=\"sk-item\"><div class=\"sk-label-container\"><div class=\"sk-label sk-toggleable\"><input class=\"sk-toggleable__control sk-hidden--visually\" id=\"sk-estimator-id-10\" type=\"checkbox\" ><label for=\"sk-estimator-id-10\" class=\"sk-toggleable__label sk-toggleable__label-arrow\">estimator: LogisticRegression</label><div class=\"sk-toggleable__content\"><pre>LogisticRegression()</pre></div></div></div><div class=\"sk-serial\"><div class=\"sk-item\"><div class=\"sk-estimator sk-toggleable\"><input class=\"sk-toggleable__control sk-hidden--visually\" id=\"sk-estimator-id-11\" type=\"checkbox\" ><label for=\"sk-estimator-id-11\" class=\"sk-toggleable__label sk-toggleable__label-arrow\">LogisticRegression</label><div class=\"sk-toggleable__content\"><pre>LogisticRegression()</pre></div></div></div></div></div></div></div></div></div></div>"
      ],
      "text/plain": [
       "MultiOutputClassifier(estimator=LogisticRegression())"
      ]
     },
     "execution_count": 810,
     "metadata": {},
     "output_type": "execute_result"
    }
   ],
   "source": [
    "augmented_result[\"model\"]"
   ]
  },
  {
   "cell_type": "code",
   "execution_count": 811,
   "metadata": {},
   "outputs": [],
   "source": [
    "import joblib"
   ]
  },
  {
   "cell_type": "code",
   "execution_count": 843,
   "metadata": {},
   "outputs": [
    {
     "data": {
      "text/plain": [
       "['model_checkpoint/clf2-aftersales-clf.sav']"
      ]
     },
     "execution_count": 843,
     "metadata": {},
     "output_type": "execute_result"
    }
   ],
   "source": [
    "MODEL_CHECKPOINT_PAHT = \"model_checkpoint/\"\n",
    "\n",
    "# CLF1 - classifier\n",
    "# filename = \"clf1_augmented_clf.sav\"\n",
    "# joblib.dump(augmented_result[\"model\"], filename)\n",
    "\n",
    "# CLF1 - tokenizer\n",
    "# filename =  MODEL_CHECKPOINT_PAHT + \"clf1_augmented_vectorizer.sav\"\n",
    "# joblib.dump(augmented_result[\"vectorizer\"], filename)\n",
    "\n",
    "#CLF2 - Product\n",
    "filename_clf2_pd =  MODEL_CHECKPOINT_PAHT + \"clf2-product-clf.sav\"\n",
    "filename_clf2_dm =  MODEL_CHECKPOINT_PAHT + \"clf2-delivery-clf.sav\"\n",
    "filename_clf2_as =  MODEL_CHECKPOINT_PAHT + \"clf2-aftersales-clf.sav\"\n",
    "\n",
    "joblib.dump(clf_pd, filename_clf2_pd)\n",
    "joblib.dump(clf_dm, filename_clf2_dm)\n",
    "joblib.dump(clf_as, filename_clf2_as)\n"
   ]
  },
  {
   "cell_type": "code",
   "execution_count": 844,
   "metadata": {},
   "outputs": [],
   "source": [
    "clf1_loaded_clf = joblib.load(\"model_checkpoint/clf1_augmented_clf.sav\")\n",
    "clf1_loaded_vectorizer = joblib.load(\"model_checkpoint/clf1_augmented_vectorizer.sav\")\n",
    "\n",
    "\n",
    "clf2_loaded_clf_pd = joblib.load(\"model_checkpoint/clf2-product-clf.sav\")\n",
    "clf2_loaded_clf_dm = joblib.load(\"model_checkpoint/clf2-delivery-clf.sav\")\n",
    "clf2_loaded_clf_as = joblib.load(\"model_checkpoint/clf2-aftersales-clf.sav\")"
   ]
  },
  {
   "attachments": {},
   "cell_type": "markdown",
   "metadata": {},
   "source": [
    "## Calling the first pipeline prediction"
   ]
  },
  {
   "cell_type": "code",
   "execution_count": 840,
   "metadata": {},
   "outputs": [
    {
     "name": "stdout",
     "output_type": "stream",
     "text": [
      "              precision    recall  f1-score   support\n",
      "\n",
      "           0       0.97      0.94      0.95        63\n",
      "           1       0.88      0.68      0.77        22\n",
      "           2       0.92      0.55      0.69        20\n",
      "           3       1.00      0.61      0.76        23\n",
      "\n",
      "   micro avg       0.95      0.77      0.85       128\n",
      "   macro avg       0.94      0.69      0.79       128\n",
      "weighted avg       0.95      0.77      0.84       128\n",
      " samples avg       0.91      0.82      0.84       128\n",
      "\n"
     ]
    },
    {
     "name": "stderr",
     "output_type": "stream",
     "text": [
      "/Users/carlosito/Documents/Virtual_Environment/hexamind/lib/python3.10/site-packages/sklearn/metrics/_classification.py:1344: UndefinedMetricWarning: Precision and F-score are ill-defined and being set to 0.0 in samples with no predicted labels. Use `zero_division` parameter to control this behavior.\n",
      "  _warn_prf(average, modifier, msg_start, len(result))\n",
      "/Users/carlosito/Documents/Virtual_Environment/hexamind/lib/python3.10/site-packages/sklearn/metrics/_classification.py:1344: UndefinedMetricWarning: Recall and F-score are ill-defined and being set to 0.0 in samples with no true labels. Use `zero_division` parameter to control this behavior.\n",
      "  _warn_prf(average, modifier, msg_start, len(result))\n"
     ]
    }
   ],
   "source": [
    "clf1_loaded_prediction = clf1_loaded_clf.predict(clf1_loaded_vectorizer.transform(X_test_text))\n",
    "print(classification_report(y_true = y_test,\n",
    "                            y_pred = clf1_loaded_prediction))"
   ]
  },
  {
   "cell_type": "code",
   "execution_count": 1038,
   "metadata": {},
   "outputs": [
    {
     "name": "stdout",
     "output_type": "stream",
     "text": [
      "class - Buying experience\n",
      "class - Product\n",
      "class - Delivery\n",
      "class - AfterSales\n"
     ]
    }
   ],
   "source": [
    "for c in range(4):\n",
    "    if c == 0:\n",
    "        print(\"class - Buying experience\")\n",
    "        be_prediction = clf1_loaded_clf.predict(clf1_loaded_vectorizer.transform(X_test_text))[: , 0]\n",
    "        \n",
    "    elif c == 1:\n",
    "        print(\"class - Product\")\n",
    "        clf1_pd_prediction_proba = clf1_loaded_clf.predict_proba(clf1_loaded_vectorizer.transform(X_test_text))[c]\n",
    "        clf2_pd_prediction_proba = clf2_loaded_clf_pd.predict_proba(np.array(X_test_text.apply(lambda x : count_pd(x))).reshape(-1,1))\n",
    "        final_prediction_pd = np.argmax((clf1_pd_prediction_proba + clf2_pd_prediction_proba) / 2, axis =1)\n",
    "        assert np.all([ensemble_prediction_pd == final_prediction_pd])\n",
    "        \n",
    "    elif c == 2:\n",
    "        print(\"class - Delivery\")\n",
    "        clf1_dm_prediction_proba = clf1_loaded_clf.predict_proba(clf1_loaded_vectorizer.transform(X_test_text))[c]\n",
    "        clf2_dm_prediction_proba = clf2_loaded_clf_dm.predict_proba(np.array(X_test_text.apply(lambda x : count_dm(x))).reshape(-1,1))\n",
    "        final_prediction_dm = np.argmax((clf1_dm_prediction_proba + clf2_dm_prediction_proba) / 2, axis =1)\n",
    "        assert np.all([ensemble_prediction_dm == final_prediction_dm])\n",
    "        \n",
    "    elif c == 3:\n",
    "        print(\"class - AfterSales\")\n",
    "        clf1_as_prediction_proba = clf1_loaded_clf.predict_proba(clf1_loaded_vectorizer.transform(X_test_text))[c]\n",
    "        clf2_as_prediction_proba = clf2_loaded_clf_as.predict_proba(np.array(X_test_text.apply(lambda x : count_as(x))).reshape(-1,1))\n",
    "        final_prediction_as = np.argmax((clf1_as_prediction_proba + clf2_as_prediction_proba) / 2, axis =1)\n",
    "        assert np.all([ensemble_prediction_as == final_prediction_as])"
   ]
  },
  {
   "cell_type": "code",
   "execution_count": 1044,
   "metadata": {},
   "outputs": [
    {
     "name": "stdout",
     "output_type": "stream",
     "text": [
      "True\n"
     ]
    }
   ],
   "source": [
    "new_final_prediction = np.vstack([be_prediction, final_prediction_pd , final_prediction_dm, final_prediction_as ]).T\n",
    "print(np.all(new_final_prediction == final_prediction))"
   ]
  },
  {
   "cell_type": "code",
   "execution_count": 1057,
   "metadata": {},
   "outputs": [
    {
     "data": {
      "text/plain": [
       "array([[0.02539653, 0.97460347, 0.97893823, 0.02106177, 0.98551097,\n",
       "        0.01448903, 0.97756528, 0.02243472, 0.31552846, 0.68447154,\n",
       "        0.93818625, 0.06181375, 0.89078832, 0.10921168],\n",
       "       [0.94827618, 0.05172382, 0.96512029, 0.03487971, 0.07793862,\n",
       "        0.92206138, 0.95878259, 0.04121741, 0.31552846, 0.68447154,\n",
       "        0.21495361, 0.78504639, 0.89078832, 0.10921168],\n",
       "       [0.13267656, 0.86732344, 0.95106783, 0.04893217, 0.0524842 ,\n",
       "        0.9475158 , 0.94369783, 0.05630217, 0.26476458, 0.73523542,\n",
       "        0.21495361, 0.78504639, 0.89078832, 0.10921168]])"
      ]
     },
     "execution_count": 1057,
     "metadata": {},
     "output_type": "execute_result"
    }
   ],
   "source": [
    "new_X_train[:3 ,:]"
   ]
  },
  {
   "cell_type": "code",
   "execution_count": 1051,
   "metadata": {},
   "outputs": [
    {
     "name": "stdout",
     "output_type": "stream",
     "text": [
      "              precision    recall  f1-score   support\n",
      "\n",
      "           0       0.97      0.98      0.98        63\n",
      "           1       0.94      0.68      0.79        22\n",
      "           2       0.92      0.55      0.69        20\n",
      "           3       0.94      0.65      0.77        23\n",
      "\n",
      "   micro avg       0.95      0.80      0.87       128\n",
      "   macro avg       0.94      0.72      0.81       128\n",
      "weighted avg       0.95      0.80      0.86       128\n",
      " samples avg       0.94      0.85      0.88       128\n",
      "\n"
     ]
    },
    {
     "name": "stderr",
     "output_type": "stream",
     "text": [
      "/Users/carlosito/Documents/Virtual_Environment/hexamind/lib/python3.10/site-packages/sklearn/metrics/_classification.py:1344: UndefinedMetricWarning: Precision and F-score are ill-defined and being set to 0.0 in samples with no predicted labels. Use `zero_division` parameter to control this behavior.\n",
      "  _warn_prf(average, modifier, msg_start, len(result))\n",
      "/Users/carlosito/Documents/Virtual_Environment/hexamind/lib/python3.10/site-packages/sklearn/metrics/_classification.py:1344: UndefinedMetricWarning: Recall and F-score are ill-defined and being set to 0.0 in samples with no true labels. Use `zero_division` parameter to control this behavior.\n",
      "  _warn_prf(average, modifier, msg_start, len(result))\n"
     ]
    }
   ],
   "source": [
    "haha  = MultiOutputClassifier(MLPClassifier(hidden_layer_sizes=10, \n",
    "                                            activation='relu', alpha=0.01,\n",
    "                                            learning_rate_init=0.001,\n",
    "                                            learning_rate='adaptive',\n",
    "                                            max_iter=10000)).fit(new_X_train, y_train)\n",
    "haha_prediction = haha.predict(new_X_test)\n",
    "\n",
    "print(classification_report(y_test,\n",
    "                            haha_prediction))"
   ]
  },
  {
   "cell_type": "code",
   "execution_count": 1043,
   "metadata": {},
   "outputs": [],
   "source": [
    "new_X_train = np.hstack([clf1_loaded_clf.predict_proba(clf1_loaded_vectorizer.transform(X_train_text))[0],\n",
    "           clf1_loaded_clf.predict_proba(clf1_loaded_vectorizer.transform(X_train_text))[1],\n",
    "           clf1_loaded_clf.predict_proba(clf1_loaded_vectorizer.transform(X_train_text))[2],\n",
    "           clf1_loaded_clf.predict_proba(clf1_loaded_vectorizer.transform(X_train_text))[3],\n",
    "           clf2_loaded_clf_pd.predict_proba(np.array(X_train_text.apply(lambda x : count_pd(x))).reshape(-1,1)),\n",
    "           clf2_loaded_clf_dm.predict_proba(np.array(X_train_text.apply(lambda x : count_dm(x))).reshape(-1,1)),\n",
    "           clf2_loaded_clf_as.predict_proba(np.array(X_train_text.apply(lambda x : count_as(x))).reshape(-1,1))\n",
    "]\n",
    ")\n",
    "\n",
    "\n",
    "new_X_test = np.hstack([clf1_loaded_clf.predict_proba(clf1_loaded_vectorizer.transform(X_test_text))[0],\n",
    "           clf1_loaded_clf.predict_proba(clf1_loaded_vectorizer.transform(X_test_text))[1],\n",
    "           clf1_loaded_clf.predict_proba(clf1_loaded_vectorizer.transform(X_test_text))[2],\n",
    "           clf1_loaded_clf.predict_proba(clf1_loaded_vectorizer.transform(X_test_text))[3],\n",
    "           clf2_loaded_clf_pd.predict_proba(np.array(X_test_text.apply(lambda x : count_pd(x))).reshape(-1,1)),\n",
    "           clf2_loaded_clf_dm.predict_proba(np.array(X_test_text.apply(lambda x : count_dm(x))).reshape(-1,1)),\n",
    "           clf2_loaded_clf_as.predict_proba(np.array(X_test_text.apply(lambda x : count_as(x))).reshape(-1,1))\n",
    "]\n",
    ")\n",
    "\n",
    "assert new_X_train.shape[1] == new_X_test.shape[1]"
   ]
  },
  {
   "cell_type": "code",
   "execution_count": 940,
   "metadata": {},
   "outputs": [],
   "source": [
    "from sklearn.neural_network import MLPClassifier"
   ]
  },
  {
   "cell_type": "code",
   "execution_count": 996,
   "metadata": {},
   "outputs": [],
   "source": [
    "haha  = MultiOutputClassifier(MLPClassifier(hidden_layer_sizes=10, \n",
    "                                            activation='relu', alpha=0.0001,\n",
    "                                            learning_rate_init=0.03,\n",
    "                                            learning_rate='adaptive',\n",
    "                                            max_iter=1000)).fit(new_X_train, y_train)\n",
    "haha_prediction = haha.predict(new_X_test)"
   ]
  },
  {
   "cell_type": "code",
   "execution_count": 997,
   "metadata": {},
   "outputs": [
    {
     "name": "stdout",
     "output_type": "stream",
     "text": [
      "              precision    recall  f1-score   support\n",
      "\n",
      "           0       0.96      0.86      0.91        63\n",
      "           1       0.88      0.64      0.74        22\n",
      "           2       0.92      0.55      0.69        20\n",
      "           3       0.95      0.78      0.86        23\n",
      "\n",
      "   micro avg       0.94      0.76      0.84       128\n",
      "   macro avg       0.93      0.71      0.80       128\n",
      "weighted avg       0.94      0.76      0.83       128\n",
      " samples avg       0.86      0.79      0.81       128\n",
      "\n"
     ]
    },
    {
     "name": "stderr",
     "output_type": "stream",
     "text": [
      "/Users/carlosito/Documents/Virtual_Environment/hexamind/lib/python3.10/site-packages/sklearn/metrics/_classification.py:1344: UndefinedMetricWarning: Precision and F-score are ill-defined and being set to 0.0 in samples with no predicted labels. Use `zero_division` parameter to control this behavior.\n",
      "  _warn_prf(average, modifier, msg_start, len(result))\n",
      "/Users/carlosito/Documents/Virtual_Environment/hexamind/lib/python3.10/site-packages/sklearn/metrics/_classification.py:1344: UndefinedMetricWarning: Recall and F-score are ill-defined and being set to 0.0 in samples with no true labels. Use `zero_division` parameter to control this behavior.\n",
      "  _warn_prf(average, modifier, msg_start, len(result))\n"
     ]
    }
   ],
   "source": [
    "print(classification_report(y_test,\n",
    "                            haha_prediction))"
   ]
  },
  {
   "cell_type": "code",
   "execution_count": 898,
   "metadata": {},
   "outputs": [
    {
     "data": {
      "text/plain": [
       "(193, 2)"
      ]
     },
     "execution_count": 898,
     "metadata": {},
     "output_type": "execute_result"
    }
   ],
   "source": [
    "clf1_loaded_clf.predict_proba(clf1_loaded_vectorizer.transform(X_train_text))[1].shape"
   ]
  },
  {
   "cell_type": "code",
   "execution_count": 899,
   "metadata": {},
   "outputs": [
    {
     "data": {
      "text/plain": [
       "array([[0.89078832, 0.10921168],\n",
       "       [0.89078832, 0.10921168],\n",
       "       [0.89078832, 0.10921168],\n",
       "       [0.21448629, 0.78551371],\n",
       "       [0.21448629, 0.78551371],\n",
       "       [0.89078832, 0.10921168],\n",
       "       [0.89078832, 0.10921168],\n",
       "       [0.89078832, 0.10921168],\n",
       "       [0.89078832, 0.10921168],\n",
       "       [0.89078832, 0.10921168],\n",
       "       [0.89078832, 0.10921168],\n",
       "       [0.21448629, 0.78551371],\n",
       "       [0.89078832, 0.10921168],\n",
       "       [0.89078832, 0.10921168],\n",
       "       [0.21543153, 0.78456847],\n",
       "       [0.21543153, 0.78456847],\n",
       "       [0.21448629, 0.78551371],\n",
       "       [0.21448629, 0.78551371],\n",
       "       [0.89078832, 0.10921168],\n",
       "       [0.89078832, 0.10921168],\n",
       "       [0.21448629, 0.78551371],\n",
       "       [0.89078832, 0.10921168],\n",
       "       [0.21448629, 0.78551371],\n",
       "       [0.21448629, 0.78551371],\n",
       "       [0.89078832, 0.10921168],\n",
       "       [0.21448629, 0.78551371],\n",
       "       [0.21448629, 0.78551371],\n",
       "       [0.21563231, 0.78436769],\n",
       "       [0.89078832, 0.10921168],\n",
       "       [0.89078832, 0.10921168],\n",
       "       [0.89078832, 0.10921168],\n",
       "       [0.89078832, 0.10921168],\n",
       "       [0.89078832, 0.10921168],\n",
       "       [0.89078832, 0.10921168],\n",
       "       [0.89078832, 0.10921168],\n",
       "       [0.89078832, 0.10921168],\n",
       "       [0.89078832, 0.10921168],\n",
       "       [0.89078832, 0.10921168],\n",
       "       [0.21543153, 0.78456847],\n",
       "       [0.21448629, 0.78551371],\n",
       "       [0.21563231, 0.78436769],\n",
       "       [0.89078832, 0.10921168],\n",
       "       [0.89078832, 0.10921168],\n",
       "       [0.21543153, 0.78456847],\n",
       "       [0.89078832, 0.10921168],\n",
       "       [0.89078832, 0.10921168],\n",
       "       [0.21448629, 0.78551371],\n",
       "       [0.89078832, 0.10921168],\n",
       "       [0.89078832, 0.10921168],\n",
       "       [0.89078832, 0.10921168],\n",
       "       [0.89078832, 0.10921168],\n",
       "       [0.89078832, 0.10921168],\n",
       "       [0.21563231, 0.78436769],\n",
       "       [0.89078832, 0.10921168],\n",
       "       [0.21448629, 0.78551371],\n",
       "       [0.89078832, 0.10921168],\n",
       "       [0.89078832, 0.10921168],\n",
       "       [0.89078832, 0.10921168],\n",
       "       [0.21543153, 0.78456847],\n",
       "       [0.89078832, 0.10921168],\n",
       "       [0.21543153, 0.78456847],\n",
       "       [0.89078832, 0.10921168],\n",
       "       [0.89078832, 0.10921168],\n",
       "       [0.21448629, 0.78551371],\n",
       "       [0.89078832, 0.10921168],\n",
       "       [0.89078832, 0.10921168],\n",
       "       [0.89078832, 0.10921168],\n",
       "       [0.89078832, 0.10921168],\n",
       "       [0.89078832, 0.10921168],\n",
       "       [0.21543153, 0.78456847],\n",
       "       [0.89078832, 0.10921168],\n",
       "       [0.89078832, 0.10921168],\n",
       "       [0.89078832, 0.10921168],\n",
       "       [0.89078832, 0.10921168],\n",
       "       [0.89078832, 0.10921168],\n",
       "       [0.21448629, 0.78551371],\n",
       "       [0.89078832, 0.10921168],\n",
       "       [0.89078832, 0.10921168],\n",
       "       [0.21563231, 0.78436769],\n",
       "       [0.89078832, 0.10921168],\n",
       "       [0.89078832, 0.10921168],\n",
       "       [0.21543153, 0.78456847],\n",
       "       [0.89078832, 0.10921168],\n",
       "       [0.21448629, 0.78551371],\n",
       "       [0.89078832, 0.10921168],\n",
       "       [0.21563231, 0.78436769],\n",
       "       [0.21448629, 0.78551371],\n",
       "       [0.89078832, 0.10921168],\n",
       "       [0.89078832, 0.10921168],\n",
       "       [0.89078832, 0.10921168],\n",
       "       [0.89078832, 0.10921168],\n",
       "       [0.89078832, 0.10921168],\n",
       "       [0.89078832, 0.10921168],\n",
       "       [0.89078832, 0.10921168],\n",
       "       [0.21448629, 0.78551371],\n",
       "       [0.89078832, 0.10921168],\n",
       "       [0.89078832, 0.10921168],\n",
       "       [0.89078832, 0.10921168],\n",
       "       [0.89078832, 0.10921168],\n",
       "       [0.21448629, 0.78551371],\n",
       "       [0.89078832, 0.10921168],\n",
       "       [0.89078832, 0.10921168],\n",
       "       [0.89078832, 0.10921168],\n",
       "       [0.89078832, 0.10921168],\n",
       "       [0.89078832, 0.10921168],\n",
       "       [0.89078832, 0.10921168],\n",
       "       [0.21448629, 0.78551371],\n",
       "       [0.21448629, 0.78551371],\n",
       "       [0.89078832, 0.10921168],\n",
       "       [0.89078832, 0.10921168],\n",
       "       [0.89078832, 0.10921168],\n",
       "       [0.89078832, 0.10921168],\n",
       "       [0.89078832, 0.10921168],\n",
       "       [0.89078832, 0.10921168],\n",
       "       [0.89078832, 0.10921168],\n",
       "       [0.89078832, 0.10921168],\n",
       "       [0.89078832, 0.10921168],\n",
       "       [0.89078832, 0.10921168],\n",
       "       [0.89078832, 0.10921168],\n",
       "       [0.89078832, 0.10921168],\n",
       "       [0.89078832, 0.10921168],\n",
       "       [0.21448629, 0.78551371],\n",
       "       [0.89078832, 0.10921168],\n",
       "       [0.21448629, 0.78551371],\n",
       "       [0.21448629, 0.78551371],\n",
       "       [0.21543153, 0.78456847],\n",
       "       [0.89078832, 0.10921168],\n",
       "       [0.21448629, 0.78551371],\n",
       "       [0.21448629, 0.78551371],\n",
       "       [0.89078832, 0.10921168],\n",
       "       [0.21543153, 0.78456847],\n",
       "       [0.89078832, 0.10921168],\n",
       "       [0.89078832, 0.10921168],\n",
       "       [0.89078832, 0.10921168],\n",
       "       [0.89078832, 0.10921168],\n",
       "       [0.89078832, 0.10921168],\n",
       "       [0.21448629, 0.78551371],\n",
       "       [0.89078832, 0.10921168],\n",
       "       [0.89078832, 0.10921168],\n",
       "       [0.89078832, 0.10921168],\n",
       "       [0.89078832, 0.10921168],\n",
       "       [0.21563231, 0.78436769],\n",
       "       [0.89078832, 0.10921168],\n",
       "       [0.89078832, 0.10921168],\n",
       "       [0.21543153, 0.78456847],\n",
       "       [0.89078832, 0.10921168],\n",
       "       [0.89078832, 0.10921168],\n",
       "       [0.89078832, 0.10921168],\n",
       "       [0.21563231, 0.78436769],\n",
       "       [0.89078832, 0.10921168],\n",
       "       [0.89078832, 0.10921168],\n",
       "       [0.89078832, 0.10921168],\n",
       "       [0.89078832, 0.10921168],\n",
       "       [0.21448629, 0.78551371],\n",
       "       [0.89078832, 0.10921168],\n",
       "       [0.21563231, 0.78436769],\n",
       "       [0.89078832, 0.10921168],\n",
       "       [0.89078832, 0.10921168],\n",
       "       [0.89078832, 0.10921168],\n",
       "       [0.21563231, 0.78436769],\n",
       "       [0.89078832, 0.10921168],\n",
       "       [0.89078832, 0.10921168],\n",
       "       [0.89078832, 0.10921168],\n",
       "       [0.89078832, 0.10921168],\n",
       "       [0.21563231, 0.78436769],\n",
       "       [0.89078832, 0.10921168],\n",
       "       [0.89078832, 0.10921168],\n",
       "       [0.21543153, 0.78456847],\n",
       "       [0.89078832, 0.10921168],\n",
       "       [0.89078832, 0.10921168],\n",
       "       [0.21563231, 0.78436769],\n",
       "       [0.89078832, 0.10921168],\n",
       "       [0.89078832, 0.10921168],\n",
       "       [0.89078832, 0.10921168],\n",
       "       [0.21448629, 0.78551371],\n",
       "       [0.21448629, 0.78551371],\n",
       "       [0.89078832, 0.10921168],\n",
       "       [0.89078832, 0.10921168],\n",
       "       [0.89078832, 0.10921168],\n",
       "       [0.89078832, 0.10921168],\n",
       "       [0.21448629, 0.78551371],\n",
       "       [0.89078832, 0.10921168],\n",
       "       [0.89078832, 0.10921168],\n",
       "       [0.21448629, 0.78551371],\n",
       "       [0.89078832, 0.10921168],\n",
       "       [0.89078832, 0.10921168],\n",
       "       [0.89078832, 0.10921168],\n",
       "       [0.89078832, 0.10921168],\n",
       "       [0.89078832, 0.10921168],\n",
       "       [0.89078832, 0.10921168],\n",
       "       [0.21448629, 0.78551371],\n",
       "       [0.21448629, 0.78551371],\n",
       "       [0.89078832, 0.10921168]])"
      ]
     },
     "execution_count": 899,
     "metadata": {},
     "output_type": "execute_result"
    }
   ],
   "source": [
    "clf2_loaded_clf_as.predict_proba(np.array(X_train_text.apply(lambda x : count_as(x))).reshape(-1,1))"
   ]
  },
  {
   "cell_type": "code",
   "execution_count": 1001,
   "metadata": {},
   "outputs": [
    {
     "name": "stdout",
     "output_type": "stream",
     "text": [
      "class - Buying experience\n",
      "class - Product\n",
      "class - Delivery\n",
      "class - AfterSales\n"
     ]
    }
   ],
   "source": [
    "for c in range(4):\n",
    "    if c == 0:\n",
    "        print(\"class - Buying experience\")\n",
    "        be_prediction = clf1_loaded_clf.predict(clf1_loaded_vectorizer.transform(X_test_text))[: , 0]\n",
    "        \n",
    "    elif c == 1:\n",
    "        print(\"class - Product\")\n",
    "        clf1_pd_prediction_proba = clf1_loaded_clf.predict_proba(clf1_loaded_vectorizer.transform(X_test_text))[c]\n",
    "        clf2_pd_prediction_proba = clf2_loaded_clf_pd.predict_proba(np.array(X_test_text.apply(lambda x : count_pd(x))).reshape(-1,1))\n",
    "        final_prediction_pd = np.argmax((clf1_pd_prediction_proba + clf2_pd_prediction_proba) / 2, axis =1)\n",
    "        assert np.all([ensemble_prediction_pd == final_prediction_pd])\n",
    "        \n",
    "    elif c == 2:\n",
    "        print(\"class - Delivery\")\n",
    "        clf1_dm_prediction_proba = clf1_loaded_clf.predict_proba(clf1_loaded_vectorizer.transform(X_test_text))[c]\n",
    "        clf2_dm_prediction_proba = clf2_loaded_clf_dm.predict_proba(np.array(X_test_text.apply(lambda x : count_dm(x))).reshape(-1,1))\n",
    "        final_prediction_dm = np.argmax((clf1_dm_prediction_proba + clf2_dm_prediction_proba) / 2, axis =1)\n",
    "        assert np.all([ensemble_prediction_dm == final_prediction_dm])\n",
    "        \n",
    "    elif c == 3:\n",
    "        print(\"class - AfterSales\")\n",
    "        clf1_as_prediction_proba = clf1_loaded_clf.predict_proba(clf1_loaded_vectorizer.transform(X_test_text))[c]\n",
    "        clf2_as_prediction_proba = clf2_loaded_clf_as.predict_proba(np.array(X_test_text.apply(lambda x : count_as(x))).reshape(-1,1))\n",
    "        final_prediction_as = np.argmax((clf1_as_prediction_proba + clf2_as_prediction_proba) / 2, axis =1)\n",
    "        assert np.all([ensemble_prediction_as == final_prediction_as])"
   ]
  },
  {
   "cell_type": "code",
   "execution_count": 999,
   "metadata": {},
   "outputs": [
    {
     "data": {
      "text/plain": [
       "array([], dtype=int64)"
      ]
     },
     "execution_count": 999,
     "metadata": {},
     "output_type": "execute_result"
    }
   ],
   "source": [
    "be_prediction"
   ]
  },
  {
   "cell_type": "code",
   "execution_count": 1058,
   "metadata": {},
   "outputs": [],
   "source": [
    "new_X_train = np.vstack([clf1_loaded_clf.predict(clf1_loaded_vectorizer.transform(X_train_text))[: ,0],\n",
    "           clf1_loaded_clf.predict(clf1_loaded_vectorizer.transform(X_train_text))[:, 1],\n",
    "           clf1_loaded_clf.predict(clf1_loaded_vectorizer.transform(X_train_text))[:, 2],\n",
    "           clf1_loaded_clf.predict(clf1_loaded_vectorizer.transform(X_train_text))[:, 3],\n",
    "           clf2_loaded_clf_pd.predict(np.array(X_train_text.apply(lambda x : count_pd(x))).reshape(-1,1)),\n",
    "           clf2_loaded_clf_dm.predict(np.array(X_train_text.apply(lambda x : count_dm(x))).reshape(-1,1)),\n",
    "           clf2_loaded_clf_as.predict(np.array(X_train_text.apply(lambda x : count_as(x))).reshape(-1,1))\n",
    "]\n",
    ").T\n",
    "\n",
    "\n",
    "new_X_test = np.vstack([clf1_loaded_clf.predict(clf1_loaded_vectorizer.transform(X_test_text))[:, 0],\n",
    "           clf1_loaded_clf.predict(clf1_loaded_vectorizer.transform(X_test_text))[:, 1],\n",
    "           clf1_loaded_clf.predict(clf1_loaded_vectorizer.transform(X_test_text))[:, 2],\n",
    "           clf1_loaded_clf.predict(clf1_loaded_vectorizer.transform(X_test_text))[: ,3],\n",
    "           clf2_loaded_clf_pd.predict(np.array(X_test_text.apply(lambda x : count_pd(x))).reshape(-1,1)),\n",
    "           clf2_loaded_clf_dm.predict(np.array(X_test_text.apply(lambda x : count_dm(x))).reshape(-1,1)),\n",
    "           clf2_loaded_clf_as.predict(np.array(X_test_text.apply(lambda x : count_as(x))).reshape(-1,1))\n",
    "]\n",
    ").T\n",
    "\n",
    "assert new_X_train.shape[1] == new_X_test.shape[1]"
   ]
  },
  {
   "cell_type": "code",
   "execution_count": 1018,
   "metadata": {},
   "outputs": [
    {
     "data": {
      "text/plain": [
       "array([[1, 0, 0, ..., 1, 0, 0],\n",
       "       [0, 0, 1, ..., 1, 1, 0],\n",
       "       [1, 0, 1, ..., 1, 1, 0],\n",
       "       ...,\n",
       "       [0, 1, 1, ..., 1, 1, 1],\n",
       "       [1, 0, 1, ..., 1, 1, 1],\n",
       "       [0, 1, 0, ..., 1, 1, 0]])"
      ]
     },
     "execution_count": 1018,
     "metadata": {},
     "output_type": "execute_result"
    }
   ],
   "source": [
    "new_X_train"
   ]
  },
  {
   "cell_type": "code",
   "execution_count": 1071,
   "metadata": {},
   "outputs": [
    {
     "name": "stdout",
     "output_type": "stream",
     "text": [
      "              precision    recall  f1-score   support\n",
      "\n",
      "           0       0.97      0.94      0.95        63\n",
      "           1       0.88      0.68      0.77        22\n",
      "           2       0.85      0.55      0.67        20\n",
      "           3       1.00      0.61      0.76        23\n",
      "\n",
      "   micro avg       0.94      0.77      0.85       128\n",
      "   macro avg       0.92      0.69      0.79       128\n",
      "weighted avg       0.94      0.77      0.84       128\n",
      " samples avg       0.91      0.82      0.84       128\n",
      "\n"
     ]
    },
    {
     "name": "stderr",
     "output_type": "stream",
     "text": [
      "/Users/carlosito/Documents/Virtual_Environment/hexamind/lib/python3.10/site-packages/sklearn/metrics/_classification.py:1344: UndefinedMetricWarning: Precision and F-score are ill-defined and being set to 0.0 in samples with no predicted labels. Use `zero_division` parameter to control this behavior.\n",
      "  _warn_prf(average, modifier, msg_start, len(result))\n",
      "/Users/carlosito/Documents/Virtual_Environment/hexamind/lib/python3.10/site-packages/sklearn/metrics/_classification.py:1344: UndefinedMetricWarning: Recall and F-score are ill-defined and being set to 0.0 in samples with no true labels. Use `zero_division` parameter to control this behavior.\n",
      "  _warn_prf(average, modifier, msg_start, len(result))\n"
     ]
    }
   ],
   "source": [
    "haha  = MultiOutputClassifier(MLPClassifier(hidden_layer_sizes=10, \n",
    "                                            activation='relu', alpha=0.0001,\n",
    "                                            learning_rate_init=0.001,\n",
    "                                            learning_rate='adaptive',\n",
    "                                            max_iter=1000)).fit(new_X_train, y_train)\n",
    "haha_prediction = haha.predict(new_X_test)\n",
    "print(classification_report(y_test,\n",
    "                            haha_prediction))"
   ]
  },
  {
   "cell_type": "code",
   "execution_count": 1060,
   "metadata": {},
   "outputs": [
    {
     "name": "stdout",
     "output_type": "stream",
     "text": [
      "              precision    recall  f1-score   support\n",
      "\n",
      "           0       0.85      0.98      0.91        63\n",
      "           1       0.88      0.68      0.77        22\n",
      "           2       0.85      0.55      0.67        20\n",
      "           3       1.00      0.61      0.76        23\n",
      "\n",
      "   micro avg       0.87      0.80      0.83       128\n",
      "   macro avg       0.89      0.71      0.78       128\n",
      "weighted avg       0.88      0.80      0.82       128\n",
      " samples avg       0.89      0.85      0.84       128\n",
      "\n"
     ]
    },
    {
     "name": "stderr",
     "output_type": "stream",
     "text": [
      "/Users/carlosito/Documents/Virtual_Environment/hexamind/lib/python3.10/site-packages/sklearn/metrics/_classification.py:1344: UndefinedMetricWarning: Recall and F-score are ill-defined and being set to 0.0 in samples with no true labels. Use `zero_division` parameter to control this behavior.\n",
      "  _warn_prf(average, modifier, msg_start, len(result))\n"
     ]
    }
   ],
   "source": [
    "haha  = MultiOutputClassifier(MultinomialNB()).fit(new_X_train, y_train)\n",
    "haha_prediction = haha.predict(new_X_test)\n",
    "print(classification_report(y_test,\n",
    "                            haha_prediction))"
   ]
  },
  {
   "cell_type": "code",
   "execution_count": 1030,
   "metadata": {},
   "outputs": [
    {
     "name": "stdout",
     "output_type": "stream",
     "text": [
      "              precision    recall  f1-score   support\n",
      "\n",
      "           0       0.97      0.94      0.95        63\n",
      "           1       0.88      0.68      0.77        22\n",
      "           2       0.92      0.55      0.69        20\n",
      "           3       1.00      0.61      0.76        23\n",
      "\n",
      "   micro avg       0.95      0.77      0.85       128\n",
      "   macro avg       0.94      0.69      0.79       128\n",
      "weighted avg       0.95      0.77      0.84       128\n",
      " samples avg       0.91      0.82      0.84       128\n",
      "\n"
     ]
    },
    {
     "name": "stderr",
     "output_type": "stream",
     "text": [
      "/Users/carlosito/Documents/Virtual_Environment/hexamind/lib/python3.10/site-packages/sklearn/metrics/_classification.py:1344: UndefinedMetricWarning: Precision and F-score are ill-defined and being set to 0.0 in samples with no predicted labels. Use `zero_division` parameter to control this behavior.\n",
      "  _warn_prf(average, modifier, msg_start, len(result))\n",
      "/Users/carlosito/Documents/Virtual_Environment/hexamind/lib/python3.10/site-packages/sklearn/metrics/_classification.py:1344: UndefinedMetricWarning: Recall and F-score are ill-defined and being set to 0.0 in samples with no true labels. Use `zero_division` parameter to control this behavior.\n",
      "  _warn_prf(average, modifier, msg_start, len(result))\n"
     ]
    }
   ],
   "source": [
    "print(classification_report(y_test,\n",
    "                            haha_prediction))"
   ]
  },
  {
   "cell_type": "markdown",
   "metadata": {},
   "source": []
  },
  {
   "cell_type": "code",
   "execution_count": 1073,
   "metadata": {},
   "outputs": [
    {
     "ename": "NameError",
     "evalue": "name 'dsd' is not defined",
     "output_type": "error",
     "traceback": [
      "\u001b[0;31m---------------------------------------------------------------------------\u001b[0m",
      "\u001b[0;31mNameError\u001b[0m                                 Traceback (most recent call last)",
      "Cell \u001b[0;32mIn[1073], line 2\u001b[0m\n\u001b[1;32m      1\u001b[0m \u001b[39mfor\u001b[39;00m i \u001b[39min\u001b[39;00m \u001b[39mrange\u001b[39m(\u001b[39m5\u001b[39m):\n\u001b[0;32m----> 2\u001b[0m     dsd\n",
      "\u001b[0;31mNameError\u001b[0m: name 'dsd' is not defined"
     ]
    }
   ],
   "source": [
    "for sssss in range(5):\n",
    "    print(\"sth\")\n",
    "    print(sssss)"
   ]
  }
 ],
 "metadata": {
  "kernelspec": {
   "display_name": "hexamind",
   "language": "python",
   "name": "python3"
  },
  "language_info": {
   "codemirror_mode": {
    "name": "ipython",
    "version": 3
   },
   "file_extension": ".py",
   "mimetype": "text/x-python",
   "name": "python",
   "nbconvert_exporter": "python",
   "pygments_lexer": "ipython3",
   "version": "3.10.5"
  },
  "orig_nbformat": 4,
  "vscode": {
   "interpreter": {
    "hash": "83ceb7a9d071b30d29d4cde6898d7980a16db32f3fe51ca671b1430f04fd9275"
   }
  }
 },
 "nbformat": 4,
 "nbformat_minor": 2
}
