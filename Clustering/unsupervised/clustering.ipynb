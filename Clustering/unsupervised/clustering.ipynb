{
 "cells": [
  {
   "cell_type": "code",
   "execution_count": 2,
   "metadata": {},
   "outputs": [],
   "source": [
    "import numpy as np\n",
    "import pandas as pd\n",
    "import matplotlib.pyplot as plt\n",
    "import seaborn as sns\n",
    "\n",
    "from helper_functions import *"
   ]
  },
  {
   "cell_type": "code",
   "execution_count": 3,
   "metadata": {},
   "outputs": [
    {
     "data": {
      "text/html": [
       "<div>\n",
       "<style scoped>\n",
       "    .dataframe tbody tr th:only-of-type {\n",
       "        vertical-align: middle;\n",
       "    }\n",
       "\n",
       "    .dataframe tbody tr th {\n",
       "        vertical-align: top;\n",
       "    }\n",
       "\n",
       "    .dataframe thead th {\n",
       "        text-align: right;\n",
       "    }\n",
       "</style>\n",
       "<table border=\"1\" class=\"dataframe\">\n",
       "  <thead>\n",
       "    <tr style=\"text-align: right;\">\n",
       "      <th></th>\n",
       "      <th>titles</th>\n",
       "      <th>ratings</th>\n",
       "      <th>reviews</th>\n",
       "      <th>dates</th>\n",
       "      <th>replies</th>\n",
       "      <th>reply_dates</th>\n",
       "    </tr>\n",
       "  </thead>\n",
       "  <tbody>\n",
       "    <tr>\n",
       "      <th>0</th>\n",
       "      <td>Mais ou est ma commande???</td>\n",
       "      <td>1</td>\n",
       "      <td>Commande N° 609249735,toujours non livrée,pass...</td>\n",
       "      <td>2023-02-07T17:39:04.000Z</td>\n",
       "      <td>Bonjour, nous vous informons que nous avons pr...</td>\n",
       "      <td>2023-02-08T09:48:06.000Z</td>\n",
       "    </tr>\n",
       "    <tr>\n",
       "      <th>1</th>\n",
       "      <td>Cela fait plusieurs semaines même plus…</td>\n",
       "      <td>1</td>\n",
       "      <td>Magasin de Carrefour Trans en Provence 83\\nCel...</td>\n",
       "      <td>2023-02-06T14:48:53.000Z</td>\n",
       "      <td>NaN</td>\n",
       "      <td>NaN</td>\n",
       "    </tr>\n",
       "    <tr>\n",
       "      <th>2</th>\n",
       "      <td>Commande Deliveroo annulé !</td>\n",
       "      <td>1</td>\n",
       "      <td>Commande Deliveroo passé ce jour sans suite ca...</td>\n",
       "      <td>2023-02-08T10:54:56.000Z</td>\n",
       "      <td>Bonjour, nous vous remercions pour cette infor...</td>\n",
       "      <td>2023-02-08T12:59:53.000Z</td>\n",
       "    </tr>\n",
       "    <tr>\n",
       "      <th>3</th>\n",
       "      <td>une honte cette société qu'utilise…</td>\n",
       "      <td>1</td>\n",
       "      <td>une honte cette société qu'utilise Carrefour p...</td>\n",
       "      <td>2023-02-04T18:29:49.000Z</td>\n",
       "      <td>Bonjour, pourriez-vous nous communiquer votre ...</td>\n",
       "      <td>2023-02-05T08:17:54.000Z</td>\n",
       "    </tr>\n",
       "    <tr>\n",
       "      <th>4</th>\n",
       "      <td>Tout se passe bien chez Carrefour City…</td>\n",
       "      <td>1</td>\n",
       "      <td>Tout se passe bien chez Carrefour City sauf po...</td>\n",
       "      <td>2023-02-05T11:41:45.000Z</td>\n",
       "      <td>Bonjour, pouvez-vous nous préciser quel magasi...</td>\n",
       "      <td>2023-02-04T16:18:10.000Z</td>\n",
       "    </tr>\n",
       "  </tbody>\n",
       "</table>\n",
       "</div>"
      ],
      "text/plain": [
       "                                    titles  ratings  \\\n",
       "0               Mais ou est ma commande???        1   \n",
       "1  Cela fait plusieurs semaines même plus…        1   \n",
       "2              Commande Deliveroo annulé !        1   \n",
       "3      une honte cette société qu'utilise…        1   \n",
       "4  Tout se passe bien chez Carrefour City…        1   \n",
       "\n",
       "                                             reviews  \\\n",
       "0  Commande N° 609249735,toujours non livrée,pass...   \n",
       "1  Magasin de Carrefour Trans en Provence 83\\nCel...   \n",
       "2  Commande Deliveroo passé ce jour sans suite ca...   \n",
       "3  une honte cette société qu'utilise Carrefour p...   \n",
       "4  Tout se passe bien chez Carrefour City sauf po...   \n",
       "\n",
       "                      dates  \\\n",
       "0  2023-02-07T17:39:04.000Z   \n",
       "1  2023-02-06T14:48:53.000Z   \n",
       "2  2023-02-08T10:54:56.000Z   \n",
       "3  2023-02-04T18:29:49.000Z   \n",
       "4  2023-02-05T11:41:45.000Z   \n",
       "\n",
       "                                             replies               reply_dates  \n",
       "0  Bonjour, nous vous informons que nous avons pr...  2023-02-08T09:48:06.000Z  \n",
       "1                                                NaN                       NaN  \n",
       "2  Bonjour, nous vous remercions pour cette infor...  2023-02-08T12:59:53.000Z  \n",
       "3  Bonjour, pourriez-vous nous communiquer votre ...  2023-02-05T08:17:54.000Z  \n",
       "4  Bonjour, pouvez-vous nous préciser quel magasi...  2023-02-04T16:18:10.000Z  "
      ]
     },
     "execution_count": 3,
     "metadata": {},
     "output_type": "execute_result"
    }
   ],
   "source": [
    "FILEPATH = \"/Users/carlosito/Library/CloudStorage/OneDrive-Personal/Personal Document/Hexamind/hexamind_code/Carrefour/Clustering/Trustadvisor_Playground/reviews.csv\"\n",
    "df = pd.read_csv(FILEPATH, index_col=0)\n",
    "df.head()"
   ]
  },
  {
   "cell_type": "code",
   "execution_count": 4,
   "metadata": {},
   "outputs": [
    {
     "data": {
      "text/plain": [
       "(2000, 6)"
      ]
     },
     "execution_count": 4,
     "metadata": {},
     "output_type": "execute_result"
    }
   ],
   "source": [
    "df.shape"
   ]
  },
  {
   "cell_type": "code",
   "execution_count": 5,
   "metadata": {},
   "outputs": [],
   "source": [
    "clean_df = remove_and_combined(df,\n",
    "                    title_col='titles',\n",
    "                    review_col='reviews')\n",
    "# clean_df.to_csv('clean_df.csv')"
   ]
  },
  {
   "attachments": {},
   "cell_type": "markdown",
   "metadata": {},
   "source": [
    "## Plot some data visualizations"
   ]
  },
  {
   "cell_type": "code",
   "execution_count": 6,
   "metadata": {},
   "outputs": [
    {
     "data": {
      "text/plain": [
       "100.3715"
      ]
     },
     "execution_count": 6,
     "metadata": {},
     "output_type": "execute_result"
    }
   ],
   "source": [
    "df['combined_reviews'].str.split().apply(len).mean()"
   ]
  },
  {
   "attachments": {},
   "cell_type": "markdown",
   "metadata": {},
   "source": [
    "### Plot the `count of words by its length`"
   ]
  },
  {
   "cell_type": "code",
   "execution_count": 7,
   "metadata": {},
   "outputs": [
    {
     "data": {
      "text/plain": [
       "<matplotlib.legend.Legend at 0x13f99d3f0>"
      ]
     },
     "execution_count": 7,
     "metadata": {},
     "output_type": "execute_result"
    },
    {
     "data": {
      "image/png": "[encoded data removed]",
      "text/plain": [
       "<Figure size 640x480 with 1 Axes>"
      ]
     },
     "metadata": {},
     "output_type": "display_data"
    }
   ],
   "source": [
    "df['combined_reviews'].str.split().apply(len).hist(grid=False, bins=18)\n",
    "plt.vlines(x = df['combined_reviews'].str.split().apply(len).mean(), \n",
    "           ymin=0, ymax=600, color='red', label='Average word counts')\n",
    "plt.title('Words per review')\n",
    "plt.xlabel('Number of words')\n",
    "plt.xticks(np.arange(0,800, 50))\n",
    "plt.ylabel('Number of reviews')\n",
    "plt.legend()"
   ]
  },
  {
   "attachments": {},
   "cell_type": "markdown",
   "metadata": {},
   "source": [
    "### plot the boxplot of word lenght groupby star reviews"
   ]
  },
  {
   "cell_type": "code",
   "execution_count": 8,
   "metadata": {},
   "outputs": [
    {
     "data": {
      "text/html": [
       "<div>\n",
       "<style scoped>\n",
       "    .dataframe tbody tr th:only-of-type {\n",
       "        vertical-align: middle;\n",
       "    }\n",
       "\n",
       "    .dataframe tbody tr th {\n",
       "        vertical-align: top;\n",
       "    }\n",
       "\n",
       "    .dataframe thead th {\n",
       "        text-align: right;\n",
       "    }\n",
       "</style>\n",
       "<table border=\"1\" class=\"dataframe\">\n",
       "  <thead>\n",
       "    <tr style=\"text-align: right;\">\n",
       "      <th></th>\n",
       "      <th>titles</th>\n",
       "      <th>ratings</th>\n",
       "      <th>reviews</th>\n",
       "      <th>dates</th>\n",
       "      <th>replies</th>\n",
       "      <th>reply_dates</th>\n",
       "      <th>clean_review</th>\n",
       "      <th>combined_reviews</th>\n",
       "      <th>reviews_len</th>\n",
       "    </tr>\n",
       "  </thead>\n",
       "  <tbody>\n",
       "    <tr>\n",
       "      <th>0</th>\n",
       "      <td>Mais ou est ma commande???</td>\n",
       "      <td>1</td>\n",
       "      <td>Commande N° 609249735,toujours non livrée,pass...</td>\n",
       "      <td>2023-02-07T17:39:04.000Z</td>\n",
       "      <td>Bonjour, nous vous informons que nous avons pr...</td>\n",
       "      <td>2023-02-08T09:48:06.000Z</td>\n",
       "      <td>Commande N° 609249735,toujours non livrée,pass...</td>\n",
       "      <td>Mais ou est ma commande??? Commande N° 6092497...</td>\n",
       "      <td>45</td>\n",
       "    </tr>\n",
       "    <tr>\n",
       "      <th>1</th>\n",
       "      <td>Cela fait plusieurs semaines même plus…</td>\n",
       "      <td>1</td>\n",
       "      <td>Magasin de Carrefour Trans en Provence 83\\nCel...</td>\n",
       "      <td>2023-02-06T14:48:53.000Z</td>\n",
       "      <td>NaN</td>\n",
       "      <td>NaN</td>\n",
       "      <td>Magasin de Carrefour Trans en Provence 83Cela ...</td>\n",
       "      <td>Cela fait plusieurs semaines même plus… Magasi...</td>\n",
       "      <td>63</td>\n",
       "    </tr>\n",
       "    <tr>\n",
       "      <th>2</th>\n",
       "      <td>Commande Deliveroo annulé !</td>\n",
       "      <td>1</td>\n",
       "      <td>Commande Deliveroo passé ce jour sans suite ca...</td>\n",
       "      <td>2023-02-08T10:54:56.000Z</td>\n",
       "      <td>Bonjour, nous vous remercions pour cette infor...</td>\n",
       "      <td>2023-02-08T12:59:53.000Z</td>\n",
       "      <td>Commande Deliveroo passé ce jour sans suite ca...</td>\n",
       "      <td>Commande Deliveroo annulé ! Commande Deliveroo...</td>\n",
       "      <td>97</td>\n",
       "    </tr>\n",
       "    <tr>\n",
       "      <th>3</th>\n",
       "      <td>une honte cette société qu'utilise…</td>\n",
       "      <td>1</td>\n",
       "      <td>une honte cette société qu'utilise Carrefour p...</td>\n",
       "      <td>2023-02-04T18:29:49.000Z</td>\n",
       "      <td>Bonjour, pourriez-vous nous communiquer votre ...</td>\n",
       "      <td>2023-02-05T08:17:54.000Z</td>\n",
       "      <td>une honte cette société qu'utilise Carrefour p...</td>\n",
       "      <td>une honte cette société qu'utilise… une honte ...</td>\n",
       "      <td>86</td>\n",
       "    </tr>\n",
       "    <tr>\n",
       "      <th>4</th>\n",
       "      <td>Tout se passe bien chez Carrefour City…</td>\n",
       "      <td>1</td>\n",
       "      <td>Tout se passe bien chez Carrefour City sauf po...</td>\n",
       "      <td>2023-02-05T11:41:45.000Z</td>\n",
       "      <td>Bonjour, pouvez-vous nous préciser quel magasi...</td>\n",
       "      <td>2023-02-04T16:18:10.000Z</td>\n",
       "      <td>Tout se passe bien chez Carrefour City sauf po...</td>\n",
       "      <td>Tout se passe bien chez Carrefour City… Tout s...</td>\n",
       "      <td>84</td>\n",
       "    </tr>\n",
       "  </tbody>\n",
       "</table>\n",
       "</div>"
      ],
      "text/plain": [
       "                                    titles  ratings  \\\n",
       "0               Mais ou est ma commande???        1   \n",
       "1  Cela fait plusieurs semaines même plus…        1   \n",
       "2              Commande Deliveroo annulé !        1   \n",
       "3      une honte cette société qu'utilise…        1   \n",
       "4  Tout se passe bien chez Carrefour City…        1   \n",
       "\n",
       "                                             reviews  \\\n",
       "0  Commande N° 609249735,toujours non livrée,pass...   \n",
       "1  Magasin de Carrefour Trans en Provence 83\\nCel...   \n",
       "2  Commande Deliveroo passé ce jour sans suite ca...   \n",
       "3  une honte cette société qu'utilise Carrefour p...   \n",
       "4  Tout se passe bien chez Carrefour City sauf po...   \n",
       "\n",
       "                      dates  \\\n",
       "0  2023-02-07T17:39:04.000Z   \n",
       "1  2023-02-06T14:48:53.000Z   \n",
       "2  2023-02-08T10:54:56.000Z   \n",
       "3  2023-02-04T18:29:49.000Z   \n",
       "4  2023-02-05T11:41:45.000Z   \n",
       "\n",
       "                                             replies  \\\n",
       "0  Bonjour, nous vous informons que nous avons pr...   \n",
       "1                                                NaN   \n",
       "2  Bonjour, nous vous remercions pour cette infor...   \n",
       "3  Bonjour, pourriez-vous nous communiquer votre ...   \n",
       "4  Bonjour, pouvez-vous nous préciser quel magasi...   \n",
       "\n",
       "                reply_dates  \\\n",
       "0  2023-02-08T09:48:06.000Z   \n",
       "1                       NaN   \n",
       "2  2023-02-08T12:59:53.000Z   \n",
       "3  2023-02-05T08:17:54.000Z   \n",
       "4  2023-02-04T16:18:10.000Z   \n",
       "\n",
       "                                        clean_review  \\\n",
       "0  Commande N° 609249735,toujours non livrée,pass...   \n",
       "1  Magasin de Carrefour Trans en Provence 83Cela ...   \n",
       "2  Commande Deliveroo passé ce jour sans suite ca...   \n",
       "3  une honte cette société qu'utilise Carrefour p...   \n",
       "4  Tout se passe bien chez Carrefour City sauf po...   \n",
       "\n",
       "                                    combined_reviews  reviews_len  \n",
       "0  Mais ou est ma commande??? Commande N° 6092497...           45  \n",
       "1  Cela fait plusieurs semaines même plus… Magasi...           63  \n",
       "2  Commande Deliveroo annulé ! Commande Deliveroo...           97  \n",
       "3  une honte cette société qu'utilise… une honte ...           86  \n",
       "4  Tout se passe bien chez Carrefour City… Tout s...           84  "
      ]
     },
     "execution_count": 8,
     "metadata": {},
     "output_type": "execute_result"
    }
   ],
   "source": [
    "df['reviews_len']  = df['combined_reviews'].str.split().apply(len)\n",
    "df.head()"
   ]
  },
  {
   "cell_type": "code",
   "execution_count": 9,
   "metadata": {},
   "outputs": [
    {
     "data": {
      "text/html": [
       "<div>\n",
       "<style scoped>\n",
       "    .dataframe tbody tr th:only-of-type {\n",
       "        vertical-align: middle;\n",
       "    }\n",
       "\n",
       "    .dataframe tbody tr th {\n",
       "        vertical-align: top;\n",
       "    }\n",
       "\n",
       "    .dataframe thead tr th {\n",
       "        text-align: left;\n",
       "    }\n",
       "\n",
       "    .dataframe thead tr:last-of-type th {\n",
       "        text-align: right;\n",
       "    }\n",
       "</style>\n",
       "<table border=\"1\" class=\"dataframe\">\n",
       "  <thead>\n",
       "    <tr>\n",
       "      <th></th>\n",
       "      <th>combined_reviews</th>\n",
       "      <th colspan=\"3\" halign=\"left\">reviews_len</th>\n",
       "    </tr>\n",
       "    <tr>\n",
       "      <th></th>\n",
       "      <th>count</th>\n",
       "      <th>mean</th>\n",
       "      <th>max</th>\n",
       "      <th>std</th>\n",
       "    </tr>\n",
       "    <tr>\n",
       "      <th>ratings</th>\n",
       "      <th></th>\n",
       "      <th></th>\n",
       "      <th></th>\n",
       "      <th></th>\n",
       "    </tr>\n",
       "  </thead>\n",
       "  <tbody>\n",
       "    <tr>\n",
       "      <th>1</th>\n",
       "      <td>1551</td>\n",
       "      <td>107.676338</td>\n",
       "      <td>846</td>\n",
       "      <td>94.389370</td>\n",
       "    </tr>\n",
       "    <tr>\n",
       "      <th>2</th>\n",
       "      <td>145</td>\n",
       "      <td>96.524138</td>\n",
       "      <td>599</td>\n",
       "      <td>88.235251</td>\n",
       "    </tr>\n",
       "    <tr>\n",
       "      <th>3</th>\n",
       "      <td>82</td>\n",
       "      <td>71.670732</td>\n",
       "      <td>397</td>\n",
       "      <td>72.185299</td>\n",
       "    </tr>\n",
       "    <tr>\n",
       "      <th>4</th>\n",
       "      <td>70</td>\n",
       "      <td>81.171429</td>\n",
       "      <td>640</td>\n",
       "      <td>97.099825</td>\n",
       "    </tr>\n",
       "    <tr>\n",
       "      <th>5</th>\n",
       "      <td>152</td>\n",
       "      <td>53.828947</td>\n",
       "      <td>316</td>\n",
       "      <td>52.218057</td>\n",
       "    </tr>\n",
       "  </tbody>\n",
       "</table>\n",
       "</div>"
      ],
      "text/plain": [
       "        combined_reviews reviews_len                \n",
       "                   count        mean  max        std\n",
       "ratings                                             \n",
       "1                   1551  107.676338  846  94.389370\n",
       "2                    145   96.524138  599  88.235251\n",
       "3                     82   71.670732  397  72.185299\n",
       "4                     70   81.171429  640  97.099825\n",
       "5                    152   53.828947  316  52.218057"
      ]
     },
     "execution_count": 9,
     "metadata": {},
     "output_type": "execute_result"
    }
   ],
   "source": [
    "clean_df.groupby('ratings').aggregate({'combined_reviews' : ['count'],\n",
    "                                       'reviews_len': ['mean', 'max', 'std']})"
   ]
  },
  {
   "cell_type": "code",
   "execution_count": 10,
   "metadata": {},
   "outputs": [
    {
     "data": {
      "text/plain": [
       "<AxesSubplot: xlabel='ratings', ylabel='reviews_len'>"
      ]
     },
     "execution_count": 10,
     "metadata": {},
     "output_type": "execute_result"
    },
    {
     "data": {
      "image/png": "[encoded data removed]",
      "text/plain": [
       "<Figure size 640x480 with 1 Axes>"
      ]
     },
     "metadata": {},
     "output_type": "display_data"
    }
   ],
   "source": [
    "sns.boxplot(data=clean_df,\n",
    "            x = 'ratings',\n",
    "            y = 'reviews_len')"
   ]
  },
  {
   "cell_type": "code",
   "execution_count": 11,
   "metadata": {},
   "outputs": [
    {
     "ename": "ValueError",
     "evalue": "Cannot take a larger sample than population when 'replace=False'",
     "output_type": "error",
     "traceback": [
      "\u001b[0;31m---------------------------------------------------------------------------\u001b[0m",
      "\u001b[0;31mValueError\u001b[0m                                Traceback (most recent call last)",
      "Cell \u001b[0;32mIn[11], line 2\u001b[0m\n\u001b[1;32m      1\u001b[0m sht \u001b[39m=\u001b[39m clean_df[clean_df[\u001b[39m'\u001b[39m\u001b[39mratings\u001b[39m\u001b[39m'\u001b[39m] \u001b[39m==\u001b[39m \u001b[39m5\u001b[39m]\u001b[39m.\u001b[39mindex\n\u001b[0;32m----> 2\u001b[0m np\u001b[39m.\u001b[39;49mrandom\u001b[39m.\u001b[39;49mchoice(sht, size \u001b[39m=\u001b[39;49m \u001b[39m200\u001b[39;49m, replace\u001b[39m=\u001b[39;49m\u001b[39mFalse\u001b[39;49;00m)\n",
      "File \u001b[0;32mmtrand.pyx:984\u001b[0m, in \u001b[0;36mnumpy.random.mtrand.RandomState.choice\u001b[0;34m()\u001b[0m\n",
      "\u001b[0;31mValueError\u001b[0m: Cannot take a larger sample than population when 'replace=False'"
     ]
    }
   ],
   "source": [
    "sht = clean_df[clean_df['ratings'] == 5].index\n",
    "np.random.choice(sht, size = 200, replace=False)"
   ]
  },
  {
   "cell_type": "code",
   "execution_count": 13,
   "metadata": {},
   "outputs": [
    {
     "data": {
      "text/plain": [
       "(234, 9)"
      ]
     },
     "execution_count": 13,
     "metadata": {},
     "output_type": "execute_result"
    }
   ],
   "source": [
    "clean_df[clean_df['ratings'].isin( [3,5])].shape"
   ]
  },
  {
   "attachments": {},
   "cell_type": "markdown",
   "metadata": {},
   "source": [
    "To make sure we have the reviews sample from diffent star ratings, we loop through the dataframe and extract index to create demo sample size. As we see the hugely imbalanced dataset toward 1-star review, we limit the number of review from that classs to 200, and for other 2 - 5 star classes, we keep all the reviews because each class has less than 150 reviews"
   ]
  },
  {
   "cell_type": "code",
   "execution_count": 14,
   "metadata": {},
   "outputs": [
    {
     "name": "stdout",
     "output_type": "stream",
     "text": [
      "rating: 1\n",
      "(1551, 9)\n",
      "200\n",
      "\n",
      "rating: 2\n",
      "(145, 9)\n",
      "345\n",
      "\n",
      "rating: 3\n",
      "(82, 9)\n",
      "427\n",
      "\n",
      "rating: 4\n",
      "(70, 9)\n",
      "497\n",
      "\n",
      "rating: 5\n",
      "(152, 9)\n",
      "649\n",
      "\n"
     ]
    }
   ],
   "source": [
    "n_per_rating = 200\n",
    "selected_idx = []\n",
    "for star in range(1,6):\n",
    "    print(f'rating: {star}')\n",
    "    print(clean_df[clean_df['ratings'] == star].shape)\n",
    "    if star == 1:\n",
    "        np.random.seed(42)\n",
    "        index_list = clean_df[clean_df['ratings'] == star].index\n",
    "        index = np.random.choice(a = index_list,\n",
    "                        size = n_per_rating,\n",
    "                        replace=False)\n",
    "        print(len(index))\n",
    "        selected_idx.extend(index)\n",
    "        print()\n",
    "        \n",
    "    else:\n",
    "        index_list = clean_df[clean_df['ratings'] == star].index\n",
    "        selected_idx.extend(index_list)\n",
    "        print(len(selected_idx))\n",
    "        print()\n",
    "    "
   ]
  },
  {
   "cell_type": "code",
   "execution_count": 15,
   "metadata": {},
   "outputs": [
    {
     "data": {
      "text/plain": [
       "649"
      ]
     },
     "execution_count": 15,
     "metadata": {},
     "output_type": "execute_result"
    }
   ],
   "source": [
    "len(selected_idx)"
   ]
  },
  {
   "cell_type": "code",
   "execution_count": 17,
   "metadata": {},
   "outputs": [],
   "source": [
    "selected_df = clean_df.iloc[selected_idx, :]\n",
    "selected_df.shape\n",
    "# selected_df.to_csv('selected_df.csv')"
   ]
  },
  {
   "attachments": {},
   "cell_type": "markdown",
   "metadata": {},
   "source": [
    "---"
   ]
  },
  {
   "attachments": {},
   "cell_type": "markdown",
   "metadata": {},
   "source": [
    "# Call the pre-trained model"
   ]
  },
  {
   "cell_type": "code",
   "execution_count": 99,
   "metadata": {},
   "outputs": [],
   "source": [
    "import torch\n",
    "from transformers import AutoModel, AutoTokenizer"
   ]
  },
  {
   "cell_type": "code",
   "execution_count": 152,
   "metadata": {},
   "outputs": [
    {
     "name": "stderr",
     "output_type": "stream",
     "text": [
      "Some weights of the model checkpoint at flaubert/flaubert_base_cased were not used when initializing FlaubertModel: ['pred_layer.proj.bias', 'pred_layer.proj.weight']\n",
      "- This IS expected if you are initializing FlaubertModel from the checkpoint of a model trained on another task or with another architecture (e.g. initializing a BertForSequenceClassification model from a BertForPreTraining model).\n",
      "- This IS NOT expected if you are initializing FlaubertModel from the checkpoint of a model that you expect to be exactly identical (initializing a BertForSequenceClassification model from a BertForSequenceClassification model).\n"
     ]
    }
   ],
   "source": [
    "modelname = 'flaubert/flaubert_base_cased'\n",
    "flaubert_model = AutoModel.from_pretrained(modelname)\n",
    "flaubert_tokenizer = AutoTokenizer.from_pretrained(modelname,\n",
    "                                                   max_length = 512)"
   ]
  },
  {
   "cell_type": "code",
   "execution_count": 153,
   "metadata": {},
   "outputs": [
    {
     "name": "stdout",
     "output_type": "stream",
     "text": [
      "tensor([[    0,   107,  1029,    42,    83, 28454,     1]]) 7\n"
     ]
    }
   ],
   "source": [
    "sample_text = \"Je parle pas bien francais\"\n",
    "token_ids = torch.tensor([flaubert_tokenizer.encode(sample_text,)])\n",
    "print(token_ids, len(token_ids[0]))"
   ]
  },
  {
   "cell_type": "code",
   "execution_count": 154,
   "metadata": {},
   "outputs": [
    {
     "name": "stdout",
     "output_type": "stream",
     "text": [
      "torch.Size([1, 7, 768])\n",
      "torch.Size([1, 768])\n"
     ]
    }
   ],
   "source": [
    "# torch.Size([1, 8, 768])  -> (batch size x number of tokens x embedding dimension)\n",
    "print(flaubert_model(token_ids)[0].shape)\n",
    "\n",
    "last_layer = flaubert_model(token_ids)[0]\n",
    "# The BERT [CLS] token correspond to the first hidden state of the last layer\n",
    "cls_embedding = last_layer[:, 0, :]\n",
    "print(cls_embedding.shape)"
   ]
  },
  {
   "cell_type": "code",
   "execution_count": 159,
   "metadata": {},
   "outputs": [
    {
     "data": {
      "text/plain": [
       "512"
      ]
     },
     "execution_count": 159,
     "metadata": {},
     "output_type": "execute_result"
    }
   ],
   "source": [
    "flaubert_tokenizer.model_max_length"
   ]
  },
  {
   "cell_type": "code",
   "execution_count": 160,
   "metadata": {},
   "outputs": [
    {
     "name": "stdout",
     "output_type": "stream",
     "text": [
      "torch.Size([1, 768])\n"
     ]
    }
   ],
   "source": [
    "def return_embed(text):\n",
    "    token_ids = torch.tensor([flaubert_tokenizer.encode(text,\n",
    "                                                        max_length= 512,\n",
    "                                                        truncation=True)])\n",
    "    last_layer = flaubert_model(token_ids)[0]\n",
    "    cls_embedding = last_layer[:, 0, :]\n",
    "    \n",
    "    assert cls_embedding.shape == (1,768)\n",
    "    return cls_embedding\n",
    "\n",
    "print(return_embed(sample_text).shape)"
   ]
  },
  {
   "cell_type": "code",
   "execution_count": 161,
   "metadata": {},
   "outputs": [
    {
     "data": {
      "text/plain": [
       "\"Aucun SAV à éviter Nous avons commandé et reçu une tablette,  à un prix très avantageux, jusque là, après avoir lu les autres avis, nous avons été chanceux. Après quelques utilisations, elle refuse de s'allumer. Nous avons encore eu la chance de réussir à contacter le SAV à l'étranger, bien entendu. Mais le courriel qui devait nous permettre de renvoyer la tablette ne nous est jamais parvenu. Depuis impossible de joindre le SAV, comme les autres, nous  patientons 5 minutes puis on nous annonce que personne ne peut nous répondre. Les courriels ne sont pas plus efficaces : réponse automatique sans suite...\""
      ]
     },
     "execution_count": 161,
     "metadata": {},
     "output_type": "execute_result"
    }
   ],
   "source": [
    "selected_df.iloc[0]['combined_reviews']"
   ]
  },
  {
   "cell_type": "code",
   "execution_count": 162,
   "metadata": {},
   "outputs": [
    {
     "name": "stderr",
     "output_type": "stream",
     "text": [
      "/var/folders/tl/rdcj6pp130g_pdpr6thc58qr0000gn/T/ipykernel_9132/189584944.py:1: SettingWithCopyWarning: \n",
      "A value is trying to be set on a copy of a slice from a DataFrame.\n",
      "Try using .loc[row_indexer,col_indexer] = value instead\n",
      "\n",
      "See the caveats in the documentation: https://pandas.pydata.org/pandas-docs/stable/user_guide/indexing.html#returning-a-view-versus-a-copy\n",
      "  selected_df['flaubert_embedding'] = 0\n"
     ]
    }
   ],
   "source": [
    "selected_df['flaubert_embedding'] = 0"
   ]
  },
  {
   "cell_type": "code",
   "execution_count": 163,
   "metadata": {},
   "outputs": [],
   "source": [
    "selected_df['combined_reviews'].apply(lambda x: return_embed(x) )"
   ]
  },
  {
   "attachments": {},
   "cell_type": "markdown",
   "metadata": {},
   "source": [
    "### To speed up the process of embedding with `Flaubert`\n",
    "I moved to Colab for faster speed processing thanks to GPU, then download the dataframe with the resulting embedding here"
   ]
  },
  {
   "cell_type": "markdown",
   "metadata": {},
   "source": []
  }
 ],
 "metadata": {
  "kernelspec": {
   "display_name": "hexamind",
   "language": "python",
   "name": "python3"
  },
  "language_info": {
   "codemirror_mode": {
    "name": "ipython",
    "version": 3
   },
   "file_extension": ".py",
   "mimetype": "text/x-python",
   "name": "python",
   "nbconvert_exporter": "python",
   "pygments_lexer": "ipython3",
   "version": "3.10.5"
  },
  "orig_nbformat": 4,
  "vscode": {
   "interpreter": {
    "hash": "83ceb7a9d071b30d29d4cde6898d7980a16db32f3fe51ca671b1430f04fd9275"
   }
  }
 },
 "nbformat": 4,
 "nbformat_minor": 2
}
