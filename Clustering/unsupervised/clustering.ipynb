{
 "cells": [
  {
   "cell_type": "code",
   "execution_count": 1,
   "metadata": {},
   "outputs": [],
   "source": [
    "import numpy as np\n",
    "import pandas as pd\n",
    "import matplotlib.pyplot as plt\n",
    "\n",
    "from helper_functions import *"
   ]
  },
  {
   "cell_type": "code",
   "execution_count": 2,
   "metadata": {},
   "outputs": [
    {
     "data": {
      "text/html": [
       "<div>\n",
       "<style scoped>\n",
       "    .dataframe tbody tr th:only-of-type {\n",
       "        vertical-align: middle;\n",
       "    }\n",
       "\n",
       "    .dataframe tbody tr th {\n",
       "        vertical-align: top;\n",
       "    }\n",
       "\n",
       "    .dataframe thead th {\n",
       "        text-align: right;\n",
       "    }\n",
       "</style>\n",
       "<table border=\"1\" class=\"dataframe\">\n",
       "  <thead>\n",
       "    <tr style=\"text-align: right;\">\n",
       "      <th></th>\n",
       "      <th>titles</th>\n",
       "      <th>ratings</th>\n",
       "      <th>reviews</th>\n",
       "      <th>dates</th>\n",
       "      <th>replies</th>\n",
       "      <th>reply_dates</th>\n",
       "    </tr>\n",
       "  </thead>\n",
       "  <tbody>\n",
       "    <tr>\n",
       "      <th>0</th>\n",
       "      <td>Mais ou est ma commande???</td>\n",
       "      <td>1</td>\n",
       "      <td>Commande N° 609249735,toujours non livrée,pass...</td>\n",
       "      <td>2023-02-07T17:39:04.000Z</td>\n",
       "      <td>Bonjour, nous vous informons que nous avons pr...</td>\n",
       "      <td>2023-02-08T09:48:06.000Z</td>\n",
       "    </tr>\n",
       "    <tr>\n",
       "      <th>1</th>\n",
       "      <td>Cela fait plusieurs semaines même plus…</td>\n",
       "      <td>1</td>\n",
       "      <td>Magasin de Carrefour Trans en Provence 83\\nCel...</td>\n",
       "      <td>2023-02-06T14:48:53.000Z</td>\n",
       "      <td>NaN</td>\n",
       "      <td>NaN</td>\n",
       "    </tr>\n",
       "    <tr>\n",
       "      <th>2</th>\n",
       "      <td>Commande Deliveroo annulé !</td>\n",
       "      <td>1</td>\n",
       "      <td>Commande Deliveroo passé ce jour sans suite ca...</td>\n",
       "      <td>2023-02-08T10:54:56.000Z</td>\n",
       "      <td>Bonjour, nous vous remercions pour cette infor...</td>\n",
       "      <td>2023-02-08T12:59:53.000Z</td>\n",
       "    </tr>\n",
       "    <tr>\n",
       "      <th>3</th>\n",
       "      <td>une honte cette société qu'utilise…</td>\n",
       "      <td>1</td>\n",
       "      <td>une honte cette société qu'utilise Carrefour p...</td>\n",
       "      <td>2023-02-04T18:29:49.000Z</td>\n",
       "      <td>Bonjour, pourriez-vous nous communiquer votre ...</td>\n",
       "      <td>2023-02-05T08:17:54.000Z</td>\n",
       "    </tr>\n",
       "    <tr>\n",
       "      <th>4</th>\n",
       "      <td>Tout se passe bien chez Carrefour City…</td>\n",
       "      <td>1</td>\n",
       "      <td>Tout se passe bien chez Carrefour City sauf po...</td>\n",
       "      <td>2023-02-05T11:41:45.000Z</td>\n",
       "      <td>Bonjour, pouvez-vous nous préciser quel magasi...</td>\n",
       "      <td>2023-02-04T16:18:10.000Z</td>\n",
       "    </tr>\n",
       "  </tbody>\n",
       "</table>\n",
       "</div>"
      ],
      "text/plain": [
       "                                    titles  ratings  \\\n",
       "0               Mais ou est ma commande???        1   \n",
       "1  Cela fait plusieurs semaines même plus…        1   \n",
       "2              Commande Deliveroo annulé !        1   \n",
       "3      une honte cette société qu'utilise…        1   \n",
       "4  Tout se passe bien chez Carrefour City…        1   \n",
       "\n",
       "                                             reviews  \\\n",
       "0  Commande N° 609249735,toujours non livrée,pass...   \n",
       "1  Magasin de Carrefour Trans en Provence 83\\nCel...   \n",
       "2  Commande Deliveroo passé ce jour sans suite ca...   \n",
       "3  une honte cette société qu'utilise Carrefour p...   \n",
       "4  Tout se passe bien chez Carrefour City sauf po...   \n",
       "\n",
       "                      dates  \\\n",
       "0  2023-02-07T17:39:04.000Z   \n",
       "1  2023-02-06T14:48:53.000Z   \n",
       "2  2023-02-08T10:54:56.000Z   \n",
       "3  2023-02-04T18:29:49.000Z   \n",
       "4  2023-02-05T11:41:45.000Z   \n",
       "\n",
       "                                             replies               reply_dates  \n",
       "0  Bonjour, nous vous informons que nous avons pr...  2023-02-08T09:48:06.000Z  \n",
       "1                                                NaN                       NaN  \n",
       "2  Bonjour, nous vous remercions pour cette infor...  2023-02-08T12:59:53.000Z  \n",
       "3  Bonjour, pourriez-vous nous communiquer votre ...  2023-02-05T08:17:54.000Z  \n",
       "4  Bonjour, pouvez-vous nous préciser quel magasi...  2023-02-04T16:18:10.000Z  "
      ]
     },
     "execution_count": 2,
     "metadata": {},
     "output_type": "execute_result"
    }
   ],
   "source": [
    "FILEPATH = \"/Users/carlosito/Library/CloudStorage/OneDrive-Personal/Personal Document/Hexamind/hexamind_code/Carrefour/Clustering/Trustadvisor_Playground/reviews.csv\"\n",
    "df = pd.read_csv(FILEPATH, index_col=0)\n",
    "df.head()"
   ]
  },
  {
   "cell_type": "code",
   "execution_count": 3,
   "metadata": {},
   "outputs": [
    {
     "data": {
      "text/plain": [
       "(2000, 6)"
      ]
     },
     "execution_count": 3,
     "metadata": {},
     "output_type": "execute_result"
    }
   ],
   "source": [
    "df.shape"
   ]
  },
  {
   "cell_type": "code",
   "execution_count": 5,
   "metadata": {},
   "outputs": [],
   "source": [
    "clean_df = remove_and_combined(df,\n",
    "                    title_col='titles',\n",
    "                    review_col='reviews')\n",
    "clean_df.to_csv('clean_df.csv')"
   ]
  },
  {
   "cell_type": "code",
   "execution_count": null,
   "metadata": {},
   "outputs": [],
   "source": []
  }
 ],
 "metadata": {
  "kernelspec": {
   "display_name": "hexamind",
   "language": "python",
   "name": "python3"
  },
  "language_info": {
   "codemirror_mode": {
    "name": "ipython",
    "version": 3
   },
   "file_extension": ".py",
   "mimetype": "text/x-python",
   "name": "python",
   "nbconvert_exporter": "python",
   "pygments_lexer": "ipython3",
   "version": "3.10.5"
  },
  "orig_nbformat": 4,
  "vscode": {
   "interpreter": {
    "hash": "83ceb7a9d071b30d29d4cde6898d7980a16db32f3fe51ca671b1430f04fd9275"
   }
  }
 },
 "nbformat": 4,
 "nbformat_minor": 2
}
