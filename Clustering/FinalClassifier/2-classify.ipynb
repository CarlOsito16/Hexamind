{
 "cells": [
  {
   "cell_type": "code",
   "execution_count": 2,
   "metadata": {},
   "outputs": [],
   "source": [
    "import numpy as np\n",
    "import pandas as pd \n",
    "import matplotlib.pyplot as plt\n",
    "import seaborn as sns\n",
    "\n",
    "import joblib\n",
    "import os"
   ]
  },
  {
   "attachments": {},
   "cell_type": "markdown",
   "metadata": {},
   "source": [
    "# Call the dataframe"
   ]
  },
  {
   "cell_type": "code",
   "execution_count": 3,
   "metadata": {},
   "outputs": [
    {
     "data": {
      "text/plain": [
       "'/Users/carlosito/Library/CloudStorage/OneDrive-Personal/Personal Document/Hexamind/hexamind_code/Carrefour/Clustering/FinalClassifier'"
      ]
     },
     "execution_count": 3,
     "metadata": {},
     "output_type": "execute_result"
    }
   ],
   "source": [
    "os.getcwd()"
   ]
  },
  {
   "cell_type": "code",
   "execution_count": 4,
   "metadata": {},
   "outputs": [],
   "source": [
    "CARREFOUR_FILEPATH = \"data/final_carrefour_df.csv\"\n",
    "df = pd.read_csv(CARREFOUR_FILEPATH, index_col=0)"
   ]
  },
  {
   "attachments": {},
   "cell_type": "markdown",
   "metadata": {},
   "source": [
    "## Call the multi-label classifier tokenizer and model and have prediction"
   ]
  },
  {
   "cell_type": "code",
   "execution_count": 5,
   "metadata": {},
   "outputs": [],
   "source": [
    "CLF_MODEL_FILEPATH  = \"model/clf_bayes.sav\"\n",
    "loaded_clf = joblib.load(CLF_MODEL_FILEPATH)\n",
    "\n",
    "TOKENIZER_FILEPATH = \"model/tokenizer.sav\"\n",
    "loaded_tokenizer = joblib.load(TOKENIZER_FILEPATH)"
   ]
  },
  {
   "cell_type": "code",
   "execution_count": 6,
   "metadata": {},
   "outputs": [],
   "source": [
    "def create_combined_reviews(titles, reviews):\n",
    "    if pd.isna(reviews):\n",
    "        combined_reviews = titles\n",
    "    else:\n",
    "        combined_reviews = titles + \" \" + reviews\n",
    "        \n",
    "    return combined_reviews"
   ]
  },
  {
   "cell_type": "code",
   "execution_count": 7,
   "metadata": {},
   "outputs": [],
   "source": [
    "df['combined_reviews'] = np.vectorize(create_combined_reviews)(df.titles, df.reviews)\n",
    "assert ~df['combined_reviews'].isnull().any()"
   ]
  },
  {
   "cell_type": "code",
   "execution_count": 8,
   "metadata": {},
   "outputs": [
    {
     "data": {
      "text/html": [
       "<div>\n",
       "<style scoped>\n",
       "    .dataframe tbody tr th:only-of-type {\n",
       "        vertical-align: middle;\n",
       "    }\n",
       "\n",
       "    .dataframe tbody tr th {\n",
       "        vertical-align: top;\n",
       "    }\n",
       "\n",
       "    .dataframe thead th {\n",
       "        text-align: right;\n",
       "    }\n",
       "</style>\n",
       "<table border=\"1\" class=\"dataframe\">\n",
       "  <thead>\n",
       "    <tr style=\"text-align: right;\">\n",
       "      <th></th>\n",
       "      <th>titles</th>\n",
       "      <th>ratings</th>\n",
       "      <th>reviews</th>\n",
       "      <th>dates</th>\n",
       "      <th>replies</th>\n",
       "      <th>reply_dates</th>\n",
       "      <th>combined_reviews</th>\n",
       "    </tr>\n",
       "  </thead>\n",
       "  <tbody>\n",
       "    <tr>\n",
       "      <th>0</th>\n",
       "      <td>Après carrefour banque qui m’attribue…</td>\n",
       "      <td>1</td>\n",
       "      <td>Après carrefour banque qui m’attribue un plafo...</td>\n",
       "      <td>2023-03-02T09:25:46.000Z</td>\n",
       "      <td>Bonjour, pouvez-vous s'il vous plait nous comm...</td>\n",
       "      <td>2023-03-02T11:18:49.000Z</td>\n",
       "      <td>Après carrefour banque qui m’attribue… Après c...</td>\n",
       "    </tr>\n",
       "    <tr>\n",
       "      <th>1</th>\n",
       "      <td>Produits higt tech .</td>\n",
       "      <td>2</td>\n",
       "      <td>Produits higt tech .\\nAcheté 3 mascottes jo 20...</td>\n",
       "      <td>2023-03-02T18:24:09.000Z</td>\n",
       "      <td>Bonjour, nous vous invitons à nous rejoindre s...</td>\n",
       "      <td>2023-03-03T07:45:39.000Z</td>\n",
       "      <td>Produits higt tech . Produits higt tech .\\nAch...</td>\n",
       "    </tr>\n",
       "    <tr>\n",
       "      <th>2</th>\n",
       "      <td>Tout d'abord Carrefour Givors c'est…</td>\n",
       "      <td>2</td>\n",
       "      <td>Tout d'abord Carrefour Givors c'est inadmissib...</td>\n",
       "      <td>2023-02-27T19:08:37.000Z</td>\n",
       "      <td>Bonjour, contact pris avec votre magasin, celu...</td>\n",
       "      <td>2023-02-28T16:01:08.000Z</td>\n",
       "      <td>Tout d'abord Carrefour Givors c'est… Tout d'ab...</td>\n",
       "    </tr>\n",
       "    <tr>\n",
       "      <th>3</th>\n",
       "      <td>Carrefour Jeuxey Epinal une catastrophe !! L</td>\n",
       "      <td>1</td>\n",
       "      <td>Ras le bol des rayons vides a toute heure !! I...</td>\n",
       "      <td>2023-02-28T17:39:59.000Z</td>\n",
       "      <td>Merci. Pourriez-vous nous indiquer quels sont ...</td>\n",
       "      <td>2023-03-01T08:29:13.000Z</td>\n",
       "      <td>Carrefour Jeuxey Epinal une catastrophe !! L R...</td>\n",
       "    </tr>\n",
       "    <tr>\n",
       "      <th>4</th>\n",
       "      <td>Carrefour Saint André les Vergers…</td>\n",
       "      <td>1</td>\n",
       "      <td>Carrefour Saint André les Vergers (aube)\\n450 ...</td>\n",
       "      <td>2023-03-02T22:25:42.000Z</td>\n",
       "      <td>NaN</td>\n",
       "      <td>NaN</td>\n",
       "      <td>Carrefour Saint André les Vergers… Carrefour S...</td>\n",
       "    </tr>\n",
       "  </tbody>\n",
       "</table>\n",
       "</div>"
      ],
      "text/plain": [
       "                                         titles  ratings  \\\n",
       "0        Après carrefour banque qui m’attribue…        1   \n",
       "1                          Produits higt tech .        2   \n",
       "2          Tout d'abord Carrefour Givors c'est…        2   \n",
       "3  Carrefour Jeuxey Epinal une catastrophe !! L        1   \n",
       "4            Carrefour Saint André les Vergers…        1   \n",
       "\n",
       "                                             reviews  \\\n",
       "0  Après carrefour banque qui m’attribue un plafo...   \n",
       "1  Produits higt tech .\\nAcheté 3 mascottes jo 20...   \n",
       "2  Tout d'abord Carrefour Givors c'est inadmissib...   \n",
       "3  Ras le bol des rayons vides a toute heure !! I...   \n",
       "4  Carrefour Saint André les Vergers (aube)\\n450 ...   \n",
       "\n",
       "                      dates  \\\n",
       "0  2023-03-02T09:25:46.000Z   \n",
       "1  2023-03-02T18:24:09.000Z   \n",
       "2  2023-02-27T19:08:37.000Z   \n",
       "3  2023-02-28T17:39:59.000Z   \n",
       "4  2023-03-02T22:25:42.000Z   \n",
       "\n",
       "                                             replies  \\\n",
       "0  Bonjour, pouvez-vous s'il vous plait nous comm...   \n",
       "1  Bonjour, nous vous invitons à nous rejoindre s...   \n",
       "2  Bonjour, contact pris avec votre magasin, celu...   \n",
       "3  Merci. Pourriez-vous nous indiquer quels sont ...   \n",
       "4                                                NaN   \n",
       "\n",
       "                reply_dates                                   combined_reviews  \n",
       "0  2023-03-02T11:18:49.000Z  Après carrefour banque qui m’attribue… Après c...  \n",
       "1  2023-03-03T07:45:39.000Z  Produits higt tech . Produits higt tech .\\nAch...  \n",
       "2  2023-02-28T16:01:08.000Z  Tout d'abord Carrefour Givors c'est… Tout d'ab...  \n",
       "3  2023-03-01T08:29:13.000Z  Carrefour Jeuxey Epinal une catastrophe !! L R...  \n",
       "4                       NaN  Carrefour Saint André les Vergers… Carrefour S...  "
      ]
     },
     "execution_count": 8,
     "metadata": {},
     "output_type": "execute_result"
    }
   ],
   "source": [
    "df[: 5]"
   ]
  },
  {
   "attachments": {},
   "cell_type": "markdown",
   "metadata": {},
   "source": [
    "## Classfify"
   ]
  },
  {
   "attachments": {},
   "cell_type": "markdown",
   "metadata": {},
   "source": [
    "# "
   ]
  },
  {
   "cell_type": "code",
   "execution_count": 11,
   "metadata": {},
   "outputs": [
    {
     "data": {
      "text/plain": [
       "(2000, 4)"
      ]
     },
     "execution_count": 11,
     "metadata": {},
     "output_type": "execute_result"
    }
   ],
   "source": [
    "prediction = loaded_clf.predict(loaded_tokenizer.transform(df.combined_reviews)).toarray()\n",
    "prediction.shape"
   ]
  },
  {
   "attachments": {
    "image.png": {
     "image/png": "[encoded data removed]"
    }
   },
   "cell_type": "markdown",
   "metadata": {},
   "source": [
    "![image.png](attachment:image.png)"
   ]
  },
  {
   "cell_type": "code",
   "execution_count": 13,
   "metadata": {},
   "outputs": [],
   "source": [
    "BE_class = prediction[:, 1]\n",
    "PD_class = prediction[:, 3]\n",
    "DM_class = prediction[:, 2]\n",
    "AS_class = prediction[:, 0]"
   ]
  },
  {
   "cell_type": "code",
   "execution_count": 16,
   "metadata": {},
   "outputs": [
    {
     "name": "stdout",
     "output_type": "stream",
     "text": [
      "(2000, 4)\n",
      "[1511  292  493  690]\n"
     ]
    }
   ],
   "source": [
    "prediction = np.vstack([BE_class, PD_class, DM_class, AS_class]).T\n",
    "print(prediction.shape)\n",
    "print(prediction.sum(axis = 0))"
   ]
  },
  {
   "cell_type": "code",
   "execution_count": 21,
   "metadata": {},
   "outputs": [
    {
     "data": {
      "text/html": [
       "<div>\n",
       "<style scoped>\n",
       "    .dataframe tbody tr th:only-of-type {\n",
       "        vertical-align: middle;\n",
       "    }\n",
       "\n",
       "    .dataframe tbody tr th {\n",
       "        vertical-align: top;\n",
       "    }\n",
       "\n",
       "    .dataframe thead th {\n",
       "        text-align: right;\n",
       "    }\n",
       "</style>\n",
       "<table border=\"1\" class=\"dataframe\">\n",
       "  <thead>\n",
       "    <tr style=\"text-align: right;\">\n",
       "      <th></th>\n",
       "      <th>clean_BE</th>\n",
       "      <th>clean_PD</th>\n",
       "      <th>clean_DM</th>\n",
       "      <th>clean_AS</th>\n",
       "    </tr>\n",
       "  </thead>\n",
       "  <tbody>\n",
       "    <tr>\n",
       "      <th>0</th>\n",
       "      <td>1</td>\n",
       "      <td>0</td>\n",
       "      <td>0</td>\n",
       "      <td>1</td>\n",
       "    </tr>\n",
       "    <tr>\n",
       "      <th>1</th>\n",
       "      <td>0</td>\n",
       "      <td>0</td>\n",
       "      <td>0</td>\n",
       "      <td>1</td>\n",
       "    </tr>\n",
       "    <tr>\n",
       "      <th>2</th>\n",
       "      <td>1</td>\n",
       "      <td>0</td>\n",
       "      <td>0</td>\n",
       "      <td>0</td>\n",
       "    </tr>\n",
       "    <tr>\n",
       "      <th>3</th>\n",
       "      <td>1</td>\n",
       "      <td>0</td>\n",
       "      <td>0</td>\n",
       "      <td>0</td>\n",
       "    </tr>\n",
       "    <tr>\n",
       "      <th>4</th>\n",
       "      <td>1</td>\n",
       "      <td>0</td>\n",
       "      <td>0</td>\n",
       "      <td>0</td>\n",
       "    </tr>\n",
       "  </tbody>\n",
       "</table>\n",
       "</div>"
      ],
      "text/plain": [
       "   clean_BE  clean_PD  clean_DM  clean_AS\n",
       "0         1         0         0         1\n",
       "1         0         0         0         1\n",
       "2         1         0         0         0\n",
       "3         1         0         0         0\n",
       "4         1         0         0         0"
      ]
     },
     "execution_count": 21,
     "metadata": {},
     "output_type": "execute_result"
    }
   ],
   "source": [
    "new_columns = ['clean_BE', 'clean_PD', 'clean_DM', 'clean_AS']\n",
    "prediction_df = pd.DataFrame(prediction, columns=new_columns)\n",
    "prediction_df.head()\n"
   ]
  },
  {
   "cell_type": "code",
   "execution_count": 26,
   "metadata": {},
   "outputs": [
    {
     "data": {
      "text/html": [
       "<div>\n",
       "<style scoped>\n",
       "    .dataframe tbody tr th:only-of-type {\n",
       "        vertical-align: middle;\n",
       "    }\n",
       "\n",
       "    .dataframe tbody tr th {\n",
       "        vertical-align: top;\n",
       "    }\n",
       "\n",
       "    .dataframe thead th {\n",
       "        text-align: right;\n",
       "    }\n",
       "</style>\n",
       "<table border=\"1\" class=\"dataframe\">\n",
       "  <thead>\n",
       "    <tr style=\"text-align: right;\">\n",
       "      <th></th>\n",
       "      <th>titles</th>\n",
       "      <th>ratings</th>\n",
       "      <th>reviews</th>\n",
       "      <th>dates</th>\n",
       "      <th>replies</th>\n",
       "      <th>reply_dates</th>\n",
       "      <th>combined_reviews</th>\n",
       "      <th>clean_BE</th>\n",
       "      <th>clean_PD</th>\n",
       "      <th>clean_DM</th>\n",
       "      <th>clean_AS</th>\n",
       "    </tr>\n",
       "  </thead>\n",
       "  <tbody>\n",
       "    <tr>\n",
       "      <th>0</th>\n",
       "      <td>Après carrefour banque qui m’attribue…</td>\n",
       "      <td>1</td>\n",
       "      <td>Après carrefour banque qui m’attribue un plafo...</td>\n",
       "      <td>2023-03-02T09:25:46.000Z</td>\n",
       "      <td>Bonjour, pouvez-vous s'il vous plait nous comm...</td>\n",
       "      <td>2023-03-02T11:18:49.000Z</td>\n",
       "      <td>Après carrefour banque qui m’attribue… Après c...</td>\n",
       "      <td>1</td>\n",
       "      <td>0</td>\n",
       "      <td>0</td>\n",
       "      <td>1</td>\n",
       "    </tr>\n",
       "    <tr>\n",
       "      <th>1</th>\n",
       "      <td>Produits higt tech .</td>\n",
       "      <td>2</td>\n",
       "      <td>Produits higt tech .\\nAcheté 3 mascottes jo 20...</td>\n",
       "      <td>2023-03-02T18:24:09.000Z</td>\n",
       "      <td>Bonjour, nous vous invitons à nous rejoindre s...</td>\n",
       "      <td>2023-03-03T07:45:39.000Z</td>\n",
       "      <td>Produits higt tech . Produits higt tech .\\nAch...</td>\n",
       "      <td>0</td>\n",
       "      <td>0</td>\n",
       "      <td>0</td>\n",
       "      <td>1</td>\n",
       "    </tr>\n",
       "    <tr>\n",
       "      <th>2</th>\n",
       "      <td>Tout d'abord Carrefour Givors c'est…</td>\n",
       "      <td>2</td>\n",
       "      <td>Tout d'abord Carrefour Givors c'est inadmissib...</td>\n",
       "      <td>2023-02-27T19:08:37.000Z</td>\n",
       "      <td>Bonjour, contact pris avec votre magasin, celu...</td>\n",
       "      <td>2023-02-28T16:01:08.000Z</td>\n",
       "      <td>Tout d'abord Carrefour Givors c'est… Tout d'ab...</td>\n",
       "      <td>1</td>\n",
       "      <td>0</td>\n",
       "      <td>0</td>\n",
       "      <td>0</td>\n",
       "    </tr>\n",
       "    <tr>\n",
       "      <th>3</th>\n",
       "      <td>Carrefour Jeuxey Epinal une catastrophe !! L</td>\n",
       "      <td>1</td>\n",
       "      <td>Ras le bol des rayons vides a toute heure !! I...</td>\n",
       "      <td>2023-02-28T17:39:59.000Z</td>\n",
       "      <td>Merci. Pourriez-vous nous indiquer quels sont ...</td>\n",
       "      <td>2023-03-01T08:29:13.000Z</td>\n",
       "      <td>Carrefour Jeuxey Epinal une catastrophe !! L R...</td>\n",
       "      <td>1</td>\n",
       "      <td>0</td>\n",
       "      <td>0</td>\n",
       "      <td>0</td>\n",
       "    </tr>\n",
       "    <tr>\n",
       "      <th>4</th>\n",
       "      <td>Carrefour Saint André les Vergers…</td>\n",
       "      <td>1</td>\n",
       "      <td>Carrefour Saint André les Vergers (aube)\\n450 ...</td>\n",
       "      <td>2023-03-02T22:25:42.000Z</td>\n",
       "      <td>NaN</td>\n",
       "      <td>NaN</td>\n",
       "      <td>Carrefour Saint André les Vergers… Carrefour S...</td>\n",
       "      <td>1</td>\n",
       "      <td>0</td>\n",
       "      <td>0</td>\n",
       "      <td>0</td>\n",
       "    </tr>\n",
       "  </tbody>\n",
       "</table>\n",
       "</div>"
      ],
      "text/plain": [
       "                                         titles  ratings  \\\n",
       "0        Après carrefour banque qui m’attribue…        1   \n",
       "1                          Produits higt tech .        2   \n",
       "2          Tout d'abord Carrefour Givors c'est…        2   \n",
       "3  Carrefour Jeuxey Epinal une catastrophe !! L        1   \n",
       "4            Carrefour Saint André les Vergers…        1   \n",
       "\n",
       "                                             reviews  \\\n",
       "0  Après carrefour banque qui m’attribue un plafo...   \n",
       "1  Produits higt tech .\\nAcheté 3 mascottes jo 20...   \n",
       "2  Tout d'abord Carrefour Givors c'est inadmissib...   \n",
       "3  Ras le bol des rayons vides a toute heure !! I...   \n",
       "4  Carrefour Saint André les Vergers (aube)\\n450 ...   \n",
       "\n",
       "                      dates  \\\n",
       "0  2023-03-02T09:25:46.000Z   \n",
       "1  2023-03-02T18:24:09.000Z   \n",
       "2  2023-02-27T19:08:37.000Z   \n",
       "3  2023-02-28T17:39:59.000Z   \n",
       "4  2023-03-02T22:25:42.000Z   \n",
       "\n",
       "                                             replies  \\\n",
       "0  Bonjour, pouvez-vous s'il vous plait nous comm...   \n",
       "1  Bonjour, nous vous invitons à nous rejoindre s...   \n",
       "2  Bonjour, contact pris avec votre magasin, celu...   \n",
       "3  Merci. Pourriez-vous nous indiquer quels sont ...   \n",
       "4                                                NaN   \n",
       "\n",
       "                reply_dates  \\\n",
       "0  2023-03-02T11:18:49.000Z   \n",
       "1  2023-03-03T07:45:39.000Z   \n",
       "2  2023-02-28T16:01:08.000Z   \n",
       "3  2023-03-01T08:29:13.000Z   \n",
       "4                       NaN   \n",
       "\n",
       "                                    combined_reviews  clean_BE  clean_PD  \\\n",
       "0  Après carrefour banque qui m’attribue… Après c...         1         0   \n",
       "1  Produits higt tech . Produits higt tech .\\nAch...         0         0   \n",
       "2  Tout d'abord Carrefour Givors c'est… Tout d'ab...         1         0   \n",
       "3  Carrefour Jeuxey Epinal une catastrophe !! L R...         1         0   \n",
       "4  Carrefour Saint André les Vergers… Carrefour S...         1         0   \n",
       "\n",
       "   clean_DM  clean_AS  \n",
       "0         0         1  \n",
       "1         0         1  \n",
       "2         0         0  \n",
       "3         0         0  \n",
       "4         0         0  "
      ]
     },
     "execution_count": 26,
     "metadata": {},
     "output_type": "execute_result"
    }
   ],
   "source": [
    "final_df = pd.concat([df, prediction_df], axis=1)\n",
    "final_df.head()"
   ]
  },
  {
   "cell_type": "code",
   "execution_count": 32,
   "metadata": {},
   "outputs": [],
   "source": [
    "final_df.to_csv('final_carrefour_df_with_label.csv')"
   ]
  }
 ],
 "metadata": {
  "kernelspec": {
   "display_name": "hexamind",
   "language": "python",
   "name": "python3"
  },
  "language_info": {
   "codemirror_mode": {
    "name": "ipython",
    "version": 3
   },
   "file_extension": ".py",
   "mimetype": "text/x-python",
   "name": "python",
   "nbconvert_exporter": "python",
   "pygments_lexer": "ipython3",
   "version": "3.10.5"
  },
  "orig_nbformat": 4,
  "vscode": {
   "interpreter": {
    "hash": "83ceb7a9d071b30d29d4cde6898d7980a16db32f3fe51ca671b1430f04fd9275"
   }
  }
 },
 "nbformat": 4,
 "nbformat_minor": 2
}
